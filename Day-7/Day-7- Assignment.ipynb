{
 "cells": [
  {
   "cell_type": "markdown",
   "metadata": {},
   "source": [
    "### 3 Question 1:\n",
    "Attach the dataset and mentioned problem statement below,\n",
    "\n",
    "● A sizable department has to be maintained, for the purposes of recruiting new talent\n",
    "\n",
    "● More often than not, the new employees have to be trained for the job and/or given time to\n",
    "acclimatize themselves to the company\n",
    "\n",
    "● Hence, the management has contracted an HR analytics firm to understand what factors they\n",
    "should focus on, in order to curb attrition.\n",
    "\n",
    "● In other words, they want to know what changes they should make to their workplace, in order to\n",
    "get most of their employees to stay.\n",
    "\n",
    "● Also, they want to know which of these variables is most important and needs to be addressed\n",
    "right away."
   ]
  },
  {
   "cell_type": "code",
   "execution_count": null,
   "metadata": {},
   "outputs": [],
   "source": []
  }
 ],
 "metadata": {
  "kernelspec": {
   "display_name": "Python 3",
   "language": "python",
   "name": "python3"
  },
  "language_info": {
   "codemirror_mode": {
    "name": "ipython",
    "version": 3
   },
   "file_extension": ".py",
   "mimetype": "text/x-python",
   "name": "python",
   "nbconvert_exporter": "python",
   "pygments_lexer": "ipython3",
   "version": "3.6.10"
  }
 },
 "nbformat": 4,
 "nbformat_minor": 4
}
