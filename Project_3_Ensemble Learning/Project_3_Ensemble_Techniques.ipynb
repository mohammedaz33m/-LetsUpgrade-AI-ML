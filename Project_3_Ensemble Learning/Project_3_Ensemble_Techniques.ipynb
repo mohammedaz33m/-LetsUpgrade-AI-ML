{
 "cells": [
  {
   "cell_type": "markdown",
   "metadata": {},
   "source": [
    "# Ensemble technique"
   ]
  },
  {
   "cell_type": "markdown",
   "metadata": {},
   "source": [
    "__Data Description__:  \n",
    "\n",
    "_The data is related with direct marketing campaigns of a\n",
    "Portuguese banking institution. The marketing campaigns\n",
    "were based on phone calls. Often, more than one contact to\n",
    "the same client was required, in order to access if the product\n",
    "(bank term deposit) would be ('yes') or not ('no') subscribed._\n",
    "\n",
    " __Domain : Banking__\n",
    " \n",
    " \n",
    "__Context:__\n",
    "\n",
    "Leveraging customer information is paramount for most\n",
    "businesses. In the case of a bank, attributes of customers like\n",
    "the ones mentioned below can be crucial in strategizing a\n",
    "marketing campaign when launching a new product.\n",
    "\n",
    "__Attribute Information:__\n",
    "1. __age__ (numeric)\n",
    "\n",
    "2. __job__ : type of job (categorical:\n",
    "'admin.','blue-collar','entrepreneur','housemaid','manage\n",
    "ment','retired','self-employed','services','student','technicia\n",
    "n','unemployed','unknown')\n",
    "\n",
    "3. __marital__ : marital status (categorical:\n",
    "'divorced','married','single','unknown'; note: 'divorced'\n",
    "means divorced or widowed)\n",
    "\n",
    "4. __education__ (categorical:\n",
    "'basic.4y','basic.6y','basic.9y','high.school','illiterate','profes\n",
    "sional.course','university.degree','unknown')\n",
    "\n",
    "5. __default: has credit in default?__ (categorical:\n",
    "'no','yes','unknown')\n",
    "\n",
    "6. __balance__: average yearly balance, in euros (numeric)\n",
    "\n",
    "7. __housing__: has housing loan? (categorical:\n",
    "'no','yes','unknown')\n",
    "\n",
    "8. __loan__: has personal loan? (categorical: 'no','yes','unknown')\n",
    "\n",
    "9. __contact__: contact communication type (categorical:\n",
    "'cellular','telephone')\n",
    "\n",
    "10. __day__: last contact day of the month (numeric 1 -31)\n",
    "\n",
    "11. __month__: last contact month of year (categorical: 'jan', 'feb',\n",
    "'mar', ..., 'nov', 'dec')\n",
    "\n",
    "12. __duration__: last contact duration, in seconds (numeric).\n",
    "Important note: this attribute highly affects the output\n",
    "target (e.g., if duration=0 then y='no'). Yet, the duration is\n",
    "not known before a call is performed. Also, after the end\n",
    "of the call y is obviously known. Thus, this input should\n",
    "only be included for benchmark purposes and should be\n",
    "discarded if the intention is to have a realistic predictive\n",
    "model.\n",
    "\n",
    "13. __campaign__: number of contacts performed during this\n",
    "campaign and for this client (numeric, includes last\n",
    "contact)\n",
    "\n",
    "14. __pdays__: number of days that passed by after the client\n",
    "was last contacted from a previous campaign (numeric;\n",
    "999 means client was not previously contacted)\n",
    "\n",
    "15. __previous__: number of contacts performed before this\n",
    "campaign and for this client (numeric)\n",
    "\n",
    "16. __poutcome__: outcome of the previous marketing\n",
    "campaign (categorical: 'failure','nonexistent','success')\n",
    "17.target: has the client subscribed a term deposit? (binary:\n",
    "\"yes\",\"no\")\n",
    "\n"
   ]
  },
  {
   "cell_type": "markdown",
   "metadata": {},
   "source": [
    "# Steps"
   ]
  },
  {
   "cell_type": "markdown",
   "metadata": {},
   "source": [
    "__Exploratory data Analysis__\n",
    "\n",
    "- Missing values handling\n",
    "\n",
    "- 5 point summary, calulate IQR\n",
    "\n",
    "- Detect outliers if any & solve them\n",
    "\n",
    "- Data distribution identification: Normal/ skewness\n",
    "\n",
    "- Get correlation values, perform data balancing\n",
    "\n",
    "__Dta Pre-processing__\n",
    "\n",
    "- Label encoding.\n",
    "\n",
    "- change data types if needed\n",
    "\n",
    "- handle outliers with mean replacements\n",
    "\n",
    "- pairplot  to know the feature importance\n",
    "\n",
    "-  Scale the data, standardize it if needed\n",
    "\n",
    "__Split the data -Train, Test,__\n",
    "\n",
    "\n",
    "__Model Building__: \n",
    "\n",
    "- Logistic regression, \n",
    "\n",
    "- Naive Bayes, \n",
    "\n",
    "- KNN, \n",
    "\n",
    "- SVM\n",
    "\n",
    "__Ensembel Methods__\n",
    "\n",
    "- Decision Tree\n",
    "\n",
    "- Feture importance test for DT\n",
    "\n",
    "- pruning of DT\n",
    "\n",
    "- Bagging \n",
    "\n",
    "- Adaptive Boosting\n",
    "\n",
    "- Gradient Boosting\n",
    "\n",
    "- Random Forest\n",
    "\n",
    "__Models With accuracy score__\n",
    "\n",
    "\n",
    "__Conclusion__\n",
    "\n",
    "- Comments n data set\n",
    "\n",
    "- Comments on Models\n",
    "\n",
    "- Miscellaneous comments"
   ]
  },
  {
   "cell_type": "code",
   "execution_count": 55,
   "metadata": {},
   "outputs": [],
   "source": [
    "import pandas as pd\n",
    "import numpy as np\n",
    "import matplotlib.pyplot as plt\n",
    "import seaborn as sns\n",
    "\n",
    "from scipy.stats import pearsonr\n",
    "\n",
    "from sklearn.model_selection import train_test_split\n",
    "from sklearn.preprocessing import StandardScaler, MinMaxScaler, RobustScaler\n",
    "from sklearn.linear_model import LogisticRegression\n",
    "from sklearn.naive_bayes import GaussianNB\n",
    "from sklearn.svm import SVC\n",
    "from sklearn.tree import DecisionTreeClassifier\n",
    "\n",
    "from IPython.display import Image\n",
    "from os import system\n",
    "\n",
    "from sklearn.ensemble import BaggingClassifier\n",
    "from sklearn.ensemble import AdaBoostClassifier\n",
    "from sklearn.ensemble import GradientBoostingClassifier\n",
    "from sklearn.preprocessing import LabelEncoder\n",
    "\n",
    "from sklearn.tree import export_graphviz\n",
    "from sklearn.externals.six import StringIO\n",
    "# import pydotplus\n",
    "from statistics import median,mean\n",
    "\n",
    "from sklearn.metrics import accuracy_score, confusion_matrix, classification_report\n",
    "from sklearn.metrics import roc_auc_score,precision_score,recall_score"
   ]
  },
  {
   "cell_type": "code",
   "execution_count": 56,
   "metadata": {},
   "outputs": [
    {
     "data": {
      "text/html": [
       "<div>\n",
       "<style scoped>\n",
       "    .dataframe tbody tr th:only-of-type {\n",
       "        vertical-align: middle;\n",
       "    }\n",
       "\n",
       "    .dataframe tbody tr th {\n",
       "        vertical-align: top;\n",
       "    }\n",
       "\n",
       "    .dataframe thead th {\n",
       "        text-align: right;\n",
       "    }\n",
       "</style>\n",
       "<table border=\"1\" class=\"dataframe\">\n",
       "  <thead>\n",
       "    <tr style=\"text-align: right;\">\n",
       "      <th></th>\n",
       "      <th>age</th>\n",
       "      <th>job</th>\n",
       "      <th>marital</th>\n",
       "      <th>education</th>\n",
       "      <th>default</th>\n",
       "      <th>balance</th>\n",
       "      <th>housing</th>\n",
       "      <th>loan</th>\n",
       "      <th>contact</th>\n",
       "      <th>day</th>\n",
       "      <th>month</th>\n",
       "      <th>duration</th>\n",
       "      <th>campaign</th>\n",
       "      <th>pdays</th>\n",
       "      <th>previous</th>\n",
       "      <th>poutcome</th>\n",
       "      <th>Target</th>\n",
       "    </tr>\n",
       "  </thead>\n",
       "  <tbody>\n",
       "    <tr>\n",
       "      <th>0</th>\n",
       "      <td>58</td>\n",
       "      <td>management</td>\n",
       "      <td>married</td>\n",
       "      <td>tertiary</td>\n",
       "      <td>no</td>\n",
       "      <td>2143</td>\n",
       "      <td>yes</td>\n",
       "      <td>no</td>\n",
       "      <td>unknown</td>\n",
       "      <td>5</td>\n",
       "      <td>may</td>\n",
       "      <td>261</td>\n",
       "      <td>1</td>\n",
       "      <td>-1</td>\n",
       "      <td>0</td>\n",
       "      <td>unknown</td>\n",
       "      <td>no</td>\n",
       "    </tr>\n",
       "    <tr>\n",
       "      <th>1</th>\n",
       "      <td>44</td>\n",
       "      <td>technician</td>\n",
       "      <td>single</td>\n",
       "      <td>secondary</td>\n",
       "      <td>no</td>\n",
       "      <td>29</td>\n",
       "      <td>yes</td>\n",
       "      <td>no</td>\n",
       "      <td>unknown</td>\n",
       "      <td>5</td>\n",
       "      <td>may</td>\n",
       "      <td>151</td>\n",
       "      <td>1</td>\n",
       "      <td>-1</td>\n",
       "      <td>0</td>\n",
       "      <td>unknown</td>\n",
       "      <td>no</td>\n",
       "    </tr>\n",
       "    <tr>\n",
       "      <th>2</th>\n",
       "      <td>33</td>\n",
       "      <td>entrepreneur</td>\n",
       "      <td>married</td>\n",
       "      <td>secondary</td>\n",
       "      <td>no</td>\n",
       "      <td>2</td>\n",
       "      <td>yes</td>\n",
       "      <td>yes</td>\n",
       "      <td>unknown</td>\n",
       "      <td>5</td>\n",
       "      <td>may</td>\n",
       "      <td>76</td>\n",
       "      <td>1</td>\n",
       "      <td>-1</td>\n",
       "      <td>0</td>\n",
       "      <td>unknown</td>\n",
       "      <td>no</td>\n",
       "    </tr>\n",
       "    <tr>\n",
       "      <th>3</th>\n",
       "      <td>47</td>\n",
       "      <td>blue-collar</td>\n",
       "      <td>married</td>\n",
       "      <td>unknown</td>\n",
       "      <td>no</td>\n",
       "      <td>1506</td>\n",
       "      <td>yes</td>\n",
       "      <td>no</td>\n",
       "      <td>unknown</td>\n",
       "      <td>5</td>\n",
       "      <td>may</td>\n",
       "      <td>92</td>\n",
       "      <td>1</td>\n",
       "      <td>-1</td>\n",
       "      <td>0</td>\n",
       "      <td>unknown</td>\n",
       "      <td>no</td>\n",
       "    </tr>\n",
       "    <tr>\n",
       "      <th>4</th>\n",
       "      <td>33</td>\n",
       "      <td>unknown</td>\n",
       "      <td>single</td>\n",
       "      <td>unknown</td>\n",
       "      <td>no</td>\n",
       "      <td>1</td>\n",
       "      <td>no</td>\n",
       "      <td>no</td>\n",
       "      <td>unknown</td>\n",
       "      <td>5</td>\n",
       "      <td>may</td>\n",
       "      <td>198</td>\n",
       "      <td>1</td>\n",
       "      <td>-1</td>\n",
       "      <td>0</td>\n",
       "      <td>unknown</td>\n",
       "      <td>no</td>\n",
       "    </tr>\n",
       "  </tbody>\n",
       "</table>\n",
       "</div>"
      ],
      "text/plain": [
       "   age           job  marital  education default  balance housing loan  \\\n",
       "0   58    management  married   tertiary      no     2143     yes   no   \n",
       "1   44    technician   single  secondary      no       29     yes   no   \n",
       "2   33  entrepreneur  married  secondary      no        2     yes  yes   \n",
       "3   47   blue-collar  married    unknown      no     1506     yes   no   \n",
       "4   33       unknown   single    unknown      no        1      no   no   \n",
       "\n",
       "   contact  day month  duration  campaign  pdays  previous poutcome Target  \n",
       "0  unknown    5   may       261         1     -1         0  unknown     no  \n",
       "1  unknown    5   may       151         1     -1         0  unknown     no  \n",
       "2  unknown    5   may        76         1     -1         0  unknown     no  \n",
       "3  unknown    5   may        92         1     -1         0  unknown     no  \n",
       "4  unknown    5   may       198         1     -1         0  unknown     no  "
      ]
     },
     "execution_count": 56,
     "metadata": {},
     "output_type": "execute_result"
    }
   ],
   "source": [
    "data = pd.read_csv('bank-full.csv')\n",
    "data.head()"
   ]
  },
  {
   "cell_type": "markdown",
   "metadata": {},
   "source": [
    "## EDA"
   ]
  },
  {
   "cell_type": "code",
   "execution_count": 57,
   "metadata": {},
   "outputs": [
    {
     "data": {
      "text/plain": [
       "(45211, 17)"
      ]
     },
     "execution_count": 57,
     "metadata": {},
     "output_type": "execute_result"
    }
   ],
   "source": [
    "data.shape"
   ]
  },
  {
   "cell_type": "code",
   "execution_count": 58,
   "metadata": {},
   "outputs": [
    {
     "name": "stdout",
     "output_type": "stream",
     "text": [
      "<class 'pandas.core.frame.DataFrame'>\n",
      "RangeIndex: 45211 entries, 0 to 45210\n",
      "Data columns (total 17 columns):\n",
      " #   Column     Non-Null Count  Dtype \n",
      "---  ------     --------------  ----- \n",
      " 0   age        45211 non-null  int64 \n",
      " 1   job        45211 non-null  object\n",
      " 2   marital    45211 non-null  object\n",
      " 3   education  45211 non-null  object\n",
      " 4   default    45211 non-null  object\n",
      " 5   balance    45211 non-null  int64 \n",
      " 6   housing    45211 non-null  object\n",
      " 7   loan       45211 non-null  object\n",
      " 8   contact    45211 non-null  object\n",
      " 9   day        45211 non-null  int64 \n",
      " 10  month      45211 non-null  object\n",
      " 11  duration   45211 non-null  int64 \n",
      " 12  campaign   45211 non-null  int64 \n",
      " 13  pdays      45211 non-null  int64 \n",
      " 14  previous   45211 non-null  int64 \n",
      " 15  poutcome   45211 non-null  object\n",
      " 16  Target     45211 non-null  object\n",
      "dtypes: int64(7), object(10)\n",
      "memory usage: 5.9+ MB\n"
     ]
    }
   ],
   "source": [
    "data.info()"
   ]
  },
  {
   "cell_type": "markdown",
   "metadata": {},
   "source": [
    "__10 features are of 'object' type, 7 are integer type__\n",
    "\n",
    "__As per the given data set, we can say there are 10 category type, so first let us convert them int category__"
   ]
  },
  {
   "cell_type": "code",
   "execution_count": 59,
   "metadata": {},
   "outputs": [
    {
     "data": {
      "text/html": [
       "<div>\n",
       "<style scoped>\n",
       "    .dataframe tbody tr th:only-of-type {\n",
       "        vertical-align: middle;\n",
       "    }\n",
       "\n",
       "    .dataframe tbody tr th {\n",
       "        vertical-align: top;\n",
       "    }\n",
       "\n",
       "    .dataframe thead th {\n",
       "        text-align: right;\n",
       "    }\n",
       "</style>\n",
       "<table border=\"1\" class=\"dataframe\">\n",
       "  <thead>\n",
       "    <tr style=\"text-align: right;\">\n",
       "      <th></th>\n",
       "      <th>age</th>\n",
       "      <th>job</th>\n",
       "      <th>marital</th>\n",
       "      <th>education</th>\n",
       "      <th>default</th>\n",
       "      <th>balance</th>\n",
       "      <th>housing</th>\n",
       "      <th>loan</th>\n",
       "      <th>contact</th>\n",
       "      <th>day</th>\n",
       "      <th>month</th>\n",
       "      <th>duration</th>\n",
       "      <th>campaign</th>\n",
       "      <th>pdays</th>\n",
       "      <th>previous</th>\n",
       "      <th>poutcome</th>\n",
       "      <th>Target</th>\n",
       "    </tr>\n",
       "  </thead>\n",
       "  <tbody>\n",
       "    <tr>\n",
       "      <th>0</th>\n",
       "      <td>58</td>\n",
       "      <td>management</td>\n",
       "      <td>married</td>\n",
       "      <td>tertiary</td>\n",
       "      <td>no</td>\n",
       "      <td>2143</td>\n",
       "      <td>yes</td>\n",
       "      <td>no</td>\n",
       "      <td>unknown</td>\n",
       "      <td>5</td>\n",
       "      <td>may</td>\n",
       "      <td>261</td>\n",
       "      <td>1</td>\n",
       "      <td>-1</td>\n",
       "      <td>0</td>\n",
       "      <td>unknown</td>\n",
       "      <td>no</td>\n",
       "    </tr>\n",
       "  </tbody>\n",
       "</table>\n",
       "</div>"
      ],
      "text/plain": [
       "   age         job  marital education default  balance housing loan  contact  \\\n",
       "0   58  management  married  tertiary      no     2143     yes   no  unknown   \n",
       "\n",
       "   day month  duration  campaign  pdays  previous poutcome Target  \n",
       "0    5   may       261         1     -1         0  unknown     no  "
      ]
     },
     "execution_count": 59,
     "metadata": {},
     "output_type": "execute_result"
    }
   ],
   "source": [
    "data.head(1)"
   ]
  },
  {
   "cell_type": "code",
   "execution_count": 110,
   "metadata": {},
   "outputs": [],
   "source": [
    "data[['job','marital','education','default','housing','loan','contact','month','poutcome','Target']]= data[['job','marital','education','default','housing','loan','contact','month','poutcome','Target']].apply(pd.Categorical)"
   ]
  },
  {
   "cell_type": "code",
   "execution_count": 61,
   "metadata": {},
   "outputs": [
    {
     "data": {
      "text/html": [
       "<div>\n",
       "<style scoped>\n",
       "    .dataframe tbody tr th:only-of-type {\n",
       "        vertical-align: middle;\n",
       "    }\n",
       "\n",
       "    .dataframe tbody tr th {\n",
       "        vertical-align: top;\n",
       "    }\n",
       "\n",
       "    .dataframe thead th {\n",
       "        text-align: right;\n",
       "    }\n",
       "</style>\n",
       "<table border=\"1\" class=\"dataframe\">\n",
       "  <thead>\n",
       "    <tr style=\"text-align: right;\">\n",
       "      <th></th>\n",
       "      <th>age</th>\n",
       "      <th>job</th>\n",
       "      <th>marital</th>\n",
       "      <th>education</th>\n",
       "      <th>default</th>\n",
       "      <th>balance</th>\n",
       "      <th>housing</th>\n",
       "      <th>loan</th>\n",
       "      <th>contact</th>\n",
       "      <th>day</th>\n",
       "      <th>month</th>\n",
       "      <th>duration</th>\n",
       "      <th>campaign</th>\n",
       "      <th>pdays</th>\n",
       "      <th>previous</th>\n",
       "      <th>poutcome</th>\n",
       "      <th>Target</th>\n",
       "    </tr>\n",
       "  </thead>\n",
       "  <tbody>\n",
       "    <tr>\n",
       "      <th>Datatypes of Attributes</th>\n",
       "      <td>int64</td>\n",
       "      <td>category</td>\n",
       "      <td>category</td>\n",
       "      <td>category</td>\n",
       "      <td>category</td>\n",
       "      <td>int64</td>\n",
       "      <td>category</td>\n",
       "      <td>category</td>\n",
       "      <td>category</td>\n",
       "      <td>int64</td>\n",
       "      <td>category</td>\n",
       "      <td>int64</td>\n",
       "      <td>int64</td>\n",
       "      <td>int64</td>\n",
       "      <td>int64</td>\n",
       "      <td>category</td>\n",
       "      <td>category</td>\n",
       "    </tr>\n",
       "  </tbody>\n",
       "</table>\n",
       "</div>"
      ],
      "text/plain": [
       "                           age       job   marital education   default  \\\n",
       "Datatypes of Attributes  int64  category  category  category  category   \n",
       "\n",
       "                        balance   housing      loan   contact    day  \\\n",
       "Datatypes of Attributes   int64  category  category  category  int64   \n",
       "\n",
       "                            month duration campaign  pdays previous  poutcome  \\\n",
       "Datatypes of Attributes  category    int64    int64  int64    int64  category   \n",
       "\n",
       "                           Target  \n",
       "Datatypes of Attributes  category  "
      ]
     },
     "execution_count": 61,
     "metadata": {},
     "output_type": "execute_result"
    }
   ],
   "source": [
    "data.dtypes.to_frame('Datatypes of Attributes').T\n",
    "# This 'T' here represents transpose which means without this the result would\n",
    "# have been in rows But here we can see this in one row"
   ]
  },
  {
   "cell_type": "markdown",
   "metadata": {},
   "source": [
    "## Check the Missing values"
   ]
  },
  {
   "cell_type": "code",
   "execution_count": 62,
   "metadata": {},
   "outputs": [
    {
     "data": {
      "text/plain": [
       "age          0\n",
       "job          0\n",
       "marital      0\n",
       "education    0\n",
       "default      0\n",
       "balance      0\n",
       "housing      0\n",
       "loan         0\n",
       "contact      0\n",
       "day          0\n",
       "month        0\n",
       "duration     0\n",
       "campaign     0\n",
       "pdays        0\n",
       "previous     0\n",
       "poutcome     0\n",
       "Target       0\n",
       "dtype: int64"
      ]
     },
     "execution_count": 62,
     "metadata": {},
     "output_type": "execute_result"
    }
   ],
   "source": [
    "data.isna().sum()"
   ]
  },
  {
   "cell_type": "markdown",
   "metadata": {},
   "source": [
    "###  Get all the counts in all categories"
   ]
  },
  {
   "cell_type": "code",
   "execution_count": 63,
   "metadata": {},
   "outputs": [
    {
     "data": {
      "text/plain": [
       "unknown    36959\n",
       "failure     4901\n",
       "other       1840\n",
       "success     1511\n",
       "Name: poutcome, dtype: int64"
      ]
     },
     "execution_count": 63,
     "metadata": {},
     "output_type": "execute_result"
    }
   ],
   "source": [
    "data['poutcome'].value_counts()"
   ]
  },
  {
   "cell_type": "code",
   "execution_count": 64,
   "metadata": {},
   "outputs": [
    {
     "data": {
      "text/plain": [
       "cellular     29285\n",
       "unknown      13020\n",
       "telephone     2906\n",
       "Name: contact, dtype: int64"
      ]
     },
     "execution_count": 64,
     "metadata": {},
     "output_type": "execute_result"
    }
   ],
   "source": [
    "data['contact'].value_counts()"
   ]
  },
  {
   "cell_type": "code",
   "execution_count": 65,
   "metadata": {},
   "outputs": [
    {
     "data": {
      "text/plain": [
       "secondary    23202\n",
       "tertiary     13301\n",
       "primary       6851\n",
       "unknown       1857\n",
       "Name: education, dtype: int64"
      ]
     },
     "execution_count": 65,
     "metadata": {},
     "output_type": "execute_result"
    }
   ],
   "source": [
    "data['education'].value_counts()"
   ]
  },
  {
   "cell_type": "code",
   "execution_count": 66,
   "metadata": {},
   "outputs": [
    {
     "data": {
      "text/plain": [
       "blue-collar      9732\n",
       "management       9458\n",
       "technician       7597\n",
       "admin.           5171\n",
       "services         4154\n",
       "retired          2264\n",
       "self-employed    1579\n",
       "entrepreneur     1487\n",
       "unemployed       1303\n",
       "housemaid        1240\n",
       "student           938\n",
       "unknown           288\n",
       "Name: job, dtype: int64"
      ]
     },
     "execution_count": 66,
     "metadata": {},
     "output_type": "execute_result"
    }
   ],
   "source": [
    "data['job'].value_counts()"
   ]
  },
  {
   "cell_type": "code",
   "execution_count": 67,
   "metadata": {},
   "outputs": [
    {
     "data": {
      "text/plain": [
       "married     27214\n",
       "single      12790\n",
       "divorced     5207\n",
       "Name: marital, dtype: int64"
      ]
     },
     "execution_count": 67,
     "metadata": {},
     "output_type": "execute_result"
    }
   ],
   "source": [
    "data['marital'].value_counts()"
   ]
  },
  {
   "cell_type": "code",
   "execution_count": 68,
   "metadata": {},
   "outputs": [
    {
     "data": {
      "text/plain": [
       "no     44396\n",
       "yes      815\n",
       "Name: default, dtype: int64"
      ]
     },
     "execution_count": 68,
     "metadata": {},
     "output_type": "execute_result"
    }
   ],
   "source": [
    "data['default'].value_counts()"
   ]
  },
  {
   "cell_type": "code",
   "execution_count": 69,
   "metadata": {},
   "outputs": [
    {
     "data": {
      "text/plain": [
       "yes    25130\n",
       "no     20081\n",
       "Name: housing, dtype: int64"
      ]
     },
     "execution_count": 69,
     "metadata": {},
     "output_type": "execute_result"
    }
   ],
   "source": [
    "data['housing'].value_counts()"
   ]
  },
  {
   "cell_type": "code",
   "execution_count": 70,
   "metadata": {},
   "outputs": [
    {
     "data": {
      "text/plain": [
       "no     37967\n",
       "yes     7244\n",
       "Name: loan, dtype: int64"
      ]
     },
     "execution_count": 70,
     "metadata": {},
     "output_type": "execute_result"
    }
   ],
   "source": [
    "data['loan'].value_counts()"
   ]
  },
  {
   "cell_type": "code",
   "execution_count": 71,
   "metadata": {},
   "outputs": [
    {
     "data": {
      "text/plain": [
       "cellular     29285\n",
       "unknown      13020\n",
       "telephone     2906\n",
       "Name: contact, dtype: int64"
      ]
     },
     "execution_count": 71,
     "metadata": {},
     "output_type": "execute_result"
    }
   ],
   "source": [
    "data['contact'].value_counts()"
   ]
  },
  {
   "cell_type": "code",
   "execution_count": 72,
   "metadata": {},
   "outputs": [
    {
     "data": {
      "text/plain": [
       "may    13766\n",
       "jul     6895\n",
       "aug     6247\n",
       "jun     5341\n",
       "nov     3970\n",
       "apr     2932\n",
       "feb     2649\n",
       "jan     1403\n",
       "oct      738\n",
       "sep      579\n",
       "mar      477\n",
       "dec      214\n",
       "Name: month, dtype: int64"
      ]
     },
     "execution_count": 72,
     "metadata": {},
     "output_type": "execute_result"
    }
   ],
   "source": [
    "data['month'].value_counts()"
   ]
  },
  {
   "cell_type": "code",
   "execution_count": 73,
   "metadata": {},
   "outputs": [
    {
     "data": {
      "text/plain": [
       "no     39922\n",
       "yes     5289\n",
       "Name: Target, dtype: int64"
      ]
     },
     "execution_count": 73,
     "metadata": {},
     "output_type": "execute_result"
    }
   ],
   "source": [
    "data['Target'].value_counts()"
   ]
  },
  {
   "cell_type": "markdown",
   "metadata": {},
   "source": [
    "#### __Five point Summary__ Used only for Numeric values"
   ]
  },
  {
   "cell_type": "code",
   "execution_count": 74,
   "metadata": {},
   "outputs": [
    {
     "data": {
      "text/html": [
       "<div>\n",
       "<style scoped>\n",
       "    .dataframe tbody tr th:only-of-type {\n",
       "        vertical-align: middle;\n",
       "    }\n",
       "\n",
       "    .dataframe tbody tr th {\n",
       "        vertical-align: top;\n",
       "    }\n",
       "\n",
       "    .dataframe thead th {\n",
       "        text-align: right;\n",
       "    }\n",
       "</style>\n",
       "<table border=\"1\" class=\"dataframe\">\n",
       "  <thead>\n",
       "    <tr style=\"text-align: right;\">\n",
       "      <th></th>\n",
       "      <th>count</th>\n",
       "      <th>mean</th>\n",
       "      <th>std</th>\n",
       "      <th>min</th>\n",
       "      <th>25%</th>\n",
       "      <th>50%</th>\n",
       "      <th>75%</th>\n",
       "      <th>max</th>\n",
       "    </tr>\n",
       "  </thead>\n",
       "  <tbody>\n",
       "    <tr>\n",
       "      <th>age</th>\n",
       "      <td>45211.0</td>\n",
       "      <td>40.936210</td>\n",
       "      <td>10.618762</td>\n",
       "      <td>18.0</td>\n",
       "      <td>33.0</td>\n",
       "      <td>39.0</td>\n",
       "      <td>48.0</td>\n",
       "      <td>95.0</td>\n",
       "    </tr>\n",
       "    <tr>\n",
       "      <th>balance</th>\n",
       "      <td>45211.0</td>\n",
       "      <td>1362.272058</td>\n",
       "      <td>3044.765829</td>\n",
       "      <td>-8019.0</td>\n",
       "      <td>72.0</td>\n",
       "      <td>448.0</td>\n",
       "      <td>1428.0</td>\n",
       "      <td>102127.0</td>\n",
       "    </tr>\n",
       "    <tr>\n",
       "      <th>day</th>\n",
       "      <td>45211.0</td>\n",
       "      <td>15.806419</td>\n",
       "      <td>8.322476</td>\n",
       "      <td>1.0</td>\n",
       "      <td>8.0</td>\n",
       "      <td>16.0</td>\n",
       "      <td>21.0</td>\n",
       "      <td>31.0</td>\n",
       "    </tr>\n",
       "    <tr>\n",
       "      <th>duration</th>\n",
       "      <td>45211.0</td>\n",
       "      <td>258.163080</td>\n",
       "      <td>257.527812</td>\n",
       "      <td>0.0</td>\n",
       "      <td>103.0</td>\n",
       "      <td>180.0</td>\n",
       "      <td>319.0</td>\n",
       "      <td>4918.0</td>\n",
       "    </tr>\n",
       "    <tr>\n",
       "      <th>campaign</th>\n",
       "      <td>45211.0</td>\n",
       "      <td>2.763841</td>\n",
       "      <td>3.098021</td>\n",
       "      <td>1.0</td>\n",
       "      <td>1.0</td>\n",
       "      <td>2.0</td>\n",
       "      <td>3.0</td>\n",
       "      <td>63.0</td>\n",
       "    </tr>\n",
       "    <tr>\n",
       "      <th>pdays</th>\n",
       "      <td>45211.0</td>\n",
       "      <td>40.197828</td>\n",
       "      <td>100.128746</td>\n",
       "      <td>-1.0</td>\n",
       "      <td>-1.0</td>\n",
       "      <td>-1.0</td>\n",
       "      <td>-1.0</td>\n",
       "      <td>871.0</td>\n",
       "    </tr>\n",
       "    <tr>\n",
       "      <th>previous</th>\n",
       "      <td>45211.0</td>\n",
       "      <td>0.580323</td>\n",
       "      <td>2.303441</td>\n",
       "      <td>0.0</td>\n",
       "      <td>0.0</td>\n",
       "      <td>0.0</td>\n",
       "      <td>0.0</td>\n",
       "      <td>275.0</td>\n",
       "    </tr>\n",
       "  </tbody>\n",
       "</table>\n",
       "</div>"
      ],
      "text/plain": [
       "            count         mean          std     min    25%    50%     75%  \\\n",
       "age       45211.0    40.936210    10.618762    18.0   33.0   39.0    48.0   \n",
       "balance   45211.0  1362.272058  3044.765829 -8019.0   72.0  448.0  1428.0   \n",
       "day       45211.0    15.806419     8.322476     1.0    8.0   16.0    21.0   \n",
       "duration  45211.0   258.163080   257.527812     0.0  103.0  180.0   319.0   \n",
       "campaign  45211.0     2.763841     3.098021     1.0    1.0    2.0     3.0   \n",
       "pdays     45211.0    40.197828   100.128746    -1.0   -1.0   -1.0    -1.0   \n",
       "previous  45211.0     0.580323     2.303441     0.0    0.0    0.0     0.0   \n",
       "\n",
       "               max  \n",
       "age           95.0  \n",
       "balance   102127.0  \n",
       "day           31.0  \n",
       "duration    4918.0  \n",
       "campaign      63.0  \n",
       "pdays        871.0  \n",
       "previous     275.0  "
      ]
     },
     "execution_count": 74,
     "metadata": {},
     "output_type": "execute_result"
    }
   ],
   "source": [
    "data.describe().T"
   ]
  },
  {
   "cell_type": "markdown",
   "metadata": {},
   "source": [
    "_'AGE' has Outliers: mean is 40 &SD is 10 so, here\n",
    "__mean (mu) 40__, __std (sigma) 10__, __min 18__, __max 95__ \n",
    "Therefore __mu - sigma__ = 30 & __mu + sigma__= 50 (68% of data)\n",
    "__mu - 2*sigma__ = 20 & __mu + 2*sigma__= 60 (95% of data)\n",
    "__mu - 3*sigma__ = 10 & __mu + 3*sigma__= 70 (99.99 % of data)\n",
    "\n",
    "- Therfore we can observe here that min is __18__ & max is __95__ which is less than our accepter range __(20-50)__ therefore 'age' has outliers. Similarly check for others \n",
    "\n",
    "\n",
    "- __IQR__: Find range, this gives precise \n",
    "\n",
    "\n",
    "- Similarly __balance, duration, campaign, plays, previous__ has outliers\n"
   ]
  },
  {
   "cell_type": "markdown",
   "metadata": {},
   "source": [
    "### Distribution of Numerical columns "
   ]
  },
  {
   "cell_type": "code",
   "execution_count": 75,
   "metadata": {
    "scrolled": false
   },
   "outputs": [
    {
     "name": "stderr",
     "output_type": "stream",
     "text": [
      "C:\\Users\\GV62 7RD\\Anaconda3\\lib\\site-packages\\ipykernel_launcher.py:11: UserWarning: Matplotlib is currently using module://ipykernel.pylab.backend_inline, which is a non-GUI backend, so cannot show the figure.\n",
      "  # This is added back by InteractiveShellApp.init_path()\n"
     ]
    },
    {
     "data": {
      "image/png": "[encoded data removed]",
      "text/plain": [
       "<Figure size 720x1080 with 6 Axes>"
      ]
     },
     "metadata": {
      "needs_background": "light"
     },
     "output_type": "display_data"
    }
   ],
   "source": [
    "fig, axe=plt.subplots(nrows=3, ncols=2,figsize=(10,15))\n",
    "axe = axe.flatten()\n",
    "sns.distplot(data['age'], ax=axe[0])\n",
    "sns.distplot(data['balance'], ax=axe[1])\n",
    "sns.distplot(data['day'], ax=axe[2])\n",
    "sns.distplot(data['duration'], ax=axe[3])\n",
    "sns.distplot(data['campaign'], ax=axe[4])\n",
    "# sns.distplot(data['pdays'], ax=axe[5])\n",
    "# sns.distplot(data['previous'], ax=axe[6])\n",
    "fig.tight_layout()\n",
    "fig.show()\n",
    "axe.flat[-1].set_visible(False)"
   ]
  },
  {
   "cell_type": "markdown",
   "metadata": {},
   "source": [
    "## Distribution of categorical features\n",
    "\n",
    "Usually we go for scater plot, count plot etc."
   ]
  },
  {
   "cell_type": "code",
   "execution_count": 76,
   "metadata": {},
   "outputs": [
    {
     "name": "stderr",
     "output_type": "stream",
     "text": [
      "C:\\Users\\GV62 7RD\\Anaconda3\\lib\\site-packages\\ipykernel_launcher.py:17: UserWarning: Matplotlib is currently using module://ipykernel.pylab.backend_inline, which is a non-GUI backend, so cannot show the figure.\n"
     ]
    },
    {
     "data": {
      "image/png": "[encoded data removed]",
      "text/plain": [
       "<Figure size 720x1080 with 10 Axes>"
      ]
     },
     "metadata": {
      "needs_background": "light"
     },
     "output_type": "display_data"
    }
   ],
   "source": [
    "fig, axe=plt.subplots(nrows=5, ncols=2,figsize=(10,15))\n",
    "axe = axe.flatten()\n",
    "plot = sns.countplot(x=data['job'], data=data, ax=axe[0])\n",
    "\n",
    "sns.countplot(x=data['marital'], data=data, ax=axe[1])\n",
    "sns.countplot(x=data['education'], data=data, ax=axe[2])\n",
    "sns.countplot(x=data['default'], data=data, ax=axe[3])\n",
    "sns.countplot(x=data['housing'], data=data, ax=axe[4])\n",
    "sns.countplot(x=data['loan'], data=data, ax=axe[5])\n",
    "sns.countplot(x=data['contact'], data=data, ax=axe[6])\n",
    "sns.countplot(x=data['month'], data=data, ax=axe[7])\n",
    "sns.countplot(x=data['poutcome'], data=data, ax=axe[8])\n",
    "sns.countplot(x=data['Target'], data=data, ax=axe[9])  \n",
    "#Since beyond 8 is not permissible in the graphs, lets plot next\n",
    "\n",
    "fig.tight_layout()\n",
    "fig.show()"
   ]
  },
  {
   "cell_type": "markdown",
   "metadata": {},
   "source": [
    "Inference from the graphs\n",
    "\n",
    "more than 90% has __No - default__\n",
    "\n",
    "more than 98% ha __NOt Subscribed__\n",
    "\n",
    "Most customer has been contacted in __May__\n",
    "\n",
    "Most of the customers havve been contacted by a __Cellularphone__\n",
    "\n",
    "Number of customers having __Housing loan__ is more than __No housing loan__\n",
    "\n",
    "Roughly 6% have credit in __default__"
   ]
  },
  {
   "cell_type": "markdown",
   "metadata": {},
   "source": [
    "## Measure of skewness"
   ]
  },
  {
   "cell_type": "code",
   "execution_count": 77,
   "metadata": {},
   "outputs": [
    {
     "data": {
      "text/html": [
       "<div>\n",
       "<style scoped>\n",
       "    .dataframe tbody tr th:only-of-type {\n",
       "        vertical-align: middle;\n",
       "    }\n",
       "\n",
       "    .dataframe tbody tr th {\n",
       "        vertical-align: top;\n",
       "    }\n",
       "\n",
       "    .dataframe thead th {\n",
       "        text-align: right;\n",
       "    }\n",
       "</style>\n",
       "<table border=\"1\" class=\"dataframe\">\n",
       "  <thead>\n",
       "    <tr style=\"text-align: right;\">\n",
       "      <th></th>\n",
       "      <th>Skewness Measure</th>\n",
       "    </tr>\n",
       "  </thead>\n",
       "  <tbody>\n",
       "    <tr>\n",
       "      <th>age</th>\n",
       "      <td>0.684818</td>\n",
       "    </tr>\n",
       "    <tr>\n",
       "      <th>balance</th>\n",
       "      <td>8.360308</td>\n",
       "    </tr>\n",
       "    <tr>\n",
       "      <th>day</th>\n",
       "      <td>0.093079</td>\n",
       "    </tr>\n",
       "    <tr>\n",
       "      <th>duration</th>\n",
       "      <td>3.144318</td>\n",
       "    </tr>\n",
       "    <tr>\n",
       "      <th>campaign</th>\n",
       "      <td>4.898650</td>\n",
       "    </tr>\n",
       "    <tr>\n",
       "      <th>pdays</th>\n",
       "      <td>2.615715</td>\n",
       "    </tr>\n",
       "    <tr>\n",
       "      <th>previous</th>\n",
       "      <td>41.846454</td>\n",
       "    </tr>\n",
       "  </tbody>\n",
       "</table>\n",
       "</div>"
      ],
      "text/plain": [
       "          Skewness Measure\n",
       "age               0.684818\n",
       "balance           8.360308\n",
       "day               0.093079\n",
       "duration          3.144318\n",
       "campaign          4.898650\n",
       "pdays             2.615715\n",
       "previous         41.846454"
      ]
     },
     "execution_count": 77,
     "metadata": {},
     "output_type": "execute_result"
    }
   ],
   "source": [
    "data.skew().to_frame('Skewness Measure')"
   ]
  },
  {
   "cell_type": "markdown",
   "metadata": {},
   "source": [
    "## check the presence of Outliers \n",
    "Only for Numerical Features"
   ]
  },
  {
   "cell_type": "code",
   "execution_count": 78,
   "metadata": {},
   "outputs": [
    {
     "name": "stderr",
     "output_type": "stream",
     "text": [
      "C:\\Users\\GV62 7RD\\Anaconda3\\lib\\site-packages\\ipykernel_launcher.py:15: UserWarning: Matplotlib is currently using module://ipykernel.pylab.backend_inline, which is a non-GUI backend, so cannot show the figure.\n",
      "  from ipykernel import kernelapp as app\n"
     ]
    },
    {
     "data": {
      "image/png": "[encoded data removed]",
      "text/plain": [
       "<Figure size 720x1080 with 8 Axes>"
      ]
     },
     "metadata": {
      "needs_background": "light"
     },
     "output_type": "display_data"
    }
   ],
   "source": [
    "fig, axe=plt.subplots(nrows=4, ncols=2,figsize=(10,15))\n",
    "axe = axe.flatten()\n",
    "\n",
    "\n",
    "sns.boxplot(x='age', data=data, ax=axe[0])\n",
    "sns.boxplot(x='balance', data=data, ax=axe[1])\n",
    "sns.boxplot(x='day', data=data, ax=axe[2])\n",
    "sns.boxplot(x='duration', data=data, ax=axe[3])\n",
    "sns.boxplot(x='campaign', data=data, ax=axe[4])\n",
    "sns.boxplot(x='pdays', data=data, ax=axe[5])\n",
    "sns.boxplot(x='previous', data=data, ax=axe[6])\n",
    "\n",
    "\n",
    "fig.tight_layout()\n",
    "fig.show()"
   ]
  },
  {
   "cell_type": "markdown",
   "metadata": {},
   "source": [
    "__Except 'day' all have many Outliers__"
   ]
  },
  {
   "cell_type": "code",
   "execution_count": 79,
   "metadata": {},
   "outputs": [
    {
     "data": {
      "text/html": [
       "<div>\n",
       "<style scoped>\n",
       "    .dataframe tbody tr th:only-of-type {\n",
       "        vertical-align: middle;\n",
       "    }\n",
       "\n",
       "    .dataframe tbody tr th {\n",
       "        vertical-align: top;\n",
       "    }\n",
       "\n",
       "    .dataframe thead th {\n",
       "        text-align: right;\n",
       "    }\n",
       "</style>\n",
       "<table border=\"1\" class=\"dataframe\">\n",
       "  <thead>\n",
       "    <tr style=\"text-align: right;\">\n",
       "      <th></th>\n",
       "      <th>Target feature distribution</th>\n",
       "    </tr>\n",
       "  </thead>\n",
       "  <tbody>\n",
       "    <tr>\n",
       "      <th>no</th>\n",
       "      <td>39922</td>\n",
       "    </tr>\n",
       "    <tr>\n",
       "      <th>yes</th>\n",
       "      <td>5289</td>\n",
       "    </tr>\n",
       "  </tbody>\n",
       "</table>\n",
       "</div>"
      ],
      "text/plain": [
       "     Target feature distribution\n",
       "no                         39922\n",
       "yes                         5289"
      ]
     },
     "execution_count": 79,
     "metadata": {},
     "output_type": "execute_result"
    }
   ],
   "source": [
    "data['Target'].value_counts().to_frame('Target feature distribution')"
   ]
  },
  {
   "cell_type": "markdown",
   "metadata": {},
   "source": [
    "## Encoding numerical features \n"
   ]
  },
  {
   "cell_type": "code",
   "execution_count": 80,
   "metadata": {},
   "outputs": [
    {
     "data": {
      "text/html": [
       "<div>\n",
       "<style scoped>\n",
       "    .dataframe tbody tr th:only-of-type {\n",
       "        vertical-align: middle;\n",
       "    }\n",
       "\n",
       "    .dataframe tbody tr th {\n",
       "        vertical-align: top;\n",
       "    }\n",
       "\n",
       "    .dataframe thead th {\n",
       "        text-align: right;\n",
       "    }\n",
       "</style>\n",
       "<table border=\"1\" class=\"dataframe\">\n",
       "  <thead>\n",
       "    <tr style=\"text-align: right;\">\n",
       "      <th></th>\n",
       "      <th>age</th>\n",
       "      <th>job</th>\n",
       "      <th>marital</th>\n",
       "      <th>education</th>\n",
       "      <th>default</th>\n",
       "      <th>balance</th>\n",
       "      <th>housing</th>\n",
       "      <th>loan</th>\n",
       "      <th>contact</th>\n",
       "      <th>day</th>\n",
       "      <th>month</th>\n",
       "      <th>duration</th>\n",
       "      <th>campaign</th>\n",
       "      <th>pdays</th>\n",
       "      <th>previous</th>\n",
       "      <th>poutcome</th>\n",
       "      <th>Target</th>\n",
       "    </tr>\n",
       "  </thead>\n",
       "  <tbody>\n",
       "    <tr>\n",
       "      <th>Datatypes of Attributes</th>\n",
       "      <td>int64</td>\n",
       "      <td>category</td>\n",
       "      <td>category</td>\n",
       "      <td>category</td>\n",
       "      <td>category</td>\n",
       "      <td>int64</td>\n",
       "      <td>category</td>\n",
       "      <td>category</td>\n",
       "      <td>category</td>\n",
       "      <td>int64</td>\n",
       "      <td>category</td>\n",
       "      <td>int64</td>\n",
       "      <td>int64</td>\n",
       "      <td>int64</td>\n",
       "      <td>int64</td>\n",
       "      <td>category</td>\n",
       "      <td>category</td>\n",
       "    </tr>\n",
       "  </tbody>\n",
       "</table>\n",
       "</div>"
      ],
      "text/plain": [
       "                           age       job   marital education   default  \\\n",
       "Datatypes of Attributes  int64  category  category  category  category   \n",
       "\n",
       "                        balance   housing      loan   contact    day  \\\n",
       "Datatypes of Attributes   int64  category  category  category  int64   \n",
       "\n",
       "                            month duration campaign  pdays previous  poutcome  \\\n",
       "Datatypes of Attributes  category    int64    int64  int64    int64  category   \n",
       "\n",
       "                           Target  \n",
       "Datatypes of Attributes  category  "
      ]
     },
     "execution_count": 80,
     "metadata": {},
     "output_type": "execute_result"
    }
   ],
   "source": [
    "data.dtypes.to_frame('Datatypes of Attributes').T"
   ]
  },
  {
   "cell_type": "code",
   "execution_count": 81,
   "metadata": {},
   "outputs": [
    {
     "data": {
      "text/html": [
       "<div>\n",
       "<style scoped>\n",
       "    .dataframe tbody tr th:only-of-type {\n",
       "        vertical-align: middle;\n",
       "    }\n",
       "\n",
       "    .dataframe tbody tr th {\n",
       "        vertical-align: top;\n",
       "    }\n",
       "\n",
       "    .dataframe thead th {\n",
       "        text-align: right;\n",
       "    }\n",
       "</style>\n",
       "<table border=\"1\" class=\"dataframe\">\n",
       "  <thead>\n",
       "    <tr style=\"text-align: right;\">\n",
       "      <th></th>\n",
       "      <th>0</th>\n",
       "      <th>1</th>\n",
       "      <th>2</th>\n",
       "      <th>3</th>\n",
       "      <th>4</th>\n",
       "    </tr>\n",
       "  </thead>\n",
       "  <tbody>\n",
       "    <tr>\n",
       "      <th>age</th>\n",
       "      <td>58</td>\n",
       "      <td>44</td>\n",
       "      <td>33</td>\n",
       "      <td>47</td>\n",
       "      <td>33</td>\n",
       "    </tr>\n",
       "    <tr>\n",
       "      <th>job</th>\n",
       "      <td>management</td>\n",
       "      <td>technician</td>\n",
       "      <td>entrepreneur</td>\n",
       "      <td>blue-collar</td>\n",
       "      <td>unknown</td>\n",
       "    </tr>\n",
       "    <tr>\n",
       "      <th>marital</th>\n",
       "      <td>1</td>\n",
       "      <td>2</td>\n",
       "      <td>1</td>\n",
       "      <td>1</td>\n",
       "      <td>2</td>\n",
       "    </tr>\n",
       "    <tr>\n",
       "      <th>education</th>\n",
       "      <td>2</td>\n",
       "      <td>1</td>\n",
       "      <td>1</td>\n",
       "      <td>3</td>\n",
       "      <td>3</td>\n",
       "    </tr>\n",
       "    <tr>\n",
       "      <th>default</th>\n",
       "      <td>0</td>\n",
       "      <td>0</td>\n",
       "      <td>0</td>\n",
       "      <td>0</td>\n",
       "      <td>0</td>\n",
       "    </tr>\n",
       "    <tr>\n",
       "      <th>balance</th>\n",
       "      <td>2143</td>\n",
       "      <td>29</td>\n",
       "      <td>2</td>\n",
       "      <td>1506</td>\n",
       "      <td>1</td>\n",
       "    </tr>\n",
       "    <tr>\n",
       "      <th>housing</th>\n",
       "      <td>1</td>\n",
       "      <td>1</td>\n",
       "      <td>1</td>\n",
       "      <td>1</td>\n",
       "      <td>0</td>\n",
       "    </tr>\n",
       "    <tr>\n",
       "      <th>loan</th>\n",
       "      <td>0</td>\n",
       "      <td>0</td>\n",
       "      <td>1</td>\n",
       "      <td>0</td>\n",
       "      <td>0</td>\n",
       "    </tr>\n",
       "    <tr>\n",
       "      <th>contact</th>\n",
       "      <td>unknown</td>\n",
       "      <td>unknown</td>\n",
       "      <td>unknown</td>\n",
       "      <td>unknown</td>\n",
       "      <td>unknown</td>\n",
       "    </tr>\n",
       "    <tr>\n",
       "      <th>day</th>\n",
       "      <td>5</td>\n",
       "      <td>5</td>\n",
       "      <td>5</td>\n",
       "      <td>5</td>\n",
       "      <td>5</td>\n",
       "    </tr>\n",
       "    <tr>\n",
       "      <th>month</th>\n",
       "      <td>8</td>\n",
       "      <td>8</td>\n",
       "      <td>8</td>\n",
       "      <td>8</td>\n",
       "      <td>8</td>\n",
       "    </tr>\n",
       "    <tr>\n",
       "      <th>duration</th>\n",
       "      <td>261</td>\n",
       "      <td>151</td>\n",
       "      <td>76</td>\n",
       "      <td>92</td>\n",
       "      <td>198</td>\n",
       "    </tr>\n",
       "    <tr>\n",
       "      <th>campaign</th>\n",
       "      <td>1</td>\n",
       "      <td>1</td>\n",
       "      <td>1</td>\n",
       "      <td>1</td>\n",
       "      <td>1</td>\n",
       "    </tr>\n",
       "    <tr>\n",
       "      <th>pdays</th>\n",
       "      <td>-1</td>\n",
       "      <td>-1</td>\n",
       "      <td>-1</td>\n",
       "      <td>-1</td>\n",
       "      <td>-1</td>\n",
       "    </tr>\n",
       "    <tr>\n",
       "      <th>previous</th>\n",
       "      <td>0</td>\n",
       "      <td>0</td>\n",
       "      <td>0</td>\n",
       "      <td>0</td>\n",
       "      <td>0</td>\n",
       "    </tr>\n",
       "    <tr>\n",
       "      <th>poutcome</th>\n",
       "      <td>3</td>\n",
       "      <td>3</td>\n",
       "      <td>3</td>\n",
       "      <td>3</td>\n",
       "      <td>3</td>\n",
       "    </tr>\n",
       "    <tr>\n",
       "      <th>Target</th>\n",
       "      <td>0</td>\n",
       "      <td>0</td>\n",
       "      <td>0</td>\n",
       "      <td>0</td>\n",
       "      <td>0</td>\n",
       "    </tr>\n",
       "  </tbody>\n",
       "</table>\n",
       "</div>"
      ],
      "text/plain": [
       "                    0           1             2            3        4\n",
       "age                58          44            33           47       33\n",
       "job        management  technician  entrepreneur  blue-collar  unknown\n",
       "marital             1           2             1            1        2\n",
       "education           2           1             1            3        3\n",
       "default             0           0             0            0        0\n",
       "balance          2143          29             2         1506        1\n",
       "housing             1           1             1            1        0\n",
       "loan                0           0             1            0        0\n",
       "contact       unknown     unknown       unknown      unknown  unknown\n",
       "day                 5           5             5            5        5\n",
       "month               8           8             8            8        8\n",
       "duration          261         151            76           92      198\n",
       "campaign            1           1             1            1        1\n",
       "pdays              -1          -1            -1           -1       -1\n",
       "previous            0           0             0            0        0\n",
       "poutcome            3           3             3            3        3\n",
       "Target              0           0             0            0        0"
      ]
     },
     "execution_count": 81,
     "metadata": {},
     "output_type": "execute_result"
    }
   ],
   "source": [
    "df=data.copy()\n",
    "encoder = LabelEncoder()\n",
    "\n",
    "df['default']=encoder.fit_transform(df['default']).astype(int)\n",
    "df['education']=encoder.fit_transform(df['education']).astype(int)\n",
    "df['marital']=encoder.fit_transform(df['marital']).astype(int)\n",
    "df['loan']=encoder.fit_transform(df['loan']).astype(int)\n",
    "df['housing']=encoder.fit_transform(df['housing']).astype(int)\n",
    "df['Target']=encoder.fit_transform(df['Target']).astype(int)\n",
    "df['month']=encoder.fit_transform(df['month']).astype(int)\n",
    "df['poutcome']=encoder.fit_transform(df['poutcome']).astype(int)\n",
    "\n",
    "df.head().T"
   ]
  },
  {
   "cell_type": "code",
   "execution_count": 82,
   "metadata": {},
   "outputs": [
    {
     "name": "stdout",
     "output_type": "stream",
     "text": [
      "<class 'pandas.core.frame.DataFrame'>\n",
      "RangeIndex: 45211 entries, 0 to 45210\n",
      "Data columns (total 17 columns):\n",
      " #   Column     Non-Null Count  Dtype   \n",
      "---  ------     --------------  -----   \n",
      " 0   age        45211 non-null  int64   \n",
      " 1   job        45211 non-null  category\n",
      " 2   marital    45211 non-null  int32   \n",
      " 3   education  45211 non-null  int32   \n",
      " 4   default    45211 non-null  int32   \n",
      " 5   balance    45211 non-null  int64   \n",
      " 6   housing    45211 non-null  int32   \n",
      " 7   loan       45211 non-null  int32   \n",
      " 8   contact    45211 non-null  category\n",
      " 9   day        45211 non-null  int64   \n",
      " 10  month      45211 non-null  int32   \n",
      " 11  duration   45211 non-null  int64   \n",
      " 12  campaign   45211 non-null  int64   \n",
      " 13  pdays      45211 non-null  int64   \n",
      " 14  previous   45211 non-null  int64   \n",
      " 15  poutcome   45211 non-null  int32   \n",
      " 16  Target     45211 non-null  int32   \n",
      "dtypes: category(2), int32(8), int64(7)\n",
      "memory usage: 3.9 MB\n"
     ]
    }
   ],
   "source": [
    "df.info() #here all converted to integers apart from job & contact"
   ]
  },
  {
   "cell_type": "markdown",
   "metadata": {},
   "source": [
    "Again converting to categorical "
   ]
  },
  {
   "cell_type": "code",
   "execution_count": 83,
   "metadata": {},
   "outputs": [],
   "source": [
    "df[['job','marital','education','default','housing','loan','contact','month','poutcome','Target']]= df[['job','marital','education','default','housing','loan','contact','month','poutcome','Target']].apply(pd.Categorical)"
   ]
  },
  {
   "cell_type": "code",
   "execution_count": 84,
   "metadata": {},
   "outputs": [
    {
     "name": "stdout",
     "output_type": "stream",
     "text": [
      "<class 'pandas.core.frame.DataFrame'>\n",
      "RangeIndex: 45211 entries, 0 to 45210\n",
      "Data columns (total 17 columns):\n",
      " #   Column     Non-Null Count  Dtype   \n",
      "---  ------     --------------  -----   \n",
      " 0   age        45211 non-null  int64   \n",
      " 1   job        45211 non-null  category\n",
      " 2   marital    45211 non-null  category\n",
      " 3   education  45211 non-null  category\n",
      " 4   default    45211 non-null  category\n",
      " 5   balance    45211 non-null  int64   \n",
      " 6   housing    45211 non-null  category\n",
      " 7   loan       45211 non-null  category\n",
      " 8   contact    45211 non-null  category\n",
      " 9   day        45211 non-null  int64   \n",
      " 10  month      45211 non-null  category\n",
      " 11  duration   45211 non-null  int64   \n",
      " 12  campaign   45211 non-null  int64   \n",
      " 13  pdays      45211 non-null  int64   \n",
      " 14  previous   45211 non-null  int64   \n",
      " 15  poutcome   45211 non-null  category\n",
      " 16  Target     45211 non-null  category\n",
      "dtypes: category(10), int64(7)\n",
      "memory usage: 2.8 MB\n"
     ]
    }
   ],
   "source": [
    "df.info()"
   ]
  },
  {
   "cell_type": "markdown",
   "metadata": {},
   "source": [
    "All are converted to number based category"
   ]
  },
  {
   "cell_type": "markdown",
   "metadata": {},
   "source": [
    "## Handling Outliers with mean replacement"
   ]
  },
  {
   "cell_type": "code",
   "execution_count": 85,
   "metadata": {},
   "outputs": [],
   "source": [
    "meanbal=float(df['balance'].mean())\n",
    "df['balance']=np.where(df['balance']>np.percentile(df['balance'],75),meanbal, df['balance'])\n"
   ]
  },
  {
   "cell_type": "code",
   "execution_count": 86,
   "metadata": {},
   "outputs": [],
   "source": [
    "meandur=float(df['duration'].mean())\n",
    "df['duration']=np.where(df['duration']>np.percentile(df['duration'],75),meandur, df['duration'])"
   ]
  },
  {
   "cell_type": "code",
   "execution_count": 87,
   "metadata": {},
   "outputs": [],
   "source": [
    "meancam=float(df['campaign'].mean())\n",
    "df['campaign']=np.where(df['campaign']>np.percentile(df['campaign'],75),meancam, df['campaign'])"
   ]
  },
  {
   "cell_type": "code",
   "execution_count": 88,
   "metadata": {},
   "outputs": [],
   "source": [
    "meanpd=float(df['pdays'].mean())\n",
    "df['pdays']=np.where(df['pdays']>np.percentile(df['pdays'],75),meanpd, df['pdays'])"
   ]
  },
  {
   "cell_type": "code",
   "execution_count": 89,
   "metadata": {},
   "outputs": [],
   "source": [
    "meanpr=float(df['previous'].mean())\n",
    "df['previous']=np.where(df['previous']>np.percentile(df['previous'],75),meanpr, df['previous'])"
   ]
  },
  {
   "cell_type": "markdown",
   "metadata": {},
   "source": [
    "### After removing the outliers plot the boxplot"
   ]
  },
  {
   "cell_type": "code",
   "execution_count": 90,
   "metadata": {},
   "outputs": [
    {
     "name": "stderr",
     "output_type": "stream",
     "text": [
      "C:\\Users\\GV62 7RD\\Anaconda3\\lib\\site-packages\\ipykernel_launcher.py:15: UserWarning: Matplotlib is currently using module://ipykernel.pylab.backend_inline, which is a non-GUI backend, so cannot show the figure.\n",
      "  from ipykernel import kernelapp as app\n"
     ]
    },
    {
     "data": {
      "image/png": "[encoded data removed]",
      "text/plain": [
       "<Figure size 720x1080 with 8 Axes>"
      ]
     },
     "metadata": {
      "needs_background": "light"
     },
     "output_type": "display_data"
    }
   ],
   "source": [
    "fig, axe=plt.subplots(nrows=4, ncols=2,figsize=(10,15))\n",
    "axe = axe.flatten()\n",
    "\n",
    "\n",
    "sns.boxplot(x='age', data=df, ax=axe[0])\n",
    "sns.boxplot(x='balance', data=df, ax=axe[1])\n",
    "sns.boxplot(x='day', data=df, ax=axe[2])\n",
    "sns.boxplot(x='duration', data=df, ax=axe[3])\n",
    "sns.boxplot(x='campaign', data=df, ax=axe[4])\n",
    "sns.boxplot(x='pdays', data=df, ax=axe[5])\n",
    "sns.boxplot(x='previous', data=df, ax=axe[6])\n",
    "\n",
    "\n",
    "fig.tight_layout()\n",
    "fig.show()"
   ]
  },
  {
   "cell_type": "markdown",
   "metadata": {},
   "source": [
    "We can observe here that the outliers are removed after replacing it with the mean"
   ]
  },
  {
   "cell_type": "markdown",
   "metadata": {},
   "source": [
    "### Plotting the correlation plot \n",
    "\n",
    "after removing the outliers"
   ]
  },
  {
   "cell_type": "code",
   "execution_count": 91,
   "metadata": {},
   "outputs": [
    {
     "data": {
      "text/plain": [
       "<matplotlib.axes._subplots.AxesSubplot at 0x17738691978>"
      ]
     },
     "execution_count": 91,
     "metadata": {},
     "output_type": "execute_result"
    },
    {
     "data": {
      "image/png": "[encoded data removed]",
      "text/plain": [
       "<Figure size 864x720 with 2 Axes>"
      ]
     },
     "metadata": {
      "needs_background": "light"
     },
     "output_type": "display_data"
    }
   ],
   "source": [
    "plt.figure(figsize=(12,10))\n",
    "sns.heatmap(df.corr(),annot=True, vmax=1, vmin=-1) # range of values between -1 to 1"
   ]
  },
  {
   "cell_type": "markdown",
   "metadata": {},
   "source": [
    "For dataframe before removing the outliers"
   ]
  },
  {
   "cell_type": "code",
   "execution_count": 92,
   "metadata": {},
   "outputs": [
    {
     "data": {
      "text/plain": [
       "<matplotlib.axes._subplots.AxesSubplot at 0x177387114a8>"
      ]
     },
     "execution_count": 92,
     "metadata": {},
     "output_type": "execute_result"
    },
    {
     "data": {
      "image/png": "[encoded data removed]",
      "text/plain": [
       "<Figure size 864x720 with 2 Axes>"
      ]
     },
     "metadata": {
      "needs_background": "light"
     },
     "output_type": "display_data"
    }
   ],
   "source": [
    "plt.figure(figsize=(12,10))\n",
    "sns.heatmap(data.corr(),annot=True, vmax=1, vmin=-1) # range of values between -1 to 1"
   ]
  },
  {
   "cell_type": "code",
   "execution_count": 93,
   "metadata": {},
   "outputs": [
    {
     "data": {
      "text/html": [
       "<div>\n",
       "<style scoped>\n",
       "    .dataframe tbody tr th:only-of-type {\n",
       "        vertical-align: middle;\n",
       "    }\n",
       "\n",
       "    .dataframe tbody tr th {\n",
       "        vertical-align: top;\n",
       "    }\n",
       "\n",
       "    .dataframe thead th {\n",
       "        text-align: right;\n",
       "    }\n",
       "</style>\n",
       "<table border=\"1\" class=\"dataframe\">\n",
       "  <thead>\n",
       "    <tr style=\"text-align: right;\">\n",
       "      <th></th>\n",
       "      <th>age</th>\n",
       "      <th>job</th>\n",
       "      <th>marital</th>\n",
       "      <th>education</th>\n",
       "      <th>default</th>\n",
       "      <th>balance</th>\n",
       "      <th>housing</th>\n",
       "      <th>loan</th>\n",
       "      <th>contact</th>\n",
       "      <th>day</th>\n",
       "      <th>month</th>\n",
       "      <th>duration</th>\n",
       "      <th>campaign</th>\n",
       "      <th>pdays</th>\n",
       "      <th>previous</th>\n",
       "      <th>poutcome</th>\n",
       "      <th>Target</th>\n",
       "    </tr>\n",
       "  </thead>\n",
       "  <tbody>\n",
       "    <tr>\n",
       "      <th>0</th>\n",
       "      <td>58</td>\n",
       "      <td>management</td>\n",
       "      <td>1</td>\n",
       "      <td>2</td>\n",
       "      <td>0</td>\n",
       "      <td>1362.272058</td>\n",
       "      <td>1</td>\n",
       "      <td>0</td>\n",
       "      <td>unknown</td>\n",
       "      <td>5</td>\n",
       "      <td>8</td>\n",
       "      <td>261.0</td>\n",
       "      <td>1.0</td>\n",
       "      <td>-1.0</td>\n",
       "      <td>0.0</td>\n",
       "      <td>3</td>\n",
       "      <td>0</td>\n",
       "    </tr>\n",
       "  </tbody>\n",
       "</table>\n",
       "</div>"
      ],
      "text/plain": [
       "   age         job marital education default      balance housing loan  \\\n",
       "0   58  management       1         2       0  1362.272058       1    0   \n",
       "\n",
       "   contact  day month  duration  campaign  pdays  previous poutcome Target  \n",
       "0  unknown    5     8     261.0       1.0   -1.0       0.0        3      0  "
      ]
     },
     "execution_count": 93,
     "metadata": {},
     "output_type": "execute_result"
    }
   ],
   "source": [
    "df.head(1)"
   ]
  },
  {
   "cell_type": "code",
   "execution_count": 94,
   "metadata": {},
   "outputs": [
    {
     "data": {
      "text/plain": [
       "1    23202\n",
       "2    13301\n",
       "0     6851\n",
       "3     1857\n",
       "Name: education, dtype: int64"
      ]
     },
     "execution_count": 94,
     "metadata": {},
     "output_type": "execute_result"
    }
   ],
   "source": [
    "df['education'].value_counts()"
   ]
  },
  {
   "cell_type": "markdown",
   "metadata": {},
   "source": [
    "Removing few features wrt time "
   ]
  },
  {
   "cell_type": "code",
   "execution_count": 95,
   "metadata": {},
   "outputs": [
    {
     "data": {
      "text/html": [
       "<div>\n",
       "<style scoped>\n",
       "    .dataframe tbody tr th:only-of-type {\n",
       "        vertical-align: middle;\n",
       "    }\n",
       "\n",
       "    .dataframe tbody tr th {\n",
       "        vertical-align: top;\n",
       "    }\n",
       "\n",
       "    .dataframe thead th {\n",
       "        text-align: right;\n",
       "    }\n",
       "</style>\n",
       "<table border=\"1\" class=\"dataframe\">\n",
       "  <thead>\n",
       "    <tr style=\"text-align: right;\">\n",
       "      <th></th>\n",
       "      <th>age</th>\n",
       "      <th>marital</th>\n",
       "      <th>default</th>\n",
       "      <th>balance</th>\n",
       "      <th>housing</th>\n",
       "      <th>loan</th>\n",
       "      <th>campaign</th>\n",
       "      <th>previous</th>\n",
       "      <th>poutcome</th>\n",
       "      <th>Target</th>\n",
       "    </tr>\n",
       "  </thead>\n",
       "  <tbody>\n",
       "    <tr>\n",
       "      <th>0</th>\n",
       "      <td>58</td>\n",
       "      <td>1</td>\n",
       "      <td>0</td>\n",
       "      <td>1362.272058</td>\n",
       "      <td>1</td>\n",
       "      <td>0</td>\n",
       "      <td>1.0</td>\n",
       "      <td>0.0</td>\n",
       "      <td>3</td>\n",
       "      <td>0</td>\n",
       "    </tr>\n",
       "    <tr>\n",
       "      <th>1</th>\n",
       "      <td>44</td>\n",
       "      <td>2</td>\n",
       "      <td>0</td>\n",
       "      <td>29.000000</td>\n",
       "      <td>1</td>\n",
       "      <td>0</td>\n",
       "      <td>1.0</td>\n",
       "      <td>0.0</td>\n",
       "      <td>3</td>\n",
       "      <td>0</td>\n",
       "    </tr>\n",
       "    <tr>\n",
       "      <th>2</th>\n",
       "      <td>33</td>\n",
       "      <td>1</td>\n",
       "      <td>0</td>\n",
       "      <td>2.000000</td>\n",
       "      <td>1</td>\n",
       "      <td>1</td>\n",
       "      <td>1.0</td>\n",
       "      <td>0.0</td>\n",
       "      <td>3</td>\n",
       "      <td>0</td>\n",
       "    </tr>\n",
       "    <tr>\n",
       "      <th>3</th>\n",
       "      <td>47</td>\n",
       "      <td>1</td>\n",
       "      <td>0</td>\n",
       "      <td>1362.272058</td>\n",
       "      <td>1</td>\n",
       "      <td>0</td>\n",
       "      <td>1.0</td>\n",
       "      <td>0.0</td>\n",
       "      <td>3</td>\n",
       "      <td>0</td>\n",
       "    </tr>\n",
       "    <tr>\n",
       "      <th>4</th>\n",
       "      <td>33</td>\n",
       "      <td>2</td>\n",
       "      <td>0</td>\n",
       "      <td>1.000000</td>\n",
       "      <td>0</td>\n",
       "      <td>0</td>\n",
       "      <td>1.0</td>\n",
       "      <td>0.0</td>\n",
       "      <td>3</td>\n",
       "      <td>0</td>\n",
       "    </tr>\n",
       "  </tbody>\n",
       "</table>\n",
       "</div>"
      ],
      "text/plain": [
       "   age marital default      balance housing loan  campaign  previous poutcome  \\\n",
       "0   58       1       0  1362.272058       1    0       1.0       0.0        3   \n",
       "1   44       2       0    29.000000       1    0       1.0       0.0        3   \n",
       "2   33       1       0     2.000000       1    1       1.0       0.0        3   \n",
       "3   47       1       0  1362.272058       1    0       1.0       0.0        3   \n",
       "4   33       2       0     1.000000       0    0       1.0       0.0        3   \n",
       "\n",
       "  Target  \n",
       "0      0  \n",
       "1      0  \n",
       "2      0  \n",
       "3      0  \n",
       "4      0  "
      ]
     },
     "execution_count": 95,
     "metadata": {},
     "output_type": "execute_result"
    }
   ],
   "source": [
    "df2 = df.drop(['job','education','contact','month','duration','pdays','day','month'], axis=1)\n",
    "df2.head()"
   ]
  },
  {
   "cell_type": "markdown",
   "metadata": {},
   "source": [
    "### Pairplot features\n",
    "\n",
    "Multivariate Analysis"
   ]
  },
  {
   "cell_type": "code",
   "execution_count": 96,
   "metadata": {},
   "outputs": [
    {
     "data": {
      "text/plain": [
       "<seaborn.axisgrid.PairGrid at 0x17738808ef0>"
      ]
     },
     "execution_count": 96,
     "metadata": {},
     "output_type": "execute_result"
    },
    {
     "data": {
      "image/png": "[encoded data removed]",
      "text/plain": [
       "<Figure size 1800x1800 with 110 Axes>"
      ]
     },
     "metadata": {
      "needs_background": "light"
     },
     "output_type": "display_data"
    }
   ],
   "source": [
    "sns.pairplot(df2)"
   ]
  },
  {
   "cell_type": "markdown",
   "metadata": {},
   "source": [
    "## Splitting  the data set\n",
    "70 / 30 "
   ]
  },
  {
   "cell_type": "code",
   "execution_count": 97,
   "metadata": {},
   "outputs": [],
   "source": [
    "x=df2.drop('Target',axis=1)\n",
    "y=df2['Target']"
   ]
  },
  {
   "cell_type": "code",
   "execution_count": 98,
   "metadata": {},
   "outputs": [
    {
     "data": {
      "text/html": [
       "<div>\n",
       "<style scoped>\n",
       "    .dataframe tbody tr th:only-of-type {\n",
       "        vertical-align: middle;\n",
       "    }\n",
       "\n",
       "    .dataframe tbody tr th {\n",
       "        vertical-align: top;\n",
       "    }\n",
       "\n",
       "    .dataframe thead th {\n",
       "        text-align: right;\n",
       "    }\n",
       "</style>\n",
       "<table border=\"1\" class=\"dataframe\">\n",
       "  <thead>\n",
       "    <tr style=\"text-align: right;\">\n",
       "      <th></th>\n",
       "      <th>age</th>\n",
       "      <th>marital</th>\n",
       "      <th>default</th>\n",
       "      <th>balance</th>\n",
       "      <th>housing</th>\n",
       "      <th>loan</th>\n",
       "      <th>campaign</th>\n",
       "      <th>previous</th>\n",
       "      <th>poutcome</th>\n",
       "    </tr>\n",
       "  </thead>\n",
       "  <tbody>\n",
       "    <tr>\n",
       "      <th>0</th>\n",
       "      <td>58</td>\n",
       "      <td>1</td>\n",
       "      <td>0</td>\n",
       "      <td>1362.272058</td>\n",
       "      <td>1</td>\n",
       "      <td>0</td>\n",
       "      <td>1.0</td>\n",
       "      <td>0.0</td>\n",
       "      <td>3</td>\n",
       "    </tr>\n",
       "    <tr>\n",
       "      <th>1</th>\n",
       "      <td>44</td>\n",
       "      <td>2</td>\n",
       "      <td>0</td>\n",
       "      <td>29.000000</td>\n",
       "      <td>1</td>\n",
       "      <td>0</td>\n",
       "      <td>1.0</td>\n",
       "      <td>0.0</td>\n",
       "      <td>3</td>\n",
       "    </tr>\n",
       "    <tr>\n",
       "      <th>2</th>\n",
       "      <td>33</td>\n",
       "      <td>1</td>\n",
       "      <td>0</td>\n",
       "      <td>2.000000</td>\n",
       "      <td>1</td>\n",
       "      <td>1</td>\n",
       "      <td>1.0</td>\n",
       "      <td>0.0</td>\n",
       "      <td>3</td>\n",
       "    </tr>\n",
       "    <tr>\n",
       "      <th>3</th>\n",
       "      <td>47</td>\n",
       "      <td>1</td>\n",
       "      <td>0</td>\n",
       "      <td>1362.272058</td>\n",
       "      <td>1</td>\n",
       "      <td>0</td>\n",
       "      <td>1.0</td>\n",
       "      <td>0.0</td>\n",
       "      <td>3</td>\n",
       "    </tr>\n",
       "    <tr>\n",
       "      <th>4</th>\n",
       "      <td>33</td>\n",
       "      <td>2</td>\n",
       "      <td>0</td>\n",
       "      <td>1.000000</td>\n",
       "      <td>0</td>\n",
       "      <td>0</td>\n",
       "      <td>1.0</td>\n",
       "      <td>0.0</td>\n",
       "      <td>3</td>\n",
       "    </tr>\n",
       "  </tbody>\n",
       "</table>\n",
       "</div>"
      ],
      "text/plain": [
       "   age marital default      balance housing loan  campaign  previous poutcome\n",
       "0   58       1       0  1362.272058       1    0       1.0       0.0        3\n",
       "1   44       2       0    29.000000       1    0       1.0       0.0        3\n",
       "2   33       1       0     2.000000       1    1       1.0       0.0        3\n",
       "3   47       1       0  1362.272058       1    0       1.0       0.0        3\n",
       "4   33       2       0     1.000000       0    0       1.0       0.0        3"
      ]
     },
     "execution_count": 98,
     "metadata": {},
     "output_type": "execute_result"
    }
   ],
   "source": [
    "x.head()"
   ]
  },
  {
   "cell_type": "code",
   "execution_count": 99,
   "metadata": {},
   "outputs": [
    {
     "data": {
      "text/plain": [
       "0    0\n",
       "1    0\n",
       "Name: Target, dtype: category\n",
       "Categories (2, int64): [0, 1]"
      ]
     },
     "execution_count": 99,
     "metadata": {},
     "output_type": "execute_result"
    }
   ],
   "source": [
    "y.head(2)"
   ]
  },
  {
   "cell_type": "code",
   "execution_count": 100,
   "metadata": {},
   "outputs": [],
   "source": [
    "xtrain,xtest,ytrain,ytest = train_test_split(x,y, test_size=0.3,random_state=2)"
   ]
  },
  {
   "cell_type": "markdown",
   "metadata": {},
   "source": [
    "### Scaling the data\n",
    "Only done for the indeppendent features not for the dependent features (Output)"
   ]
  },
  {
   "cell_type": "code",
   "execution_count": 101,
   "metadata": {},
   "outputs": [],
   "source": [
    "scaler = StandardScaler()\n",
    "xtrain_scaled = scaler.fit_transform(xtrain)\n",
    "xtest_scaled= scaler.fit_transform(xtest)"
   ]
  },
  {
   "cell_type": "markdown",
   "metadata": {},
   "source": [
    "# Models"
   ]
  },
  {
   "cell_type": "markdown",
   "metadata": {},
   "source": [
    "## Logistic Regression"
   ]
  },
  {
   "cell_type": "code",
   "execution_count": 102,
   "metadata": {},
   "outputs": [
    {
     "name": "stdout",
     "output_type": "stream",
     "text": [
      "\n",
      "Confusion Matrix \n",
      "\n",
      " [[11892   107]\n",
      " [ 1318   247]]\n",
      "\n",
      " Accuracy Score\n",
      " 89.49424948392804\n",
      "\\Classification Report\n",
      "\n",
      "               precision    recall  f1-score   support\n",
      "\n",
      "           0       0.90      0.99      0.94     11999\n",
      "           1       0.70      0.16      0.26      1565\n",
      "\n",
      "    accuracy                           0.89     13564\n",
      "   macro avg       0.80      0.57      0.60     13564\n",
      "weighted avg       0.88      0.89      0.86     13564\n",
      "\n"
     ]
    }
   ],
   "source": [
    "logic_r = LogisticRegression(solver='liblinear')\n",
    "logic_r.fit(xtrain_scaled, ytrain)\n",
    "y_pred=logic_r.predict(xtest_scaled)\n",
    "LR_accuracy = accuracy_score(ytest, y_pred)\n",
    "print('\\nConfusion Matrix \\n\\n', confusion_matrix(ytest,y_pred))\n",
    "print('\\n Accuracy Score\\n', LR_accuracy*100)\n",
    "print('\\Classification Report\\n\\n', classification_report(ytest,y_pred))"
   ]
  },
  {
   "cell_type": "markdown",
   "metadata": {},
   "source": [
    "## Naive Bayes "
   ]
  },
  {
   "cell_type": "code",
   "execution_count": 103,
   "metadata": {},
   "outputs": [
    {
     "name": "stdout",
     "output_type": "stream",
     "text": [
      "\n",
      "Confusion Matrix \n",
      "\n",
      " [[11892   107]\n",
      " [ 1318   247]]\n",
      "\n",
      " Accuracy Score\n",
      " 82.40194632851666\n",
      "\\Classification Report\n",
      "\n",
      "               precision    recall  f1-score   support\n",
      "\n",
      "           0       0.90      0.99      0.94     11999\n",
      "           1       0.70      0.16      0.26      1565\n",
      "\n",
      "    accuracy                           0.89     13564\n",
      "   macro avg       0.80      0.57      0.60     13564\n",
      "weighted avg       0.88      0.89      0.86     13564\n",
      "\n"
     ]
    }
   ],
   "source": [
    "NB = GaussianNB()\n",
    "NB.fit(xtrain_scaled, ytrain)\n",
    "y_predi = NB.predict(xtest_scaled)\n",
    "NB_accuracy=accuracy_score(ytest, y_predi)\n",
    "print('\\nConfusion Matrix \\n\\n', confusion_matrix(ytest,y_pred))\n",
    "print('\\n Accuracy Score\\n', NB_accuracy*100)\n",
    "print('\\Classification Report\\n\\n', classification_report(ytest,y_pred))"
   ]
  },
  {
   "cell_type": "markdown",
   "metadata": {},
   "source": [
    "## KNN model"
   ]
  },
  {
   "cell_type": "code",
   "execution_count": 104,
   "metadata": {},
   "outputs": [
    {
     "name": "stdout",
     "output_type": "stream",
     "text": [
      "\n",
      "Confusion Matrix \n",
      "\n",
      " [[11465   534]\n",
      " [ 1236   329]]\n",
      "\n",
      " Accuracy Score\n",
      " 86.95075199056326\n",
      "\\Classification Report\n",
      "\n",
      "               precision    recall  f1-score   support\n",
      "\n",
      "           0       0.90      0.96      0.93     11999\n",
      "           1       0.38      0.21      0.27      1565\n",
      "\n",
      "    accuracy                           0.87     13564\n",
      "   macro avg       0.64      0.58      0.60     13564\n",
      "weighted avg       0.84      0.87      0.85     13564\n",
      "\n"
     ]
    }
   ],
   "source": [
    "from sklearn.neighbors import KNeighborsClassifier\n",
    "knn=KNeighborsClassifier(n_neighbors=3)\n",
    "knn.fit(xtrain_scaled, ytrain)\n",
    "y_predict=knn.predict(xtest_scaled)\n",
    "\n",
    "KNN_accuracy=accuracy_score(ytest, y_predict)\n",
    "print('\\nConfusion Matrix \\n\\n', confusion_matrix(ytest,y_predict))\n",
    "print('\\n Accuracy Score\\n', KNN_accuracy*100)\n",
    "print('\\Classification Report\\n\\n', classification_report(ytest,y_predict))"
   ]
  },
  {
   "cell_type": "markdown",
   "metadata": {},
   "source": [
    "## SVC Model"
   ]
  },
  {
   "cell_type": "code",
   "execution_count": 105,
   "metadata": {},
   "outputs": [
    {
     "name": "stdout",
     "output_type": "stream",
     "text": [
      "\n",
      "Confusion Matrix \n",
      "\n",
      " [[11856   143]\n",
      " [ 1287   278]]\n",
      "\n",
      " Accuracy Score\n",
      " 89.45738720141551\n",
      "\\Classification Report\n",
      "\n",
      "               precision    recall  f1-score   support\n",
      "\n",
      "           0       0.90      0.99      0.94     11999\n",
      "           1       0.66      0.18      0.28      1565\n",
      "\n",
      "    accuracy                           0.89     13564\n",
      "   macro avg       0.78      0.58      0.61     13564\n",
      "weighted avg       0.87      0.89      0.87     13564\n",
      "\n"
     ]
    }
   ],
   "source": [
    "svc=SVC()\n",
    "svc.fit(xtrain_scaled, ytrain)\n",
    "y_pred1=svc.predict(xtest_scaled)\n",
    "\n",
    "SVC_accuracy=accuracy_score(ytest, y_pred1)\n",
    "print('\\nConfusion Matrix \\n\\n', confusion_matrix(ytest,y_pred1))\n",
    "print('\\n Accuracy Score\\n', SVC_accuracy*100)\n",
    "print('\\Classification Report\\n\\n', classification_report(ytest,y_pred1))"
   ]
  },
  {
   "cell_type": "markdown",
   "metadata": {},
   "source": [
    "## Decision Tree"
   ]
  },
  {
   "cell_type": "code",
   "execution_count": 111,
   "metadata": {},
   "outputs": [
    {
     "name": "stdout",
     "output_type": "stream",
     "text": [
      "\n",
      "Confusion Matrix \n",
      "\n",
      " [[10819  1180]\n",
      " [ 1190   375]]\n",
      "\n",
      " Accuracy Score\n",
      " 82.52727808905928\n",
      "\\Classification Report\n",
      "\n",
      "               precision    recall  f1-score   support\n",
      "\n",
      "           0       0.90      0.90      0.90     11999\n",
      "           1       0.24      0.24      0.24      1565\n",
      "\n",
      "    accuracy                           0.83     13564\n",
      "   macro avg       0.57      0.57      0.57     13564\n",
      "weighted avg       0.82      0.83      0.83     13564\n",
      "\n"
     ]
    }
   ],
   "source": [
    "dtree = DecisionTreeClassifier(criterion='gini')\n",
    "dtree.fit(xtrain_scaled,ytrain)\n",
    "dt_pred=dtree.predict(xtest_scaled)\n",
    "\n",
    "DT_accuracy=accuracy_score(ytest, dt_pred)\n",
    "print('\\nConfusion Matrix \\n\\n', confusion_matrix(ytest,dt_pred))\n",
    "print('\\n Accuracy Score\\n', DT_accuracy*100)\n",
    "print('\\Classification Report\\n\\n', classification_report(ytest,dt_pred))"
   ]
  },
  {
   "cell_type": "markdown",
   "metadata": {},
   "source": [
    "## Feature importance test for DT"
   ]
  },
  {
   "cell_type": "code",
   "execution_count": 107,
   "metadata": {},
   "outputs": [],
   "source": [
    "# xvar = df2.drop('Target',axis=1)\n",
    "# feature_cols=xvar.columns\n",
    "# feat_importance=dtree.compute_feature_importance_(normalize=False)\n",
    "# feat_imp_dict=dict(zip(feature))"
   ]
  },
  {
   "cell_type": "markdown",
   "metadata": {},
   "source": [
    "## Bagging:\n"
   ]
  },
  {
   "cell_type": "code",
   "execution_count": 116,
   "metadata": {},
   "outputs": [
    {
     "name": "stdout",
     "output_type": "stream",
     "text": [
      "\n",
      "Confusion Matrix \n",
      "\n",
      " [[11554   445]\n",
      " [ 1230   335]]\n",
      "\n",
      " Accuracy Score\n",
      " 87.65113535830139\n",
      "\\Classification Report\n",
      "\n",
      "               precision    recall  f1-score   support\n",
      "\n",
      "           0       0.90      0.96      0.93     11999\n",
      "           1       0.43      0.21      0.29      1565\n",
      "\n",
      "    accuracy                           0.88     13564\n",
      "   macro avg       0.67      0.59      0.61     13564\n",
      "weighted avg       0.85      0.88      0.86     13564\n",
      "\n"
     ]
    }
   ],
   "source": [
    "# from sklearn import BaggingClassifier\n",
    "bagc=BaggingClassifier(base_estimator = dtree,n_estimators=500, random_state=3)\n",
    "bagc.fit(xtrain_scaled,ytrain)\n",
    "bag_pred = bagc.predict(xtest_scaled)\n",
    "\n",
    "BAG_accuracy=accuracy_score(ytest, bag_pred)\n",
    "print('\\nConfusion Matrix \\n\\n', confusion_matrix(ytest,bag_pred))\n",
    "print('\\n Accuracy Score\\n', BAG_accuracy*100)\n",
    "print('\\Classification Report\\n\\n', classification_report(ytest,bag_pred))"
   ]
  },
  {
   "cell_type": "markdown",
   "metadata": {},
   "source": [
    "## Adaptive Boosting Ensemble"
   ]
  },
  {
   "cell_type": "code",
   "execution_count": 121,
   "metadata": {},
   "outputs": [
    {
     "name": "stdout",
     "output_type": "stream",
     "text": [
      "\n",
      "Confusion Matrix \n",
      "\n",
      " [[11999     0]\n",
      " [ 1565     0]]\n",
      "\n",
      " Accuracy Score\n",
      " 88.46210557357712\n",
      "\\Classification Report\n",
      "\n",
      "               precision    recall  f1-score   support\n",
      "\n",
      "           0       0.90      0.96      0.93     11999\n",
      "           1       0.43      0.21      0.29      1565\n",
      "\n",
      "    accuracy                           0.88     13564\n",
      "   macro avg       0.67      0.59      0.61     13564\n",
      "weighted avg       0.85      0.88      0.86     13564\n",
      "\n"
     ]
    }
   ],
   "source": [
    "adab = AdaBoostClassifier(n_estimators=50, random_state=1)\n",
    "adab.fit(xtrain_scaled, ytrain) #here xtrain was used ?\n",
    "ada_pred=adab.predict(xtest)\n",
    "\n",
    "ADA_accuracy=accuracy_score(ytest, ada_pred)\n",
    "print('\\nConfusion Matrix \\n\\n', confusion_matrix(ytest,ada_pred))\n",
    "print('\\n Accuracy Score\\n', ADA_accuracy*100)\n",
    "print('\\Classification Report\\n\\n', classification_report(ytest,bag_pred))"
   ]
  },
  {
   "cell_type": "markdown",
   "metadata": {},
   "source": [
    "## Random Forest"
   ]
  },
  {
   "cell_type": "code",
   "execution_count": 124,
   "metadata": {},
   "outputs": [],
   "source": [
    "from sklearn.ensemble import RandomForestClassifier"
   ]
  },
  {
   "cell_type": "code",
   "execution_count": 129,
   "metadata": {},
   "outputs": [
    {
     "name": "stdout",
     "output_type": "stream",
     "text": [
      "\n",
      "Confusion Matrix \n",
      "\n",
      " [[6292 5707]\n",
      " [ 819  746]]\n",
      "\n",
      " Accuracy Score\n",
      " 51.8873488646417\n",
      "\\Classification Report\n",
      "\n",
      "               precision    recall  f1-score   support\n",
      "\n",
      "           0       0.88      0.52      0.66     11999\n",
      "           1       0.12      0.48      0.19      1565\n",
      "\n",
      "    accuracy                           0.52     13564\n",
      "   macro avg       0.50      0.50      0.42     13564\n",
      "weighted avg       0.80      0.52      0.60     13564\n",
      "\n"
     ]
    }
   ],
   "source": [
    "randf1 = RandomForestClassifier(n_estimators=100, random_state=2, max_features=3)\n",
    "randf1.fit(xtrain_scaled, ytrain) \n",
    "ran_pred1 = randf1.predict(xtest)\n",
    "\n",
    "RAF1_accuracy=accuracy_score(ytest, ran_pred1)\n",
    "print('\\nConfusion Matrix \\n\\n', confusion_matrix(ytest,ran_pred1))\n",
    "print('\\n Accuracy Score\\n', RAF1_accuracy*100)\n",
    "print('\\Classification Report\\n\\n', classification_report(ytest,ran_pred1))"
   ]
  },
  {
   "cell_type": "markdown",
   "metadata": {},
   "source": [
    "### This model is with using        _xtrain & not _xtrain_scaled_"
   ]
  },
  {
   "cell_type": "code",
   "execution_count": 130,
   "metadata": {},
   "outputs": [
    {
     "name": "stdout",
     "output_type": "stream",
     "text": [
      "\n",
      "Confusion Matrix \n",
      "\n",
      " [[11536   463]\n",
      " [ 1226   339]]\n",
      "\n",
      " Accuracy Score\n",
      " 87.5479209672663\n",
      "\\Classification Report\n",
      "\n",
      "               precision    recall  f1-score   support\n",
      "\n",
      "           0       0.90      0.96      0.93     11999\n",
      "           1       0.42      0.22      0.29      1565\n",
      "\n",
      "    accuracy                           0.88     13564\n",
      "   macro avg       0.66      0.59      0.61     13564\n",
      "weighted avg       0.85      0.88      0.86     13564\n",
      "\n"
     ]
    }
   ],
   "source": [
    "randf = RandomForestClassifier(n_estimators=100, random_state=2, max_features=3)\n",
    "randf.fit(xtrain, ytrain)  # Here xtrain is used note the difference in the accuracy \n",
    "ran_pred = randf.predict(xtest)\n",
    "\n",
    "RAF_accuracy=accuracy_score(ytest, ran_pred)\n",
    "print('\\nConfusion Matrix \\n\\n', confusion_matrix(ytest,ran_pred))\n",
    "print('\\n Accuracy Score\\n', RAF_accuracy*100)\n",
    "print('\\Classification Report\\n\\n', classification_report(ytest,ran_pred))"
   ]
  },
  {
   "cell_type": "code",
   "execution_count": 139,
   "metadata": {},
   "outputs": [
    {
     "name": "stdout",
     "output_type": "stream",
     "text": [
      "\n",
      "Confusion Matrix \n",
      "\n",
      " [[11900    99]\n",
      " [ 1328   237]]\n",
      "\n",
      " Accuracy Score\n",
      " 89.47950457092303\n",
      "\\Classification Report\n",
      "\n",
      "               precision    recall  f1-score   support\n",
      "\n",
      "           0       0.90      0.99      0.94     11999\n",
      "           1       0.71      0.15      0.25      1565\n",
      "\n",
      "    accuracy                           0.89     13564\n",
      "   macro avg       0.80      0.57      0.60     13564\n",
      "weighted avg       0.88      0.89      0.86     13564\n",
      "\n"
     ]
    }
   ],
   "source": [
    "grad = GradientBoostingClassifier(n_estimators=100, random_state=2)\n",
    "grad.fit(xtrain, ytrain)  #Here too xtrain used\n",
    "gra_pred = grad.predict(xtest) \n",
    "\n",
    "GRA_accuracy=accuracy_score(ytest, gra_pred)\n",
    "print('\\nConfusion Matrix \\n\\n', confusion_matrix(ytest,gra_pred))\n",
    "print('\\n Accuracy Score\\n', GRA_accuracy*100)\n",
    "print('\\Classification Report\\n\\n', classification_report(ytest,gra_pred))"
   ]
  },
  {
   "cell_type": "markdown",
   "metadata": {},
   "source": [
    "# Model Accuracy with Scores"
   ]
  },
  {
   "cell_type": "code",
   "execution_count": 137,
   "metadata": {},
   "outputs": [
    {
     "name": "stdout",
     "output_type": "stream",
     "text": [
      "\u001b[lm Current scores with outliers replaced with mean:]\n"
     ]
    },
    {
     "data": {
      "text/html": [
       "<div>\n",
       "<style scoped>\n",
       "    .dataframe tbody tr th:only-of-type {\n",
       "        vertical-align: middle;\n",
       "    }\n",
       "\n",
       "    .dataframe tbody tr th {\n",
       "        vertical-align: top;\n",
       "    }\n",
       "\n",
       "    .dataframe thead th {\n",
       "        text-align: right;\n",
       "    }\n",
       "</style>\n",
       "<table border=\"1\" class=\"dataframe\">\n",
       "  <thead>\n",
       "    <tr style=\"text-align: right;\">\n",
       "      <th></th>\n",
       "      <th>Model</th>\n",
       "      <th>Accuracy Score</th>\n",
       "    </tr>\n",
       "  </thead>\n",
       "  <tbody>\n",
       "    <tr>\n",
       "      <th>2</th>\n",
       "      <td>Logistic regression</td>\n",
       "      <td>0.894942</td>\n",
       "    </tr>\n",
       "    <tr>\n",
       "      <th>7</th>\n",
       "      <td>Gradient Boosting</td>\n",
       "      <td>0.894795</td>\n",
       "    </tr>\n",
       "    <tr>\n",
       "      <th>3</th>\n",
       "      <td>SVC</td>\n",
       "      <td>0.894574</td>\n",
       "    </tr>\n",
       "    <tr>\n",
       "      <th>6</th>\n",
       "      <td>Adaptive Boosting</td>\n",
       "      <td>0.884621</td>\n",
       "    </tr>\n",
       "    <tr>\n",
       "      <th>5</th>\n",
       "      <td>Bagging</td>\n",
       "      <td>0.876511</td>\n",
       "    </tr>\n",
       "    <tr>\n",
       "      <th>8</th>\n",
       "      <td>Random Forest</td>\n",
       "      <td>0.875479</td>\n",
       "    </tr>\n",
       "    <tr>\n",
       "      <th>1</th>\n",
       "      <td>KNN</td>\n",
       "      <td>0.869508</td>\n",
       "    </tr>\n",
       "    <tr>\n",
       "      <th>4</th>\n",
       "      <td>Decision Tree</td>\n",
       "      <td>0.825273</td>\n",
       "    </tr>\n",
       "    <tr>\n",
       "      <th>0</th>\n",
       "      <td>Naive bayes</td>\n",
       "      <td>0.824019</td>\n",
       "    </tr>\n",
       "  </tbody>\n",
       "</table>\n",
       "</div>"
      ],
      "text/plain": [
       "                 Model  Accuracy Score\n",
       "2  Logistic regression        0.894942\n",
       "7    Gradient Boosting        0.894795\n",
       "3                  SVC        0.894574\n",
       "6    Adaptive Boosting        0.884621\n",
       "5              Bagging        0.876511\n",
       "8        Random Forest        0.875479\n",
       "1                  KNN        0.869508\n",
       "4        Decision Tree        0.825273\n",
       "0          Naive bayes        0.824019"
      ]
     },
     "execution_count": 137,
     "metadata": {},
     "output_type": "execute_result"
    }
   ],
   "source": [
    "scores=[('Naive bayes',NB_accuracy),\n",
    "       ('KNN', KNN_accuracy),\n",
    "       ('Logistic regression',LR_accuracy),\n",
    "       ('SVC',SVC_accuracy),\n",
    "       ('Decision Tree', DT_accuracy),\n",
    "       ('Bagging', BAG_accuracy),\n",
    "       ('Adaptive Boosting',ADA_accuracy),\n",
    "       ('Gradient Boosting', GRA_accuracy),\n",
    "       ('Random Forest', RAF_accuracy)]\n",
    "\n",
    "scores =pd.DataFrame(scores,columns=['Model', 'Accuracy Score'])\n",
    "\n",
    "print('\\033[lm'' Current scores with outliers replaced with mean:]')\n",
    "\n",
    "scores.sort_values(by ='Accuracy Score', ascending=False)"
   ]
  },
  {
   "cell_type": "markdown",
   "metadata": {},
   "source": [
    "# Observations made from above methods\n",
    "\n",
    "\n",
    "___Whenever a binary classification is given, using a Logistic Regression algorithm gives better output than other Ensemble technique___\n",
    "\n",
    "- Well predicted the class 0\n",
    "\n",
    "\n",
    "- NOt well in class 1 since the recall & precision is not so good due to the less availibility of class 1 records (Due to __Class Imbalance__)\n",
    "\n",
    "\n",
    "- Data sets included many unwanted features/attributes\n",
    "\n",
    "\n",
    "- __SVC__ outperformed __Naive Bayes__ due to its ability of creating __multiple Hyperplanes__\n",
    "\n",
    "\n",
    "- After removing the duration column the highest model score dropped by __2%__\n",
    "\n",
    "\n",
    "- Outliers didn't much affect the results\n",
    "\n",
    "\n",
    "- DT & GBM performed better for this data sets\n",
    "\n",
    "\n",
    "- After getdummies the features will increase, it won't make significant difference.\n",
    "\n",
    "\n",
    "- Outlier handling didn't make significant difference in results\n",
    "\n",
    "\n"
   ]
  },
  {
   "cell_type": "code",
   "execution_count": null,
   "metadata": {},
   "outputs": [],
   "source": []
  }
 ],
 "metadata": {
  "kernelspec": {
   "display_name": "Python 3",
   "language": "python",
   "name": "python3"
  },
  "language_info": {
   "codemirror_mode": {
    "name": "ipython",
    "version": 3
   },
   "file_extension": ".py",
   "mimetype": "text/x-python",
   "name": "python",
   "nbconvert_exporter": "python",
   "pygments_lexer": "ipython3",
   "version": "3.6.10"
  }
 },
 "nbformat": 4,
 "nbformat_minor": 4
}
