{
 "cells": [
  {
   "cell_type": "markdown",
   "metadata": {},
   "source": [
    "## Question 1:\n",
    "Assuming that we have some email addresses in the \"username@companyname.com\" format, please write program\n",
    "to print the company name of a given email address. Both user names and company names are composed of letters\n",
    "only.\n",
    "\n",
    "Input Format:\n",
    "The first line of the input contains an email address.\n",
    "\n",
    "Output Format:\n",
    "Print the company name in single line.\n",
    "\n",
    "Example;\n",
    "Input:\n",
    "john@google.com\n",
    "\n",
    "Output:\n",
    "google\n"
   ]
  },
  {
   "cell_type": "code",
   "execution_count": 31,
   "metadata": {},
   "outputs": [
    {
     "name": "stdout",
     "output_type": "stream",
     "text": [
      "Please enter your professional e-mail ID: username@companyname.com format :\tmohammedazeem@letsupgrade.com\n",
      "letsupgrade\n"
     ]
    }
   ],
   "source": [
    "import re\n",
    "mail = input(\"Please enter your professional e-mail ID: username@companyname.com format :\\t\")\n",
    "\n",
    "\n",
    "company = re.findall(r\"[\\w']+\", mail)\n",
    "print(str(company[1]))\n"
   ]
  },
  {
   "cell_type": "markdown",
   "metadata": {},
   "source": [
    "## Question 2:\n",
    "Write a program that accepts a comma-separated sequence of words as input and prints the words in a comma\n",
    "separated sequence after sorting them alphabetically.\n",
    "\n",
    "\n",
    "Input Format:\n",
    "The first line of input contains words separated by the comma.\n",
    "\n",
    "Output Format:\n",
    "Print the sorted words separated by the comma.\n",
    "\n",
    "Example:\n",
    "Input:\n",
    "without,hello,bag,world\n",
    "\n",
    "Output:\n",
    "bag,hello,without,world"
   ]
  },
  {
   "cell_type": "code",
   "execution_count": 51,
   "metadata": {},
   "outputs": [
    {
     "name": "stdout",
     "output_type": "stream",
     "text": [
      "Enter words by separating them with ',' AI, ML, LetsUpgrade, Challenge, Accepted\n",
      "\n",
      " the entered comma separated values are ['AI', 'ML', 'LetsUpgrade', 'Challenge', 'Accepted']\n",
      "['AI', 'Accepted', 'Challenge', 'LetsUpgrade', 'ML']\n"
     ]
    }
   ],
   "source": [
    "user_input = list(map(str, input(\"Enter words by separating them with ',' \").split(', ')))\n",
    "print(\"\\n the entered comma separated values are\", user_input)\n",
    "\n",
    "user_input.sort()\n",
    "print(user_input)"
   ]
  },
  {
   "cell_type": "markdown",
   "metadata": {},
   "source": [
    "### Create your own Jupyter Notebook for Sets.\n",
    "\n",
    "Reference link: https://www.w3schools.com/python/python_sets.asp"
   ]
  },
  {
   "cell_type": "markdown",
   "metadata": {},
   "source": [
    "### SETS are unordered & unindexed"
   ]
  },
  {
   "cell_type": "code",
   "execution_count": 100,
   "metadata": {},
   "outputs": [
    {
     "name": "stdout",
     "output_type": "stream",
     "text": [
      "{'learning', 'AI', 'ML', '2020'}\n",
      "learning | AI | ML | 2020 | "
     ]
    }
   ],
   "source": [
    "s1 = {'AI', 'ML', 'learning', '2020'} #creating a list.                           ?How the order is decided for printing output?\n",
    "print(s1) \n",
    "for x in s1:\n",
    "    print(x, end=' | ')"
   ]
  },
  {
   "cell_type": "code",
   "execution_count": 101,
   "metadata": {},
   "outputs": [
    {
     "name": "stdout",
     "output_type": "stream",
     "text": [
      "True\n"
     ]
    }
   ],
   "source": [
    "print('learning' in s1) #returns a boolean for elemets in set or not"
   ]
  },
  {
   "cell_type": "code",
   "execution_count": 102,
   "metadata": {},
   "outputs": [
    {
     "data": {
      "text/plain": [
       "{'2020', 'AI', 'ML', 'challenge', 'learning'}"
      ]
     },
     "execution_count": 102,
     "metadata": {},
     "output_type": "execute_result"
    }
   ],
   "source": [
    "s1.add('challenge') #adds a new element to the set by taking only one argument                ?? Position where it gets added??\n",
    "s1"
   ]
  },
  {
   "cell_type": "code",
   "execution_count": 123,
   "metadata": {},
   "outputs": [
    {
     "name": "stdout",
     "output_type": "stream",
     "text": [
      "{'learning', '2020', 'c', 'k', 'a', 't', 'w', 'ML', 'i', ' ', 'p', 's', 'n', 'm', 'r', 'd', 'o', 'g', 'e', 'AI'}\n"
     ]
    }
   ],
   "source": [
    "s1 = {'AI', 'ML', 'learning', '2020'}\n",
    "s1.update('accepted','working smart')  #To update multiple items pass them as list using update() function.\n",
    "print(s1)"
   ]
  },
  {
   "cell_type": "code",
   "execution_count": 135,
   "metadata": {},
   "outputs": [
    {
     "name": "stdout",
     "output_type": "stream",
     "text": [
      "{'learning', '2020', 'ML', 'accepted', 'working smart', 'AI'}\n"
     ]
    }
   ],
   "source": [
    "s1 = {'AI', 'ML', 'learning', '2020'}\n",
    "s1.update([\"accepted\",\"working smart\"])  \n",
    "print(s1)"
   ]
  },
  {
   "cell_type": "code",
   "execution_count": 136,
   "metadata": {},
   "outputs": [
    {
     "name": "stdout",
     "output_type": "stream",
     "text": [
      "6\n"
     ]
    }
   ],
   "source": [
    "print(len(s1)) #to know the length/number of elements in the set"
   ]
  },
  {
   "cell_type": "code",
   "execution_count": 137,
   "metadata": {},
   "outputs": [
    {
     "ename": "KeyError",
     "evalue": "'be smart'",
     "output_type": "error",
     "traceback": [
      "\u001b[1;31m---------------------------------------------------------------------------\u001b[0m",
      "\u001b[1;31mKeyError\u001b[0m                                  Traceback (most recent call last)",
      "\u001b[1;32m<ipython-input-137-b5e67f0b612b>\u001b[0m in \u001b[0;36m<module>\u001b[1;34m\u001b[0m\n\u001b[1;32m----> 1\u001b[1;33m \u001b[0ms1\u001b[0m\u001b[1;33m.\u001b[0m\u001b[0mremove\u001b[0m\u001b[1;33m(\u001b[0m\u001b[1;34m\"be smart\"\u001b[0m\u001b[1;33m)\u001b[0m  \u001b[1;31m#remove function raises error if element to be removed not in the set\u001b[0m\u001b[1;33m\u001b[0m\u001b[1;33m\u001b[0m\u001b[0m\n\u001b[0m\u001b[0;32m      2\u001b[0m \u001b[0ms1\u001b[0m\u001b[1;33m\u001b[0m\u001b[1;33m\u001b[0m\u001b[0m\n",
      "\u001b[1;31mKeyError\u001b[0m: 'be smart'"
     ]
    }
   ],
   "source": [
    "s1.remove(\"be smart\")  #remove function raises error if element to be removed not in the set\n",
    "s1"
   ]
  },
  {
   "cell_type": "code",
   "execution_count": 138,
   "metadata": {},
   "outputs": [
    {
     "name": "stdout",
     "output_type": "stream",
     "text": [
      "{'learning', '2020', 'ML', 'accepted', 'AI'}\n"
     ]
    }
   ],
   "source": [
    "s1.remove(\"working smart\") # removes the element specified int the set\n",
    "print(s1)"
   ]
  },
  {
   "cell_type": "code",
   "execution_count": 139,
   "metadata": {},
   "outputs": [
    {
     "data": {
      "text/plain": [
       "{'2020', 'AI', 'ML', 'accepted', 'learning'}"
      ]
     },
     "execution_count": 139,
     "metadata": {},
     "output_type": "execute_result"
    }
   ],
   "source": [
    "s1.discard(\"abc\")  # No error even though the name isn'tin the set\n",
    "s1"
   ]
  },
  {
   "cell_type": "code",
   "execution_count": 140,
   "metadata": {},
   "outputs": [
    {
     "data": {
      "text/plain": [
       "{'2020', 'AI', 'ML', 'learning'}"
      ]
     },
     "execution_count": 140,
     "metadata": {},
     "output_type": "execute_result"
    }
   ],
   "source": [
    "s1.discard(\"accepted\")\n",
    "s1"
   ]
  },
  {
   "cell_type": "code",
   "execution_count": 141,
   "metadata": {},
   "outputs": [
    {
     "data": {
      "text/plain": [
       "{'2020', 'AI', 'ML'}"
      ]
     },
     "execution_count": 141,
     "metadata": {},
     "output_type": "execute_result"
    }
   ],
   "source": [
    "s1.pop() # removes last entry & since sets are unordered so, we do not know what is being removed.\n",
    "s1"
   ]
  },
  {
   "cell_type": "code",
   "execution_count": 142,
   "metadata": {},
   "outputs": [
    {
     "data": {
      "text/plain": [
       "set()"
      ]
     },
     "execution_count": 142,
     "metadata": {},
     "output_type": "execute_result"
    }
   ],
   "source": [
    "s1.clear()\n",
    "s1"
   ]
  },
  {
   "cell_type": "code",
   "execution_count": 143,
   "metadata": {},
   "outputs": [
    {
     "ename": "NameError",
     "evalue": "name 's1' is not defined",
     "output_type": "error",
     "traceback": [
      "\u001b[1;31m---------------------------------------------------------------------------\u001b[0m",
      "\u001b[1;31mNameError\u001b[0m                                 Traceback (most recent call last)",
      "\u001b[1;32m<ipython-input-143-a93df6676c61>\u001b[0m in \u001b[0;36m<module>\u001b[1;34m\u001b[0m\n\u001b[0;32m      1\u001b[0m \u001b[1;32mdel\u001b[0m \u001b[0ms1\u001b[0m\u001b[1;33m\u001b[0m\u001b[1;33m\u001b[0m\u001b[0m\n\u001b[1;32m----> 2\u001b[1;33m \u001b[0ms1\u001b[0m\u001b[1;33m\u001b[0m\u001b[1;33m\u001b[0m\u001b[0m\n\u001b[0m",
      "\u001b[1;31mNameError\u001b[0m: name 's1' is not defined"
     ]
    }
   ],
   "source": [
    "del s1  #deletes the set completely.\n",
    "s1"
   ]
  },
  {
   "cell_type": "code",
   "execution_count": 144,
   "metadata": {},
   "outputs": [],
   "source": [
    "s1={\"a\",\"b\",\"c\",\"d\"}\n",
    "s2={\"e\",\"f\"}"
   ]
  },
  {
   "cell_type": "code",
   "execution_count": 146,
   "metadata": {},
   "outputs": [
    {
     "data": {
      "text/plain": [
       "{'a', 'b', 'c', 'd', 'e', 'f'}"
      ]
     },
     "execution_count": 146,
     "metadata": {},
     "output_type": "execute_result"
    }
   ],
   "source": [
    "s3=s2.union(s1)   # returns all items from both the sets.\n",
    "s3"
   ]
  },
  {
   "cell_type": "markdown",
   "metadata": {},
   "source": [
    "## LU Team include explaination in class for the function of this"
   ]
  },
  {
   "cell_type": "code",
   "execution_count": 149,
   "metadata": {},
   "outputs": [
    {
     "name": "stdout",
     "output_type": "stream",
     "text": [
      "{'d', 'c', 'a', 'f', 'b', 'e'}\n",
      "{'f', 'e'}\n"
     ]
    }
   ],
   "source": [
    "s1.update(s2)   # updating s1 with s2 : only s1 gets updated & s2 same with different order ?\n",
    "print(s1)\n",
    "print(s2)"
   ]
  },
  {
   "cell_type": "code",
   "execution_count": 150,
   "metadata": {},
   "outputs": [
    {
     "name": "stdout",
     "output_type": "stream",
     "text": [
      "{'d', 'c', 'a', 'f', 'b', 'e'}\n",
      "{'c', 'a', 'd', 'b', 'f', 'e'}\n"
     ]
    }
   ],
   "source": [
    "s2.update(s1)  # updating s2 with s1 : both the set get updated unorderly\n",
    "print(s1)\n",
    "print(s2)"
   ]
  },
  {
   "cell_type": "markdown",
   "metadata": {},
   "source": [
    "### Question 4:\n",
    "Given a list of n-1 numbers ranging from 1 to n, your task is to find the missing number. There are no duplicates.\n",
    "\n",
    "\n",
    "Input Format:\n",
    "The first line contains n-1 numbers with each number separated by a space.\n",
    "\n",
    "Output Format:\n",
    "Print the missing number\n",
    "\n",
    "Example:\n",
    "Input:1 2 4 6 3 7 8\n",
    "\n",
    "Output:5\n",
    "Explanation:\n",
    "In the above list of numbers 5 is missing and hence 5 is the input"
   ]
  },
  {
   "cell_type": "code",
   "execution_count": 164,
   "metadata": {},
   "outputs": [
    {
     "name": "stdout",
     "output_type": "stream",
     "text": [
      "Enter values by separating them with space: 1 2 5 4 8\n",
      "The missing value is :  3\n",
      "The missing value is :  6\n",
      "The missing value is :  7\n"
     ]
    }
   ],
   "source": [
    "input_list = list(map(int, input(\"Enter values by separating them with space: \").split()))\n",
    "\n",
    "for i in range(1, input_list[-1]):\n",
    "    if i not in input_list :\n",
    "        print(\"The missing value is : \", i) \n"
   ]
  },
  {
   "cell_type": "code",
   "execution_count": null,
   "metadata": {},
   "outputs": [],
   "source": []
  },
  {
   "cell_type": "markdown",
   "metadata": {},
   "source": [
    "###  Question 5:\n",
    "With a given list L, write a program to print this list L after removing all duplicate values with original order reserved.\n",
    "\n",
    "Example:\n",
    "If the input list is\n",
    "12 24 35 24 88 120 155 88 120 155\n",
    "\n",
    "Then the output should be\n",
    "12 24 35 88 120 155\n",
    "\n",
    "Explanation:\n",
    "Third, seventh and ninth element of the list L has been removed because it was already present.\n",
    "\n",
    "Input Format:\n",
    "In one line take the elements of the list L with each element separated by a space.\n",
    "\n",
    "Output Format:\n",
    "Print the elements of the modified list in one line with each element separated by a space.\n",
    "\n",
    "Example:\n",
    "Input: 12 24 35 24\n",
    "Output:\n",
    "12 24 35"
   ]
  },
  {
   "cell_type": "code",
   "execution_count": 173,
   "metadata": {},
   "outputs": [
    {
     "name": "stdout",
     "output_type": "stream",
     "text": [
      "Please enter values: 12 35 25 47 12 33 17 35\n",
      "\n",
      "The original list by user is : ['12', '35', '25', '47', '12', '33', '17', '35']\n",
      "\n",
      "The unique sorted list is : ['12', '35', '25', '47', '33', '17']\n"
     ]
    }
   ],
   "source": [
    "list1 = list(input(\"Please enter values: \").split())\n",
    "list2 = []\n",
    "\n",
    "for i in list1:\n",
    "    if i not in list2:\n",
    "        list2.append(i)\n",
    "\n",
    "print(\"\\nThe original list by user is :\", list1)\n",
    "print(\"\\nThe unique sorted list is :\", list2)"
   ]
  },
  {
   "cell_type": "code",
   "execution_count": null,
   "metadata": {},
   "outputs": [],
   "source": []
  }
 ],
 "metadata": {
  "kernelspec": {
   "display_name": "Python 3",
   "language": "python",
   "name": "python3"
  },
  "language_info": {
   "codemirror_mode": {
    "name": "ipython",
    "version": 3
   },
   "file_extension": ".py",
   "mimetype": "text/x-python",
   "name": "python",
   "nbconvert_exporter": "python",
   "pygments_lexer": "ipython3",
   "version": "3.6.10"
  }
 },
 "nbformat": 4,
 "nbformat_minor": 4
}
