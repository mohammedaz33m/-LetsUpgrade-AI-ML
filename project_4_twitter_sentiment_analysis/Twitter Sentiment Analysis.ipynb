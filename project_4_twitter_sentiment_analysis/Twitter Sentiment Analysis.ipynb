{
 "cells": [
  {
   "cell_type": "markdown",
   "metadata": {},
   "source": [
    "# Twitter Sentiment Analysis\n",
    "\n",
    "- > First have a twitter Developer access\n",
    "\n",
    "- > Browse through https://developer.twitter.com/en while you are logged-in your twitter account\n",
    "\n",
    "- > Locate to the left _Projects & Apps_ or for others it maybe _click on profile photo & choose apps from dropdown_\n",
    "\n",
    "- > hit- creeate a new app, name it & proceed\n",
    "\n",
    "- > Open a text file to store the credentials shown in the next page _API Key, API Secret Key, Bearer token_\n",
    "\n",
    "- > Access token , Secret token had to be generated via options _Keys & tokens_ tab beside setting.\n"
   ]
  },
  {
   "cell_type": "code",
   "execution_count": 30,
   "metadata": {},
   "outputs": [],
   "source": [
    "!pip install tweepy # open source API hosted on GitHub twitter (3.9.0 was installed)"
   ]
  },
  {
   "cell_type": "code",
   "execution_count": 31,
   "metadata": {},
   "outputs": [],
   "source": [
    "!pip install openpyxl #to read or write files xlsm, xlsx, xltm, xltx etc."
   ]
  },
  {
   "cell_type": "code",
   "execution_count": 32,
   "metadata": {},
   "outputs": [],
   "source": [
    "import numpy as np\n",
    "import pandas as pd\n",
    "import tweepy\n",
    "import json\n",
    "from tweepy import OAuthHandler"
   ]
  },
  {
   "cell_type": "code",
   "execution_count": 53,
   "metadata": {},
   "outputs": [],
   "source": [
    "consumer_key = \"XN5NA4I2x8oRT5pUka5gyhpQg\"\n",
    "consumer_secret = \"dw9V8GstgnTT5jl8suMsmPKjcm16gfjaRe1qa8JvRSJXEkPjSP\"\n",
    "access_token = \"1270361837956141056-AFziDwJW6F3CtIOlVjEyH3cqV6lOyQ\"\n",
    "access_token_secret=\"4JjsryzRYbKykcwQivrW7YyLNPSjgn34G7NowCZuq59OF\""
   ]
  },
  {
   "cell_type": "code",
   "execution_count": 54,
   "metadata": {},
   "outputs": [],
   "source": [
    "#Calling API\n",
    "auth=tweepy.OAuthHandler(consumer_key,consumer_secret) #an object of OAuthHandler class created, passing consumer key & secret\n",
    "auth.set_access_token(access_token,access_token_secret)# givin an access by providing the access token\n",
    "api = tweepy.API(auth) #create an object & store in api"
   ]
  },
  {
   "cell_type": "markdown",
   "metadata": {},
   "source": [
    "### Query to search"
   ]
  },
  {
   "cell_type": "code",
   "execution_count": 55,
   "metadata": {},
   "outputs": [],
   "source": [
    "query = \"data science in India\""
   ]
  },
  {
   "cell_type": "code",
   "execution_count": 56,
   "metadata": {},
   "outputs": [
    {
     "name": "stdout",
     "output_type": "stream",
     "text": [
      "Status(_api=<tweepy.api.API object at 0x000002D8691BF198>, _json={'created_at': 'Fri Oct 30 12:12:55 +0000 2020', 'id': 1322149480561405952, 'id_str': '1322149480561405952', 'full_text': 'Data Science Online Training in India. https://t.co/EresGWElrv #DataScienceOnlineTraining #datascienceonlinetraininginindia #datascienceonlineclasses #datascienceonlineclassesinindia #datasciencewithpython https://t.co/Y85nxEKwc4', 'truncated': False, 'display_text_range': [0, 205], 'entities': {'hashtags': [{'text': 'DataScienceOnlineTraining', 'indices': [63, 89]}, {'text': 'datascienceonlinetraininginindia', 'indices': [90, 123]}, {'text': 'datascienceonlineclasses', 'indices': [124, 149]}, {'text': 'datascienceonlineclassesinindia', 'indices': [150, 182]}, {'text': 'datasciencewithpython', 'indices': [183, 205]}], 'symbols': [], 'user_mentions': [], 'urls': [{'url': 'https://t.co/EresGWElrv', 'expanded_url': 'http://www.revanthtechnologies.com/data-science-online-training-from-india.php', 'display_url': 'revanthtechnologies.com/data-science-o…', 'indices': [39, 62]}], 'media': [{'id': 1322149436227645441, 'id_str': '1322149436227645441', 'indices': [206, 229], 'media_url': 'http://pbs.twimg.com/media/Elk36D5U8AECg4n.jpg', 'media_url_https': 'https://pbs.twimg.com/media/Elk36D5U8AECg4n.jpg', 'url': 'https://t.co/Y85nxEKwc4', 'display_url': 'pic.twitter.com/Y85nxEKwc4', 'expanded_url': 'https://twitter.com/OnlineRevanth/status/1322149480561405952/photo/1', 'type': 'photo', 'sizes': {'thumb': {'w': 150, 'h': 150, 'resize': 'crop'}, 'small': {'w': 680, 'h': 366, 'resize': 'fit'}, 'large': {'w': 910, 'h': 490, 'resize': 'fit'}, 'medium': {'w': 910, 'h': 490, 'resize': 'fit'}}}]}, 'extended_entities': {'media': [{'id': 1322149436227645441, 'id_str': '1322149436227645441', 'indices': [206, 229], 'media_url': 'http://pbs.twimg.com/media/Elk36D5U8AECg4n.jpg', 'media_url_https': 'https://pbs.twimg.com/media/Elk36D5U8AECg4n.jpg', 'url': 'https://t.co/Y85nxEKwc4', 'display_url': 'pic.twitter.com/Y85nxEKwc4', 'expanded_url': 'https://twitter.com/OnlineRevanth/status/1322149480561405952/photo/1', 'type': 'photo', 'sizes': {'thumb': {'w': 150, 'h': 150, 'resize': 'crop'}, 'small': {'w': 680, 'h': 366, 'resize': 'fit'}, 'large': {'w': 910, 'h': 490, 'resize': 'fit'}, 'medium': {'w': 910, 'h': 490, 'resize': 'fit'}}}]}, 'metadata': {'iso_language_code': 'en', 'result_type': 'recent'}, 'source': '<a href=\"https://mobile.twitter.com\" rel=\"nofollow\">Twitter Web App</a>', 'in_reply_to_status_id': None, 'in_reply_to_status_id_str': None, 'in_reply_to_user_id': None, 'in_reply_to_user_id_str': None, 'in_reply_to_screen_name': None, 'user': {'id': 2226010854, 'id_str': '2226010854', 'name': 'Revanth Technologies', 'screen_name': 'OnlineRevanth', 'location': 'Hyderabad, India', 'description': 'Revanth Technologies provides Best Online Software Training from Hyderabad India with real time experts. For more details please contact 9290971883, 9247461324.', 'url': 'http://t.co/zBKnCaPaIU', 'entities': {'url': {'urls': [{'url': 'http://t.co/zBKnCaPaIU', 'expanded_url': 'http://www.revanthtechnologies.com', 'display_url': 'revanthtechnologies.com', 'indices': [0, 22]}]}, 'description': {'urls': []}}, 'protected': False, 'followers_count': 125, 'friends_count': 29, 'listed_count': 0, 'created_at': 'Mon Dec 02 04:00:26 +0000 2013', 'favourites_count': 0, 'utc_offset': None, 'time_zone': None, 'geo_enabled': False, 'verified': False, 'statuses_count': 618, 'lang': None, 'contributors_enabled': False, 'is_translator': False, 'is_translation_enabled': False, 'profile_background_color': 'C0DEED', 'profile_background_image_url': 'http://abs.twimg.com/images/themes/theme1/bg.png', 'profile_background_image_url_https': 'https://abs.twimg.com/images/themes/theme1/bg.png', 'profile_background_tile': False, 'profile_image_url': 'http://pbs.twimg.com/profile_images/1219609389616644103/shwghwbD_normal.jpg', 'profile_image_url_https': 'https://pbs.twimg.com/profile_images/1219609389616644103/shwghwbD_normal.jpg', 'profile_banner_url': 'https://pbs.twimg.com/profile_banners/2226010854/1579612513', 'profile_link_color': '1DA1F2', 'profile_sidebar_border_color': 'C0DEED', 'profile_sidebar_fill_color': 'DDEEF6', 'profile_text_color': '333333', 'profile_use_background_image': True, 'has_extended_profile': False, 'default_profile': True, 'default_profile_image': False, 'following': False, 'follow_request_sent': False, 'notifications': False, 'translator_type': 'none'}, 'geo': None, 'coordinates': None, 'place': None, 'contributors': None, 'is_quote_status': False, 'retweet_count': 0, 'favorite_count': 0, 'favorited': False, 'retweeted': False, 'possibly_sensitive': False, 'lang': 'en'}, created_at=datetime.datetime(2020, 10, 30, 12, 12, 55), id=1322149480561405952, id_str='1322149480561405952', full_text='Data Science Online Training in India. https://t.co/EresGWElrv #DataScienceOnlineTraining #datascienceonlinetraininginindia #datascienceonlineclasses #datascienceonlineclassesinindia #datasciencewithpython https://t.co/Y85nxEKwc4', truncated=False, display_text_range=[0, 205], entities={'hashtags': [{'text': 'DataScienceOnlineTraining', 'indices': [63, 89]}, {'text': 'datascienceonlinetraininginindia', 'indices': [90, 123]}, {'text': 'datascienceonlineclasses', 'indices': [124, 149]}, {'text': 'datascienceonlineclassesinindia', 'indices': [150, 182]}, {'text': 'datasciencewithpython', 'indices': [183, 205]}], 'symbols': [], 'user_mentions': [], 'urls': [{'url': 'https://t.co/EresGWElrv', 'expanded_url': 'http://www.revanthtechnologies.com/data-science-online-training-from-india.php', 'display_url': 'revanthtechnologies.com/data-science-o…', 'indices': [39, 62]}], 'media': [{'id': 1322149436227645441, 'id_str': '1322149436227645441', 'indices': [206, 229], 'media_url': 'http://pbs.twimg.com/media/Elk36D5U8AECg4n.jpg', 'media_url_https': 'https://pbs.twimg.com/media/Elk36D5U8AECg4n.jpg', 'url': 'https://t.co/Y85nxEKwc4', 'display_url': 'pic.twitter.com/Y85nxEKwc4', 'expanded_url': 'https://twitter.com/OnlineRevanth/status/1322149480561405952/photo/1', 'type': 'photo', 'sizes': {'thumb': {'w': 150, 'h': 150, 'resize': 'crop'}, 'small': {'w': 680, 'h': 366, 'resize': 'fit'}, 'large': {'w': 910, 'h': 490, 'resize': 'fit'}, 'medium': {'w': 910, 'h': 490, 'resize': 'fit'}}}]}, extended_entities={'media': [{'id': 1322149436227645441, 'id_str': '1322149436227645441', 'indices': [206, 229], 'media_url': 'http://pbs.twimg.com/media/Elk36D5U8AECg4n.jpg', 'media_url_https': 'https://pbs.twimg.com/media/Elk36D5U8AECg4n.jpg', 'url': 'https://t.co/Y85nxEKwc4', 'display_url': 'pic.twitter.com/Y85nxEKwc4', 'expanded_url': 'https://twitter.com/OnlineRevanth/status/1322149480561405952/photo/1', 'type': 'photo', 'sizes': {'thumb': {'w': 150, 'h': 150, 'resize': 'crop'}, 'small': {'w': 680, 'h': 366, 'resize': 'fit'}, 'large': {'w': 910, 'h': 490, 'resize': 'fit'}, 'medium': {'w': 910, 'h': 490, 'resize': 'fit'}}}]}, metadata={'iso_language_code': 'en', 'result_type': 'recent'}, source='Twitter Web App', source_url='https://mobile.twitter.com', in_reply_to_status_id=None, in_reply_to_status_id_str=None, in_reply_to_user_id=None, in_reply_to_user_id_str=None, in_reply_to_screen_name=None, author=User(_api=<tweepy.api.API object at 0x000002D8691BF198>, _json={'id': 2226010854, 'id_str': '2226010854', 'name': 'Revanth Technologies', 'screen_name': 'OnlineRevanth', 'location': 'Hyderabad, India', 'description': 'Revanth Technologies provides Best Online Software Training from Hyderabad India with real time experts. For more details please contact 9290971883, 9247461324.', 'url': 'http://t.co/zBKnCaPaIU', 'entities': {'url': {'urls': [{'url': 'http://t.co/zBKnCaPaIU', 'expanded_url': 'http://www.revanthtechnologies.com', 'display_url': 'revanthtechnologies.com', 'indices': [0, 22]}]}, 'description': {'urls': []}}, 'protected': False, 'followers_count': 125, 'friends_count': 29, 'listed_count': 0, 'created_at': 'Mon Dec 02 04:00:26 +0000 2013', 'favourites_count': 0, 'utc_offset': None, 'time_zone': None, 'geo_enabled': False, 'verified': False, 'statuses_count': 618, 'lang': None, 'contributors_enabled': False, 'is_translator': False, 'is_translation_enabled': False, 'profile_background_color': 'C0DEED', 'profile_background_image_url': 'http://abs.twimg.com/images/themes/theme1/bg.png', 'profile_background_image_url_https': 'https://abs.twimg.com/images/themes/theme1/bg.png', 'profile_background_tile': False, 'profile_image_url': 'http://pbs.twimg.com/profile_images/1219609389616644103/shwghwbD_normal.jpg', 'profile_image_url_https': 'https://pbs.twimg.com/profile_images/1219609389616644103/shwghwbD_normal.jpg', 'profile_banner_url': 'https://pbs.twimg.com/profile_banners/2226010854/1579612513', 'profile_link_color': '1DA1F2', 'profile_sidebar_border_color': 'C0DEED', 'profile_sidebar_fill_color': 'DDEEF6', 'profile_text_color': '333333', 'profile_use_background_image': True, 'has_extended_profile': False, 'default_profile': True, 'default_profile_image': False, 'following': False, 'follow_request_sent': False, 'notifications': False, 'translator_type': 'none'}, id=2226010854, id_str='2226010854', name='Revanth Technologies', screen_name='OnlineRevanth', location='Hyderabad, India', description='Revanth Technologies provides Best Online Software Training from Hyderabad India with real time experts. For more details please contact 9290971883, 9247461324.', url='http://t.co/zBKnCaPaIU', entities={'url': {'urls': [{'url': 'http://t.co/zBKnCaPaIU', 'expanded_url': 'http://www.revanthtechnologies.com', 'display_url': 'revanthtechnologies.com', 'indices': [0, 22]}]}, 'description': {'urls': []}}, protected=False, followers_count=125, friends_count=29, listed_count=0, created_at=datetime.datetime(2013, 12, 2, 4, 0, 26), favourites_count=0, utc_offset=None, time_zone=None, geo_enabled=False, verified=False, statuses_count=618, lang=None, contributors_enabled=False, is_translator=False, is_translation_enabled=False, profile_background_color='C0DEED', profile_background_image_url='http://abs.twimg.com/images/themes/theme1/bg.png', profile_background_image_url_https='https://abs.twimg.com/images/themes/theme1/bg.png', profile_background_tile=False, profile_image_url='http://pbs.twimg.com/profile_images/1219609389616644103/shwghwbD_normal.jpg', profile_image_url_https='https://pbs.twimg.com/profile_images/1219609389616644103/shwghwbD_normal.jpg', profile_banner_url='https://pbs.twimg.com/profile_banners/2226010854/1579612513', profile_link_color='1DA1F2', profile_sidebar_border_color='C0DEED', profile_sidebar_fill_color='DDEEF6', profile_text_color='333333', profile_use_background_image=True, has_extended_profile=False, default_profile=True, default_profile_image=False, following=False, follow_request_sent=False, notifications=False, translator_type='none'), user=User(_api=<tweepy.api.API object at 0x000002D8691BF198>, _json={'id': 2226010854, 'id_str': '2226010854', 'name': 'Revanth Technologies', 'screen_name': 'OnlineRevanth', 'location': 'Hyderabad, India', 'description': 'Revanth Technologies provides Best Online Software Training from Hyderabad India with real time experts. For more details please contact 9290971883, 9247461324.', 'url': 'http://t.co/zBKnCaPaIU', 'entities': {'url': {'urls': [{'url': 'http://t.co/zBKnCaPaIU', 'expanded_url': 'http://www.revanthtechnologies.com', 'display_url': 'revanthtechnologies.com', 'indices': [0, 22]}]}, 'description': {'urls': []}}, 'protected': False, 'followers_count': 125, 'friends_count': 29, 'listed_count': 0, 'created_at': 'Mon Dec 02 04:00:26 +0000 2013', 'favourites_count': 0, 'utc_offset': None, 'time_zone': None, 'geo_enabled': False, 'verified': False, 'statuses_count': 618, 'lang': None, 'contributors_enabled': False, 'is_translator': False, 'is_translation_enabled': False, 'profile_background_color': 'C0DEED', 'profile_background_image_url': 'http://abs.twimg.com/images/themes/theme1/bg.png', 'profile_background_image_url_https': 'https://abs.twimg.com/images/themes/theme1/bg.png', 'profile_background_tile': False, 'profile_image_url': 'http://pbs.twimg.com/profile_images/1219609389616644103/shwghwbD_normal.jpg', 'profile_image_url_https': 'https://pbs.twimg.com/profile_images/1219609389616644103/shwghwbD_normal.jpg', 'profile_banner_url': 'https://pbs.twimg.com/profile_banners/2226010854/1579612513', 'profile_link_color': '1DA1F2', 'profile_sidebar_border_color': 'C0DEED', 'profile_sidebar_fill_color': 'DDEEF6', 'profile_text_color': '333333', 'profile_use_background_image': True, 'has_extended_profile': False, 'default_profile': True, 'default_profile_image': False, 'following': False, 'follow_request_sent': False, 'notifications': False, 'translator_type': 'none'}, id=2226010854, id_str='2226010854', name='Revanth Technologies', screen_name='OnlineRevanth', location='Hyderabad, India', description='Revanth Technologies provides Best Online Software Training from Hyderabad India with real time experts. For more details please contact 9290971883, 9247461324.', url='http://t.co/zBKnCaPaIU', entities={'url': {'urls': [{'url': 'http://t.co/zBKnCaPaIU', 'expanded_url': 'http://www.revanthtechnologies.com', 'display_url': 'revanthtechnologies.com', 'indices': [0, 22]}]}, 'description': {'urls': []}}, protected=False, followers_count=125, friends_count=29, listed_count=0, created_at=datetime.datetime(2013, 12, 2, 4, 0, 26), favourites_count=0, utc_offset=None, time_zone=None, geo_enabled=False, verified=False, statuses_count=618, lang=None, contributors_enabled=False, is_translator=False, is_translation_enabled=False, profile_background_color='C0DEED', profile_background_image_url='http://abs.twimg.com/images/themes/theme1/bg.png', profile_background_image_url_https='https://abs.twimg.com/images/themes/theme1/bg.png', profile_background_tile=False, profile_image_url='http://pbs.twimg.com/profile_images/1219609389616644103/shwghwbD_normal.jpg', profile_image_url_https='https://pbs.twimg.com/profile_images/1219609389616644103/shwghwbD_normal.jpg', profile_banner_url='https://pbs.twimg.com/profile_banners/2226010854/1579612513', profile_link_color='1DA1F2', profile_sidebar_border_color='C0DEED', profile_sidebar_fill_color='DDEEF6', profile_text_color='333333', profile_use_background_image=True, has_extended_profile=False, default_profile=True, default_profile_image=False, following=False, follow_request_sent=False, notifications=False, translator_type='none'), geo=None, coordinates=None, place=None, contributors=None, is_quote_status=False, retweet_count=0, favorite_count=0, favorited=False, retweeted=False, possibly_sensitive=False, lang='en') \n",
      "\n",
      "---------------------------\n",
      "\n",
      "Status(_api=<tweepy.api.API object at 0x000002D8691BF198>, _json={'created_at': 'Fri Oct 30 12:07:27 +0000 2020', 'id': 1322148106931073025, 'id_str': '1322148106931073025', 'full_text': 'The data science job market is actually growing in the artificial intelligence jobs in India.\\n#artificial_intelligence #ai_jobs #ai_technology #analyticsjobs #analytics_jobs #data_analytics #machine_learning #ai\\n     https://t.co/pP0I3gO8KZ', 'truncated': False, 'display_text_range': [0, 240], 'entities': {'hashtags': [{'text': 'artificial_intelligence', 'indices': [94, 118]}, {'text': 'ai_jobs', 'indices': [119, 127]}, {'text': 'ai_technology', 'indices': [128, 142]}, {'text': 'analyticsjobs', 'indices': [143, 157]}, {'text': 'analytics_jobs', 'indices': [158, 173]}, {'text': 'data_analytics', 'indices': [174, 189]}, {'text': 'machine_learning', 'indices': [190, 207]}, {'text': 'ai', 'indices': [208, 211]}], 'symbols': [], 'user_mentions': [], 'urls': [{'url': 'https://t.co/pP0I3gO8KZ', 'expanded_url': 'http://bit.ly/2m1z33J', 'display_url': 'bit.ly/2m1z33J', 'indices': [217, 240]}]}, 'metadata': {'iso_language_code': 'en', 'result_type': 'recent'}, 'source': '<a href=\"https://mobile.twitter.com\" rel=\"nofollow\">Twitter Web App</a>', 'in_reply_to_status_id': None, 'in_reply_to_status_id_str': None, 'in_reply_to_user_id': None, 'in_reply_to_user_id_str': None, 'in_reply_to_screen_name': None, 'user': {'id': 871951724713562113, 'id_str': '871951724713562113', 'name': 'Abhimanyu🇬', 'screen_name': 'SeoAbhimanyu', 'location': 'Mumbai', 'description': 'Get your daily dose of analytics jobs alert, news, blogs, happenings and keep yourself updated.\\nTOP 10 DATA SCIENCE INSTITUTE IN INDIA RANKING|👉 https://t.co/6bVfmlpQkv', 'url': 'https://t.co/Y4i7SGhfhZ', 'entities': {'url': {'urls': [{'url': 'https://t.co/Y4i7SGhfhZ', 'expanded_url': 'https://www.analyticsjobs.in/', 'display_url': 'analyticsjobs.in', 'indices': [0, 23]}]}, 'description': {'urls': [{'url': 'https://t.co/6bVfmlpQkv', 'expanded_url': 'http://bit.ly/31A9yFW', 'display_url': 'bit.ly/31A9yFW', 'indices': [145, 168]}]}}, 'protected': False, 'followers_count': 244, 'friends_count': 340, 'listed_count': 5, 'created_at': 'Tue Jun 06 04:47:46 +0000 2017', 'favourites_count': 3492, 'utc_offset': None, 'time_zone': None, 'geo_enabled': False, 'verified': False, 'statuses_count': 13936, 'lang': None, 'contributors_enabled': False, 'is_translator': False, 'is_translation_enabled': False, 'profile_background_color': '000000', 'profile_background_image_url': 'http://abs.twimg.com/images/themes/theme1/bg.png', 'profile_background_image_url_https': 'https://abs.twimg.com/images/themes/theme1/bg.png', 'profile_background_tile': False, 'profile_image_url': 'http://pbs.twimg.com/profile_images/1193099842064568321/yhfGoE6O_normal.png', 'profile_image_url_https': 'https://pbs.twimg.com/profile_images/1193099842064568321/yhfGoE6O_normal.png', 'profile_banner_url': 'https://pbs.twimg.com/profile_banners/871951724713562113/1576758765', 'profile_link_color': '19CF86', 'profile_sidebar_border_color': '000000', 'profile_sidebar_fill_color': '000000', 'profile_text_color': '000000', 'profile_use_background_image': False, 'has_extended_profile': True, 'default_profile': False, 'default_profile_image': False, 'following': False, 'follow_request_sent': False, 'notifications': False, 'translator_type': 'none'}, 'geo': None, 'coordinates': None, 'place': None, 'contributors': None, 'is_quote_status': False, 'retweet_count': 0, 'favorite_count': 0, 'favorited': False, 'retweeted': False, 'possibly_sensitive': False, 'lang': 'en'}, created_at=datetime.datetime(2020, 10, 30, 12, 7, 27), id=1322148106931073025, id_str='1322148106931073025', full_text='The data science job market is actually growing in the artificial intelligence jobs in India.\\n#artificial_intelligence #ai_jobs #ai_technology #analyticsjobs #analytics_jobs #data_analytics #machine_learning #ai\\n     https://t.co/pP0I3gO8KZ', truncated=False, display_text_range=[0, 240], entities={'hashtags': [{'text': 'artificial_intelligence', 'indices': [94, 118]}, {'text': 'ai_jobs', 'indices': [119, 127]}, {'text': 'ai_technology', 'indices': [128, 142]}, {'text': 'analyticsjobs', 'indices': [143, 157]}, {'text': 'analytics_jobs', 'indices': [158, 173]}, {'text': 'data_analytics', 'indices': [174, 189]}, {'text': 'machine_learning', 'indices': [190, 207]}, {'text': 'ai', 'indices': [208, 211]}], 'symbols': [], 'user_mentions': [], 'urls': [{'url': 'https://t.co/pP0I3gO8KZ', 'expanded_url': 'http://bit.ly/2m1z33J', 'display_url': 'bit.ly/2m1z33J', 'indices': [217, 240]}]}, metadata={'iso_language_code': 'en', 'result_type': 'recent'}, source='Twitter Web App', source_url='https://mobile.twitter.com', in_reply_to_status_id=None, in_reply_to_status_id_str=None, in_reply_to_user_id=None, in_reply_to_user_id_str=None, in_reply_to_screen_name=None, author=User(_api=<tweepy.api.API object at 0x000002D8691BF198>, _json={'id': 871951724713562113, 'id_str': '871951724713562113', 'name': 'Abhimanyu🇬', 'screen_name': 'SeoAbhimanyu', 'location': 'Mumbai', 'description': 'Get your daily dose of analytics jobs alert, news, blogs, happenings and keep yourself updated.\\nTOP 10 DATA SCIENCE INSTITUTE IN INDIA RANKING|👉 https://t.co/6bVfmlpQkv', 'url': 'https://t.co/Y4i7SGhfhZ', 'entities': {'url': {'urls': [{'url': 'https://t.co/Y4i7SGhfhZ', 'expanded_url': 'https://www.analyticsjobs.in/', 'display_url': 'analyticsjobs.in', 'indices': [0, 23]}]}, 'description': {'urls': [{'url': 'https://t.co/6bVfmlpQkv', 'expanded_url': 'http://bit.ly/31A9yFW', 'display_url': 'bit.ly/31A9yFW', 'indices': [145, 168]}]}}, 'protected': False, 'followers_count': 244, 'friends_count': 340, 'listed_count': 5, 'created_at': 'Tue Jun 06 04:47:46 +0000 2017', 'favourites_count': 3492, 'utc_offset': None, 'time_zone': None, 'geo_enabled': False, 'verified': False, 'statuses_count': 13936, 'lang': None, 'contributors_enabled': False, 'is_translator': False, 'is_translation_enabled': False, 'profile_background_color': '000000', 'profile_background_image_url': 'http://abs.twimg.com/images/themes/theme1/bg.png', 'profile_background_image_url_https': 'https://abs.twimg.com/images/themes/theme1/bg.png', 'profile_background_tile': False, 'profile_image_url': 'http://pbs.twimg.com/profile_images/1193099842064568321/yhfGoE6O_normal.png', 'profile_image_url_https': 'https://pbs.twimg.com/profile_images/1193099842064568321/yhfGoE6O_normal.png', 'profile_banner_url': 'https://pbs.twimg.com/profile_banners/871951724713562113/1576758765', 'profile_link_color': '19CF86', 'profile_sidebar_border_color': '000000', 'profile_sidebar_fill_color': '000000', 'profile_text_color': '000000', 'profile_use_background_image': False, 'has_extended_profile': True, 'default_profile': False, 'default_profile_image': False, 'following': False, 'follow_request_sent': False, 'notifications': False, 'translator_type': 'none'}, id=871951724713562113, id_str='871951724713562113', name='Abhimanyu🇬', screen_name='SeoAbhimanyu', location='Mumbai', description='Get your daily dose of analytics jobs alert, news, blogs, happenings and keep yourself updated.\\nTOP 10 DATA SCIENCE INSTITUTE IN INDIA RANKING|👉 https://t.co/6bVfmlpQkv', url='https://t.co/Y4i7SGhfhZ', entities={'url': {'urls': [{'url': 'https://t.co/Y4i7SGhfhZ', 'expanded_url': 'https://www.analyticsjobs.in/', 'display_url': 'analyticsjobs.in', 'indices': [0, 23]}]}, 'description': {'urls': [{'url': 'https://t.co/6bVfmlpQkv', 'expanded_url': 'http://bit.ly/31A9yFW', 'display_url': 'bit.ly/31A9yFW', 'indices': [145, 168]}]}}, protected=False, followers_count=244, friends_count=340, listed_count=5, created_at=datetime.datetime(2017, 6, 6, 4, 47, 46), favourites_count=3492, utc_offset=None, time_zone=None, geo_enabled=False, verified=False, statuses_count=13936, lang=None, contributors_enabled=False, is_translator=False, is_translation_enabled=False, profile_background_color='000000', profile_background_image_url='http://abs.twimg.com/images/themes/theme1/bg.png', profile_background_image_url_https='https://abs.twimg.com/images/themes/theme1/bg.png', profile_background_tile=False, profile_image_url='http://pbs.twimg.com/profile_images/1193099842064568321/yhfGoE6O_normal.png', profile_image_url_https='https://pbs.twimg.com/profile_images/1193099842064568321/yhfGoE6O_normal.png', profile_banner_url='https://pbs.twimg.com/profile_banners/871951724713562113/1576758765', profile_link_color='19CF86', profile_sidebar_border_color='000000', profile_sidebar_fill_color='000000', profile_text_color='000000', profile_use_background_image=False, has_extended_profile=True, default_profile=False, default_profile_image=False, following=False, follow_request_sent=False, notifications=False, translator_type='none'), user=User(_api=<tweepy.api.API object at 0x000002D8691BF198>, _json={'id': 871951724713562113, 'id_str': '871951724713562113', 'name': 'Abhimanyu🇬', 'screen_name': 'SeoAbhimanyu', 'location': 'Mumbai', 'description': 'Get your daily dose of analytics jobs alert, news, blogs, happenings and keep yourself updated.\\nTOP 10 DATA SCIENCE INSTITUTE IN INDIA RANKING|👉 https://t.co/6bVfmlpQkv', 'url': 'https://t.co/Y4i7SGhfhZ', 'entities': {'url': {'urls': [{'url': 'https://t.co/Y4i7SGhfhZ', 'expanded_url': 'https://www.analyticsjobs.in/', 'display_url': 'analyticsjobs.in', 'indices': [0, 23]}]}, 'description': {'urls': [{'url': 'https://t.co/6bVfmlpQkv', 'expanded_url': 'http://bit.ly/31A9yFW', 'display_url': 'bit.ly/31A9yFW', 'indices': [145, 168]}]}}, 'protected': False, 'followers_count': 244, 'friends_count': 340, 'listed_count': 5, 'created_at': 'Tue Jun 06 04:47:46 +0000 2017', 'favourites_count': 3492, 'utc_offset': None, 'time_zone': None, 'geo_enabled': False, 'verified': False, 'statuses_count': 13936, 'lang': None, 'contributors_enabled': False, 'is_translator': False, 'is_translation_enabled': False, 'profile_background_color': '000000', 'profile_background_image_url': 'http://abs.twimg.com/images/themes/theme1/bg.png', 'profile_background_image_url_https': 'https://abs.twimg.com/images/themes/theme1/bg.png', 'profile_background_tile': False, 'profile_image_url': 'http://pbs.twimg.com/profile_images/1193099842064568321/yhfGoE6O_normal.png', 'profile_image_url_https': 'https://pbs.twimg.com/profile_images/1193099842064568321/yhfGoE6O_normal.png', 'profile_banner_url': 'https://pbs.twimg.com/profile_banners/871951724713562113/1576758765', 'profile_link_color': '19CF86', 'profile_sidebar_border_color': '000000', 'profile_sidebar_fill_color': '000000', 'profile_text_color': '000000', 'profile_use_background_image': False, 'has_extended_profile': True, 'default_profile': False, 'default_profile_image': False, 'following': False, 'follow_request_sent': False, 'notifications': False, 'translator_type': 'none'}, id=871951724713562113, id_str='871951724713562113', name='Abhimanyu🇬', screen_name='SeoAbhimanyu', location='Mumbai', description='Get your daily dose of analytics jobs alert, news, blogs, happenings and keep yourself updated.\\nTOP 10 DATA SCIENCE INSTITUTE IN INDIA RANKING|👉 https://t.co/6bVfmlpQkv', url='https://t.co/Y4i7SGhfhZ', entities={'url': {'urls': [{'url': 'https://t.co/Y4i7SGhfhZ', 'expanded_url': 'https://www.analyticsjobs.in/', 'display_url': 'analyticsjobs.in', 'indices': [0, 23]}]}, 'description': {'urls': [{'url': 'https://t.co/6bVfmlpQkv', 'expanded_url': 'http://bit.ly/31A9yFW', 'display_url': 'bit.ly/31A9yFW', 'indices': [145, 168]}]}}, protected=False, followers_count=244, friends_count=340, listed_count=5, created_at=datetime.datetime(2017, 6, 6, 4, 47, 46), favourites_count=3492, utc_offset=None, time_zone=None, geo_enabled=False, verified=False, statuses_count=13936, lang=None, contributors_enabled=False, is_translator=False, is_translation_enabled=False, profile_background_color='000000', profile_background_image_url='http://abs.twimg.com/images/themes/theme1/bg.png', profile_background_image_url_https='https://abs.twimg.com/images/themes/theme1/bg.png', profile_background_tile=False, profile_image_url='http://pbs.twimg.com/profile_images/1193099842064568321/yhfGoE6O_normal.png', profile_image_url_https='https://pbs.twimg.com/profile_images/1193099842064568321/yhfGoE6O_normal.png', profile_banner_url='https://pbs.twimg.com/profile_banners/871951724713562113/1576758765', profile_link_color='19CF86', profile_sidebar_border_color='000000', profile_sidebar_fill_color='000000', profile_text_color='000000', profile_use_background_image=False, has_extended_profile=True, default_profile=False, default_profile_image=False, following=False, follow_request_sent=False, notifications=False, translator_type='none'), geo=None, coordinates=None, place=None, contributors=None, is_quote_status=False, retweet_count=0, favorite_count=0, favorited=False, retweeted=False, possibly_sensitive=False, lang='en') \n",
      "\n",
      "---------------------------\n",
      "\n",
      "Status(_api=<tweepy.api.API object at 0x000002D8691BF198>, _json={'created_at': 'Fri Oct 30 07:11:24 +0000 2020', 'id': 1322073601646845954, 'id_str': '1322073601646845954', 'full_text': 'Day 216: hiring for #Remote Product Manager?\\n\\nCheck this profile👇\\n\\n🌟Profile Highlight: Education from IIT Madras (top institute in India)\\n💼Worked at: Zoliday and Goldman Sachs\\n🛠️Skill Stack: Product Management, Product Strategy, Data Science\\n\\nComment \"connect me\" for intro', 'truncated': False, 'display_text_range': [0, 273], 'entities': {'hashtags': [{'text': 'Remote', 'indices': [20, 27]}], 'symbols': [], 'user_mentions': [], 'urls': []}, 'metadata': {'iso_language_code': 'en', 'result_type': 'recent'}, 'source': '<a href=\"https://mobile.twitter.com\" rel=\"nofollow\">Twitter Web App</a>', 'in_reply_to_status_id': 1321731469287415814, 'in_reply_to_status_id_str': '1321731469287415814', 'in_reply_to_user_id': 1213087030864822272, 'in_reply_to_user_id_str': '1213087030864822272', 'in_reply_to_screen_name': 'CutshortRemote', 'user': {'id': 1213087030864822272, 'id_str': '1213087030864822272', 'name': 'The Remote Movement by CutShort', 'screen_name': 'CutshortRemote', 'location': '', 'description': 'Looking for a remote job? Register here: https://t.co/vtgXXe5Ept \\nHiring Remote Workers? Link below👇 Initiative by @CutShortHQ, complete AI solution for recr', 'url': 'https://t.co/Y7g8OMNjlZ', 'entities': {'url': {'urls': [{'url': 'https://t.co/Y7g8OMNjlZ', 'expanded_url': 'https://cutshort.io/collections/cutshort-premium', 'display_url': 'cutshort.io/collections/cu…', 'indices': [0, 23]}]}, 'description': {'urls': [{'url': 'https://t.co/vtgXXe5Ept', 'expanded_url': 'http://remote.cutshort.io', 'display_url': 'remote.cutshort.io', 'indices': [41, 64]}]}}, 'protected': False, 'followers_count': 1172, 'friends_count': 3086, 'listed_count': 18, 'created_at': 'Fri Jan 03 13:18:23 +0000 2020', 'favourites_count': 2119, 'utc_offset': None, 'time_zone': None, 'geo_enabled': False, 'verified': False, 'statuses_count': 1654, 'lang': None, 'contributors_enabled': False, 'is_translator': False, 'is_translation_enabled': False, 'profile_background_color': 'F5F8FA', 'profile_background_image_url': None, 'profile_background_image_url_https': None, 'profile_background_tile': False, 'profile_image_url': 'http://pbs.twimg.com/profile_images/1217775739694530562/2Vb2hp6q_normal.jpg', 'profile_image_url_https': 'https://pbs.twimg.com/profile_images/1217775739694530562/2Vb2hp6q_normal.jpg', 'profile_banner_url': 'https://pbs.twimg.com/profile_banners/1213087030864822272/1579175634', 'profile_link_color': '1DA1F2', 'profile_sidebar_border_color': 'C0DEED', 'profile_sidebar_fill_color': 'DDEEF6', 'profile_text_color': '333333', 'profile_use_background_image': True, 'has_extended_profile': False, 'default_profile': True, 'default_profile_image': False, 'following': False, 'follow_request_sent': False, 'notifications': False, 'translator_type': 'none'}, 'geo': None, 'coordinates': None, 'place': None, 'contributors': None, 'is_quote_status': False, 'retweet_count': 0, 'favorite_count': 0, 'favorited': False, 'retweeted': False, 'lang': 'en'}, created_at=datetime.datetime(2020, 10, 30, 7, 11, 24), id=1322073601646845954, id_str='1322073601646845954', full_text='Day 216: hiring for #Remote Product Manager?\\n\\nCheck this profile👇\\n\\n🌟Profile Highlight: Education from IIT Madras (top institute in India)\\n💼Worked at: Zoliday and Goldman Sachs\\n🛠️Skill Stack: Product Management, Product Strategy, Data Science\\n\\nComment \"connect me\" for intro', truncated=False, display_text_range=[0, 273], entities={'hashtags': [{'text': 'Remote', 'indices': [20, 27]}], 'symbols': [], 'user_mentions': [], 'urls': []}, metadata={'iso_language_code': 'en', 'result_type': 'recent'}, source='Twitter Web App', source_url='https://mobile.twitter.com', in_reply_to_status_id=1321731469287415814, in_reply_to_status_id_str='1321731469287415814', in_reply_to_user_id=1213087030864822272, in_reply_to_user_id_str='1213087030864822272', in_reply_to_screen_name='CutshortRemote', author=User(_api=<tweepy.api.API object at 0x000002D8691BF198>, _json={'id': 1213087030864822272, 'id_str': '1213087030864822272', 'name': 'The Remote Movement by CutShort', 'screen_name': 'CutshortRemote', 'location': '', 'description': 'Looking for a remote job? Register here: https://t.co/vtgXXe5Ept \\nHiring Remote Workers? Link below👇 Initiative by @CutShortHQ, complete AI solution for recr', 'url': 'https://t.co/Y7g8OMNjlZ', 'entities': {'url': {'urls': [{'url': 'https://t.co/Y7g8OMNjlZ', 'expanded_url': 'https://cutshort.io/collections/cutshort-premium', 'display_url': 'cutshort.io/collections/cu…', 'indices': [0, 23]}]}, 'description': {'urls': [{'url': 'https://t.co/vtgXXe5Ept', 'expanded_url': 'http://remote.cutshort.io', 'display_url': 'remote.cutshort.io', 'indices': [41, 64]}]}}, 'protected': False, 'followers_count': 1172, 'friends_count': 3086, 'listed_count': 18, 'created_at': 'Fri Jan 03 13:18:23 +0000 2020', 'favourites_count': 2119, 'utc_offset': None, 'time_zone': None, 'geo_enabled': False, 'verified': False, 'statuses_count': 1654, 'lang': None, 'contributors_enabled': False, 'is_translator': False, 'is_translation_enabled': False, 'profile_background_color': 'F5F8FA', 'profile_background_image_url': None, 'profile_background_image_url_https': None, 'profile_background_tile': False, 'profile_image_url': 'http://pbs.twimg.com/profile_images/1217775739694530562/2Vb2hp6q_normal.jpg', 'profile_image_url_https': 'https://pbs.twimg.com/profile_images/1217775739694530562/2Vb2hp6q_normal.jpg', 'profile_banner_url': 'https://pbs.twimg.com/profile_banners/1213087030864822272/1579175634', 'profile_link_color': '1DA1F2', 'profile_sidebar_border_color': 'C0DEED', 'profile_sidebar_fill_color': 'DDEEF6', 'profile_text_color': '333333', 'profile_use_background_image': True, 'has_extended_profile': False, 'default_profile': True, 'default_profile_image': False, 'following': False, 'follow_request_sent': False, 'notifications': False, 'translator_type': 'none'}, id=1213087030864822272, id_str='1213087030864822272', name='The Remote Movement by CutShort', screen_name='CutshortRemote', location='', description='Looking for a remote job? Register here: https://t.co/vtgXXe5Ept \\nHiring Remote Workers? Link below👇 Initiative by @CutShortHQ, complete AI solution for recr', url='https://t.co/Y7g8OMNjlZ', entities={'url': {'urls': [{'url': 'https://t.co/Y7g8OMNjlZ', 'expanded_url': 'https://cutshort.io/collections/cutshort-premium', 'display_url': 'cutshort.io/collections/cu…', 'indices': [0, 23]}]}, 'description': {'urls': [{'url': 'https://t.co/vtgXXe5Ept', 'expanded_url': 'http://remote.cutshort.io', 'display_url': 'remote.cutshort.io', 'indices': [41, 64]}]}}, protected=False, followers_count=1172, friends_count=3086, listed_count=18, created_at=datetime.datetime(2020, 1, 3, 13, 18, 23), favourites_count=2119, utc_offset=None, time_zone=None, geo_enabled=False, verified=False, statuses_count=1654, lang=None, contributors_enabled=False, is_translator=False, is_translation_enabled=False, profile_background_color='F5F8FA', profile_background_image_url=None, profile_background_image_url_https=None, profile_background_tile=False, profile_image_url='http://pbs.twimg.com/profile_images/1217775739694530562/2Vb2hp6q_normal.jpg', profile_image_url_https='https://pbs.twimg.com/profile_images/1217775739694530562/2Vb2hp6q_normal.jpg', profile_banner_url='https://pbs.twimg.com/profile_banners/1213087030864822272/1579175634', profile_link_color='1DA1F2', profile_sidebar_border_color='C0DEED', profile_sidebar_fill_color='DDEEF6', profile_text_color='333333', profile_use_background_image=True, has_extended_profile=False, default_profile=True, default_profile_image=False, following=False, follow_request_sent=False, notifications=False, translator_type='none'), user=User(_api=<tweepy.api.API object at 0x000002D8691BF198>, _json={'id': 1213087030864822272, 'id_str': '1213087030864822272', 'name': 'The Remote Movement by CutShort', 'screen_name': 'CutshortRemote', 'location': '', 'description': 'Looking for a remote job? Register here: https://t.co/vtgXXe5Ept \\nHiring Remote Workers? Link below👇 Initiative by @CutShortHQ, complete AI solution for recr', 'url': 'https://t.co/Y7g8OMNjlZ', 'entities': {'url': {'urls': [{'url': 'https://t.co/Y7g8OMNjlZ', 'expanded_url': 'https://cutshort.io/collections/cutshort-premium', 'display_url': 'cutshort.io/collections/cu…', 'indices': [0, 23]}]}, 'description': {'urls': [{'url': 'https://t.co/vtgXXe5Ept', 'expanded_url': 'http://remote.cutshort.io', 'display_url': 'remote.cutshort.io', 'indices': [41, 64]}]}}, 'protected': False, 'followers_count': 1172, 'friends_count': 3086, 'listed_count': 18, 'created_at': 'Fri Jan 03 13:18:23 +0000 2020', 'favourites_count': 2119, 'utc_offset': None, 'time_zone': None, 'geo_enabled': False, 'verified': False, 'statuses_count': 1654, 'lang': None, 'contributors_enabled': False, 'is_translator': False, 'is_translation_enabled': False, 'profile_background_color': 'F5F8FA', 'profile_background_image_url': None, 'profile_background_image_url_https': None, 'profile_background_tile': False, 'profile_image_url': 'http://pbs.twimg.com/profile_images/1217775739694530562/2Vb2hp6q_normal.jpg', 'profile_image_url_https': 'https://pbs.twimg.com/profile_images/1217775739694530562/2Vb2hp6q_normal.jpg', 'profile_banner_url': 'https://pbs.twimg.com/profile_banners/1213087030864822272/1579175634', 'profile_link_color': '1DA1F2', 'profile_sidebar_border_color': 'C0DEED', 'profile_sidebar_fill_color': 'DDEEF6', 'profile_text_color': '333333', 'profile_use_background_image': True, 'has_extended_profile': False, 'default_profile': True, 'default_profile_image': False, 'following': False, 'follow_request_sent': False, 'notifications': False, 'translator_type': 'none'}, id=1213087030864822272, id_str='1213087030864822272', name='The Remote Movement by CutShort', screen_name='CutshortRemote', location='', description='Looking for a remote job? Register here: https://t.co/vtgXXe5Ept \\nHiring Remote Workers? Link below👇 Initiative by @CutShortHQ, complete AI solution for recr', url='https://t.co/Y7g8OMNjlZ', entities={'url': {'urls': [{'url': 'https://t.co/Y7g8OMNjlZ', 'expanded_url': 'https://cutshort.io/collections/cutshort-premium', 'display_url': 'cutshort.io/collections/cu…', 'indices': [0, 23]}]}, 'description': {'urls': [{'url': 'https://t.co/vtgXXe5Ept', 'expanded_url': 'http://remote.cutshort.io', 'display_url': 'remote.cutshort.io', 'indices': [41, 64]}]}}, protected=False, followers_count=1172, friends_count=3086, listed_count=18, created_at=datetime.datetime(2020, 1, 3, 13, 18, 23), favourites_count=2119, utc_offset=None, time_zone=None, geo_enabled=False, verified=False, statuses_count=1654, lang=None, contributors_enabled=False, is_translator=False, is_translation_enabled=False, profile_background_color='F5F8FA', profile_background_image_url=None, profile_background_image_url_https=None, profile_background_tile=False, profile_image_url='http://pbs.twimg.com/profile_images/1217775739694530562/2Vb2hp6q_normal.jpg', profile_image_url_https='https://pbs.twimg.com/profile_images/1217775739694530562/2Vb2hp6q_normal.jpg', profile_banner_url='https://pbs.twimg.com/profile_banners/1213087030864822272/1579175634', profile_link_color='1DA1F2', profile_sidebar_border_color='C0DEED', profile_sidebar_fill_color='DDEEF6', profile_text_color='333333', profile_use_background_image=True, has_extended_profile=False, default_profile=True, default_profile_image=False, following=False, follow_request_sent=False, notifications=False, translator_type='none'), geo=None, coordinates=None, place=None, contributors=None, is_quote_status=False, retweet_count=0, favorite_count=0, favorited=False, retweeted=False, lang='en') \n",
      "\n",
      "---------------------------\n",
      "\n",
      "Status(_api=<tweepy.api.API object at 0x000002D8691BF198>, _json={'created_at': 'Thu Oct 29 10:12:28 +0000 2020', 'id': 1321756781941460994, 'id_str': '1321756781941460994', 'full_text': 'The data science job market is actually growing in the artificial intelligence jobs in India subcontinent to be one of the Driven by government.\\n#artificial_intelligence #ai_jobs #ai_technology #analyticsjobs #analytics_jobs #data_analytics \\n     https://t.co/pP0I3gO8KZ', 'truncated': False, 'display_text_range': [0, 270], 'entities': {'hashtags': [{'text': 'artificial_intelligence', 'indices': [145, 169]}, {'text': 'ai_jobs', 'indices': [170, 178]}, {'text': 'ai_technology', 'indices': [179, 193]}, {'text': 'analyticsjobs', 'indices': [194, 208]}, {'text': 'analytics_jobs', 'indices': [209, 224]}, {'text': 'data_analytics', 'indices': [225, 240]}], 'symbols': [], 'user_mentions': [], 'urls': [{'url': 'https://t.co/pP0I3gO8KZ', 'expanded_url': 'http://bit.ly/2m1z33J', 'display_url': 'bit.ly/2m1z33J', 'indices': [247, 270]}]}, 'metadata': {'iso_language_code': 'en', 'result_type': 'recent'}, 'source': '<a href=\"https://mobile.twitter.com\" rel=\"nofollow\">Twitter Web App</a>', 'in_reply_to_status_id': None, 'in_reply_to_status_id_str': None, 'in_reply_to_user_id': None, 'in_reply_to_user_id_str': None, 'in_reply_to_screen_name': None, 'user': {'id': 871951724713562113, 'id_str': '871951724713562113', 'name': 'Abhimanyu🇬', 'screen_name': 'SeoAbhimanyu', 'location': 'Mumbai', 'description': 'Get your daily dose of analytics jobs alert, news, blogs, happenings and keep yourself updated.\\nTOP 10 DATA SCIENCE INSTITUTE IN INDIA RANKING|👉 https://t.co/6bVfmlpQkv', 'url': 'https://t.co/Y4i7SGhfhZ', 'entities': {'url': {'urls': [{'url': 'https://t.co/Y4i7SGhfhZ', 'expanded_url': 'https://www.analyticsjobs.in/', 'display_url': 'analyticsjobs.in', 'indices': [0, 23]}]}, 'description': {'urls': [{'url': 'https://t.co/6bVfmlpQkv', 'expanded_url': 'http://bit.ly/31A9yFW', 'display_url': 'bit.ly/31A9yFW', 'indices': [145, 168]}]}}, 'protected': False, 'followers_count': 244, 'friends_count': 340, 'listed_count': 5, 'created_at': 'Tue Jun 06 04:47:46 +0000 2017', 'favourites_count': 3492, 'utc_offset': None, 'time_zone': None, 'geo_enabled': False, 'verified': False, 'statuses_count': 13936, 'lang': None, 'contributors_enabled': False, 'is_translator': False, 'is_translation_enabled': False, 'profile_background_color': '000000', 'profile_background_image_url': 'http://abs.twimg.com/images/themes/theme1/bg.png', 'profile_background_image_url_https': 'https://abs.twimg.com/images/themes/theme1/bg.png', 'profile_background_tile': False, 'profile_image_url': 'http://pbs.twimg.com/profile_images/1193099842064568321/yhfGoE6O_normal.png', 'profile_image_url_https': 'https://pbs.twimg.com/profile_images/1193099842064568321/yhfGoE6O_normal.png', 'profile_banner_url': 'https://pbs.twimg.com/profile_banners/871951724713562113/1576758765', 'profile_link_color': '19CF86', 'profile_sidebar_border_color': '000000', 'profile_sidebar_fill_color': '000000', 'profile_text_color': '000000', 'profile_use_background_image': False, 'has_extended_profile': True, 'default_profile': False, 'default_profile_image': False, 'following': False, 'follow_request_sent': False, 'notifications': False, 'translator_type': 'none'}, 'geo': None, 'coordinates': None, 'place': None, 'contributors': None, 'is_quote_status': False, 'retweet_count': 2, 'favorite_count': 0, 'favorited': False, 'retweeted': False, 'possibly_sensitive': False, 'lang': 'en'}, created_at=datetime.datetime(2020, 10, 29, 10, 12, 28), id=1321756781941460994, id_str='1321756781941460994', full_text='The data science job market is actually growing in the artificial intelligence jobs in India subcontinent to be one of the Driven by government.\\n#artificial_intelligence #ai_jobs #ai_technology #analyticsjobs #analytics_jobs #data_analytics \\n     https://t.co/pP0I3gO8KZ', truncated=False, display_text_range=[0, 270], entities={'hashtags': [{'text': 'artificial_intelligence', 'indices': [145, 169]}, {'text': 'ai_jobs', 'indices': [170, 178]}, {'text': 'ai_technology', 'indices': [179, 193]}, {'text': 'analyticsjobs', 'indices': [194, 208]}, {'text': 'analytics_jobs', 'indices': [209, 224]}, {'text': 'data_analytics', 'indices': [225, 240]}], 'symbols': [], 'user_mentions': [], 'urls': [{'url': 'https://t.co/pP0I3gO8KZ', 'expanded_url': 'http://bit.ly/2m1z33J', 'display_url': 'bit.ly/2m1z33J', 'indices': [247, 270]}]}, metadata={'iso_language_code': 'en', 'result_type': 'recent'}, source='Twitter Web App', source_url='https://mobile.twitter.com', in_reply_to_status_id=None, in_reply_to_status_id_str=None, in_reply_to_user_id=None, in_reply_to_user_id_str=None, in_reply_to_screen_name=None, author=User(_api=<tweepy.api.API object at 0x000002D8691BF198>, _json={'id': 871951724713562113, 'id_str': '871951724713562113', 'name': 'Abhimanyu🇬', 'screen_name': 'SeoAbhimanyu', 'location': 'Mumbai', 'description': 'Get your daily dose of analytics jobs alert, news, blogs, happenings and keep yourself updated.\\nTOP 10 DATA SCIENCE INSTITUTE IN INDIA RANKING|👉 https://t.co/6bVfmlpQkv', 'url': 'https://t.co/Y4i7SGhfhZ', 'entities': {'url': {'urls': [{'url': 'https://t.co/Y4i7SGhfhZ', 'expanded_url': 'https://www.analyticsjobs.in/', 'display_url': 'analyticsjobs.in', 'indices': [0, 23]}]}, 'description': {'urls': [{'url': 'https://t.co/6bVfmlpQkv', 'expanded_url': 'http://bit.ly/31A9yFW', 'display_url': 'bit.ly/31A9yFW', 'indices': [145, 168]}]}}, 'protected': False, 'followers_count': 244, 'friends_count': 340, 'listed_count': 5, 'created_at': 'Tue Jun 06 04:47:46 +0000 2017', 'favourites_count': 3492, 'utc_offset': None, 'time_zone': None, 'geo_enabled': False, 'verified': False, 'statuses_count': 13936, 'lang': None, 'contributors_enabled': False, 'is_translator': False, 'is_translation_enabled': False, 'profile_background_color': '000000', 'profile_background_image_url': 'http://abs.twimg.com/images/themes/theme1/bg.png', 'profile_background_image_url_https': 'https://abs.twimg.com/images/themes/theme1/bg.png', 'profile_background_tile': False, 'profile_image_url': 'http://pbs.twimg.com/profile_images/1193099842064568321/yhfGoE6O_normal.png', 'profile_image_url_https': 'https://pbs.twimg.com/profile_images/1193099842064568321/yhfGoE6O_normal.png', 'profile_banner_url': 'https://pbs.twimg.com/profile_banners/871951724713562113/1576758765', 'profile_link_color': '19CF86', 'profile_sidebar_border_color': '000000', 'profile_sidebar_fill_color': '000000', 'profile_text_color': '000000', 'profile_use_background_image': False, 'has_extended_profile': True, 'default_profile': False, 'default_profile_image': False, 'following': False, 'follow_request_sent': False, 'notifications': False, 'translator_type': 'none'}, id=871951724713562113, id_str='871951724713562113', name='Abhimanyu🇬', screen_name='SeoAbhimanyu', location='Mumbai', description='Get your daily dose of analytics jobs alert, news, blogs, happenings and keep yourself updated.\\nTOP 10 DATA SCIENCE INSTITUTE IN INDIA RANKING|👉 https://t.co/6bVfmlpQkv', url='https://t.co/Y4i7SGhfhZ', entities={'url': {'urls': [{'url': 'https://t.co/Y4i7SGhfhZ', 'expanded_url': 'https://www.analyticsjobs.in/', 'display_url': 'analyticsjobs.in', 'indices': [0, 23]}]}, 'description': {'urls': [{'url': 'https://t.co/6bVfmlpQkv', 'expanded_url': 'http://bit.ly/31A9yFW', 'display_url': 'bit.ly/31A9yFW', 'indices': [145, 168]}]}}, protected=False, followers_count=244, friends_count=340, listed_count=5, created_at=datetime.datetime(2017, 6, 6, 4, 47, 46), favourites_count=3492, utc_offset=None, time_zone=None, geo_enabled=False, verified=False, statuses_count=13936, lang=None, contributors_enabled=False, is_translator=False, is_translation_enabled=False, profile_background_color='000000', profile_background_image_url='http://abs.twimg.com/images/themes/theme1/bg.png', profile_background_image_url_https='https://abs.twimg.com/images/themes/theme1/bg.png', profile_background_tile=False, profile_image_url='http://pbs.twimg.com/profile_images/1193099842064568321/yhfGoE6O_normal.png', profile_image_url_https='https://pbs.twimg.com/profile_images/1193099842064568321/yhfGoE6O_normal.png', profile_banner_url='https://pbs.twimg.com/profile_banners/871951724713562113/1576758765', profile_link_color='19CF86', profile_sidebar_border_color='000000', profile_sidebar_fill_color='000000', profile_text_color='000000', profile_use_background_image=False, has_extended_profile=True, default_profile=False, default_profile_image=False, following=False, follow_request_sent=False, notifications=False, translator_type='none'), user=User(_api=<tweepy.api.API object at 0x000002D8691BF198>, _json={'id': 871951724713562113, 'id_str': '871951724713562113', 'name': 'Abhimanyu🇬', 'screen_name': 'SeoAbhimanyu', 'location': 'Mumbai', 'description': 'Get your daily dose of analytics jobs alert, news, blogs, happenings and keep yourself updated.\\nTOP 10 DATA SCIENCE INSTITUTE IN INDIA RANKING|👉 https://t.co/6bVfmlpQkv', 'url': 'https://t.co/Y4i7SGhfhZ', 'entities': {'url': {'urls': [{'url': 'https://t.co/Y4i7SGhfhZ', 'expanded_url': 'https://www.analyticsjobs.in/', 'display_url': 'analyticsjobs.in', 'indices': [0, 23]}]}, 'description': {'urls': [{'url': 'https://t.co/6bVfmlpQkv', 'expanded_url': 'http://bit.ly/31A9yFW', 'display_url': 'bit.ly/31A9yFW', 'indices': [145, 168]}]}}, 'protected': False, 'followers_count': 244, 'friends_count': 340, 'listed_count': 5, 'created_at': 'Tue Jun 06 04:47:46 +0000 2017', 'favourites_count': 3492, 'utc_offset': None, 'time_zone': None, 'geo_enabled': False, 'verified': False, 'statuses_count': 13936, 'lang': None, 'contributors_enabled': False, 'is_translator': False, 'is_translation_enabled': False, 'profile_background_color': '000000', 'profile_background_image_url': 'http://abs.twimg.com/images/themes/theme1/bg.png', 'profile_background_image_url_https': 'https://abs.twimg.com/images/themes/theme1/bg.png', 'profile_background_tile': False, 'profile_image_url': 'http://pbs.twimg.com/profile_images/1193099842064568321/yhfGoE6O_normal.png', 'profile_image_url_https': 'https://pbs.twimg.com/profile_images/1193099842064568321/yhfGoE6O_normal.png', 'profile_banner_url': 'https://pbs.twimg.com/profile_banners/871951724713562113/1576758765', 'profile_link_color': '19CF86', 'profile_sidebar_border_color': '000000', 'profile_sidebar_fill_color': '000000', 'profile_text_color': '000000', 'profile_use_background_image': False, 'has_extended_profile': True, 'default_profile': False, 'default_profile_image': False, 'following': False, 'follow_request_sent': False, 'notifications': False, 'translator_type': 'none'}, id=871951724713562113, id_str='871951724713562113', name='Abhimanyu🇬', screen_name='SeoAbhimanyu', location='Mumbai', description='Get your daily dose of analytics jobs alert, news, blogs, happenings and keep yourself updated.\\nTOP 10 DATA SCIENCE INSTITUTE IN INDIA RANKING|👉 https://t.co/6bVfmlpQkv', url='https://t.co/Y4i7SGhfhZ', entities={'url': {'urls': [{'url': 'https://t.co/Y4i7SGhfhZ', 'expanded_url': 'https://www.analyticsjobs.in/', 'display_url': 'analyticsjobs.in', 'indices': [0, 23]}]}, 'description': {'urls': [{'url': 'https://t.co/6bVfmlpQkv', 'expanded_url': 'http://bit.ly/31A9yFW', 'display_url': 'bit.ly/31A9yFW', 'indices': [145, 168]}]}}, protected=False, followers_count=244, friends_count=340, listed_count=5, created_at=datetime.datetime(2017, 6, 6, 4, 47, 46), favourites_count=3492, utc_offset=None, time_zone=None, geo_enabled=False, verified=False, statuses_count=13936, lang=None, contributors_enabled=False, is_translator=False, is_translation_enabled=False, profile_background_color='000000', profile_background_image_url='http://abs.twimg.com/images/themes/theme1/bg.png', profile_background_image_url_https='https://abs.twimg.com/images/themes/theme1/bg.png', profile_background_tile=False, profile_image_url='http://pbs.twimg.com/profile_images/1193099842064568321/yhfGoE6O_normal.png', profile_image_url_https='https://pbs.twimg.com/profile_images/1193099842064568321/yhfGoE6O_normal.png', profile_banner_url='https://pbs.twimg.com/profile_banners/871951724713562113/1576758765', profile_link_color='19CF86', profile_sidebar_border_color='000000', profile_sidebar_fill_color='000000', profile_text_color='000000', profile_use_background_image=False, has_extended_profile=True, default_profile=False, default_profile_image=False, following=False, follow_request_sent=False, notifications=False, translator_type='none'), geo=None, coordinates=None, place=None, contributors=None, is_quote_status=False, retweet_count=2, favorite_count=0, favorited=False, retweeted=False, possibly_sensitive=False, lang='en') \n",
      "\n",
      "---------------------------\n",
      "\n",
      "Status(_api=<tweepy.api.API object at 0x000002D8691BF198>, _json={'created_at': 'Thu Oct 29 09:28:24 +0000 2020', 'id': 1321745693694971906, 'id_str': '1321745693694971906', 'full_text': 'Study: Analytics and Data Science Jobs in India: 2020 https://t.co/ybslQHXw9v', 'truncated': False, 'display_text_range': [0, 77], 'entities': {'hashtags': [], 'symbols': [], 'user_mentions': [], 'urls': [{'url': 'https://t.co/ybslQHXw9v', 'expanded_url': 'https://analyticsindiamag.com/study-analytics-and-data-science-jobs-in-india-2020-by-great-learning-aim/', 'display_url': 'analyticsindiamag.com/study-analytic…', 'indices': [54, 77]}]}, 'metadata': {'iso_language_code': 'en', 'result_type': 'recent'}, 'source': '<a href=\"https://paper.li\" rel=\"nofollow\">Paper.li</a>', 'in_reply_to_status_id': None, 'in_reply_to_status_id_str': None, 'in_reply_to_user_id': None, 'in_reply_to_user_id_str': None, 'in_reply_to_screen_name': None, 'user': {'id': 871951724713562113, 'id_str': '871951724713562113', 'name': 'Abhimanyu🇬', 'screen_name': 'SeoAbhimanyu', 'location': 'Mumbai', 'description': 'Get your daily dose of analytics jobs alert, news, blogs, happenings and keep yourself updated.\\nTOP 10 DATA SCIENCE INSTITUTE IN INDIA RANKING|👉 https://t.co/6bVfmlpQkv', 'url': 'https://t.co/Y4i7SGhfhZ', 'entities': {'url': {'urls': [{'url': 'https://t.co/Y4i7SGhfhZ', 'expanded_url': 'https://www.analyticsjobs.in/', 'display_url': 'analyticsjobs.in', 'indices': [0, 23]}]}, 'description': {'urls': [{'url': 'https://t.co/6bVfmlpQkv', 'expanded_url': 'http://bit.ly/31A9yFW', 'display_url': 'bit.ly/31A9yFW', 'indices': [145, 168]}]}}, 'protected': False, 'followers_count': 244, 'friends_count': 340, 'listed_count': 5, 'created_at': 'Tue Jun 06 04:47:46 +0000 2017', 'favourites_count': 3492, 'utc_offset': None, 'time_zone': None, 'geo_enabled': False, 'verified': False, 'statuses_count': 13936, 'lang': None, 'contributors_enabled': False, 'is_translator': False, 'is_translation_enabled': False, 'profile_background_color': '000000', 'profile_background_image_url': 'http://abs.twimg.com/images/themes/theme1/bg.png', 'profile_background_image_url_https': 'https://abs.twimg.com/images/themes/theme1/bg.png', 'profile_background_tile': False, 'profile_image_url': 'http://pbs.twimg.com/profile_images/1193099842064568321/yhfGoE6O_normal.png', 'profile_image_url_https': 'https://pbs.twimg.com/profile_images/1193099842064568321/yhfGoE6O_normal.png', 'profile_banner_url': 'https://pbs.twimg.com/profile_banners/871951724713562113/1576758765', 'profile_link_color': '19CF86', 'profile_sidebar_border_color': '000000', 'profile_sidebar_fill_color': '000000', 'profile_text_color': '000000', 'profile_use_background_image': False, 'has_extended_profile': True, 'default_profile': False, 'default_profile_image': False, 'following': False, 'follow_request_sent': False, 'notifications': False, 'translator_type': 'none'}, 'geo': None, 'coordinates': None, 'place': None, 'contributors': None, 'is_quote_status': False, 'retweet_count': 0, 'favorite_count': 0, 'favorited': False, 'retweeted': False, 'possibly_sensitive': False, 'lang': 'en'}, created_at=datetime.datetime(2020, 10, 29, 9, 28, 24), id=1321745693694971906, id_str='1321745693694971906', full_text='Study: Analytics and Data Science Jobs in India: 2020 https://t.co/ybslQHXw9v', truncated=False, display_text_range=[0, 77], entities={'hashtags': [], 'symbols': [], 'user_mentions': [], 'urls': [{'url': 'https://t.co/ybslQHXw9v', 'expanded_url': 'https://analyticsindiamag.com/study-analytics-and-data-science-jobs-in-india-2020-by-great-learning-aim/', 'display_url': 'analyticsindiamag.com/study-analytic…', 'indices': [54, 77]}]}, metadata={'iso_language_code': 'en', 'result_type': 'recent'}, source='Paper.li', source_url='https://paper.li', in_reply_to_status_id=None, in_reply_to_status_id_str=None, in_reply_to_user_id=None, in_reply_to_user_id_str=None, in_reply_to_screen_name=None, author=User(_api=<tweepy.api.API object at 0x000002D8691BF198>, _json={'id': 871951724713562113, 'id_str': '871951724713562113', 'name': 'Abhimanyu🇬', 'screen_name': 'SeoAbhimanyu', 'location': 'Mumbai', 'description': 'Get your daily dose of analytics jobs alert, news, blogs, happenings and keep yourself updated.\\nTOP 10 DATA SCIENCE INSTITUTE IN INDIA RANKING|👉 https://t.co/6bVfmlpQkv', 'url': 'https://t.co/Y4i7SGhfhZ', 'entities': {'url': {'urls': [{'url': 'https://t.co/Y4i7SGhfhZ', 'expanded_url': 'https://www.analyticsjobs.in/', 'display_url': 'analyticsjobs.in', 'indices': [0, 23]}]}, 'description': {'urls': [{'url': 'https://t.co/6bVfmlpQkv', 'expanded_url': 'http://bit.ly/31A9yFW', 'display_url': 'bit.ly/31A9yFW', 'indices': [145, 168]}]}}, 'protected': False, 'followers_count': 244, 'friends_count': 340, 'listed_count': 5, 'created_at': 'Tue Jun 06 04:47:46 +0000 2017', 'favourites_count': 3492, 'utc_offset': None, 'time_zone': None, 'geo_enabled': False, 'verified': False, 'statuses_count': 13936, 'lang': None, 'contributors_enabled': False, 'is_translator': False, 'is_translation_enabled': False, 'profile_background_color': '000000', 'profile_background_image_url': 'http://abs.twimg.com/images/themes/theme1/bg.png', 'profile_background_image_url_https': 'https://abs.twimg.com/images/themes/theme1/bg.png', 'profile_background_tile': False, 'profile_image_url': 'http://pbs.twimg.com/profile_images/1193099842064568321/yhfGoE6O_normal.png', 'profile_image_url_https': 'https://pbs.twimg.com/profile_images/1193099842064568321/yhfGoE6O_normal.png', 'profile_banner_url': 'https://pbs.twimg.com/profile_banners/871951724713562113/1576758765', 'profile_link_color': '19CF86', 'profile_sidebar_border_color': '000000', 'profile_sidebar_fill_color': '000000', 'profile_text_color': '000000', 'profile_use_background_image': False, 'has_extended_profile': True, 'default_profile': False, 'default_profile_image': False, 'following': False, 'follow_request_sent': False, 'notifications': False, 'translator_type': 'none'}, id=871951724713562113, id_str='871951724713562113', name='Abhimanyu🇬', screen_name='SeoAbhimanyu', location='Mumbai', description='Get your daily dose of analytics jobs alert, news, blogs, happenings and keep yourself updated.\\nTOP 10 DATA SCIENCE INSTITUTE IN INDIA RANKING|👉 https://t.co/6bVfmlpQkv', url='https://t.co/Y4i7SGhfhZ', entities={'url': {'urls': [{'url': 'https://t.co/Y4i7SGhfhZ', 'expanded_url': 'https://www.analyticsjobs.in/', 'display_url': 'analyticsjobs.in', 'indices': [0, 23]}]}, 'description': {'urls': [{'url': 'https://t.co/6bVfmlpQkv', 'expanded_url': 'http://bit.ly/31A9yFW', 'display_url': 'bit.ly/31A9yFW', 'indices': [145, 168]}]}}, protected=False, followers_count=244, friends_count=340, listed_count=5, created_at=datetime.datetime(2017, 6, 6, 4, 47, 46), favourites_count=3492, utc_offset=None, time_zone=None, geo_enabled=False, verified=False, statuses_count=13936, lang=None, contributors_enabled=False, is_translator=False, is_translation_enabled=False, profile_background_color='000000', profile_background_image_url='http://abs.twimg.com/images/themes/theme1/bg.png', profile_background_image_url_https='https://abs.twimg.com/images/themes/theme1/bg.png', profile_background_tile=False, profile_image_url='http://pbs.twimg.com/profile_images/1193099842064568321/yhfGoE6O_normal.png', profile_image_url_https='https://pbs.twimg.com/profile_images/1193099842064568321/yhfGoE6O_normal.png', profile_banner_url='https://pbs.twimg.com/profile_banners/871951724713562113/1576758765', profile_link_color='19CF86', profile_sidebar_border_color='000000', profile_sidebar_fill_color='000000', profile_text_color='000000', profile_use_background_image=False, has_extended_profile=True, default_profile=False, default_profile_image=False, following=False, follow_request_sent=False, notifications=False, translator_type='none'), user=User(_api=<tweepy.api.API object at 0x000002D8691BF198>, _json={'id': 871951724713562113, 'id_str': '871951724713562113', 'name': 'Abhimanyu🇬', 'screen_name': 'SeoAbhimanyu', 'location': 'Mumbai', 'description': 'Get your daily dose of analytics jobs alert, news, blogs, happenings and keep yourself updated.\\nTOP 10 DATA SCIENCE INSTITUTE IN INDIA RANKING|👉 https://t.co/6bVfmlpQkv', 'url': 'https://t.co/Y4i7SGhfhZ', 'entities': {'url': {'urls': [{'url': 'https://t.co/Y4i7SGhfhZ', 'expanded_url': 'https://www.analyticsjobs.in/', 'display_url': 'analyticsjobs.in', 'indices': [0, 23]}]}, 'description': {'urls': [{'url': 'https://t.co/6bVfmlpQkv', 'expanded_url': 'http://bit.ly/31A9yFW', 'display_url': 'bit.ly/31A9yFW', 'indices': [145, 168]}]}}, 'protected': False, 'followers_count': 244, 'friends_count': 340, 'listed_count': 5, 'created_at': 'Tue Jun 06 04:47:46 +0000 2017', 'favourites_count': 3492, 'utc_offset': None, 'time_zone': None, 'geo_enabled': False, 'verified': False, 'statuses_count': 13936, 'lang': None, 'contributors_enabled': False, 'is_translator': False, 'is_translation_enabled': False, 'profile_background_color': '000000', 'profile_background_image_url': 'http://abs.twimg.com/images/themes/theme1/bg.png', 'profile_background_image_url_https': 'https://abs.twimg.com/images/themes/theme1/bg.png', 'profile_background_tile': False, 'profile_image_url': 'http://pbs.twimg.com/profile_images/1193099842064568321/yhfGoE6O_normal.png', 'profile_image_url_https': 'https://pbs.twimg.com/profile_images/1193099842064568321/yhfGoE6O_normal.png', 'profile_banner_url': 'https://pbs.twimg.com/profile_banners/871951724713562113/1576758765', 'profile_link_color': '19CF86', 'profile_sidebar_border_color': '000000', 'profile_sidebar_fill_color': '000000', 'profile_text_color': '000000', 'profile_use_background_image': False, 'has_extended_profile': True, 'default_profile': False, 'default_profile_image': False, 'following': False, 'follow_request_sent': False, 'notifications': False, 'translator_type': 'none'}, id=871951724713562113, id_str='871951724713562113', name='Abhimanyu🇬', screen_name='SeoAbhimanyu', location='Mumbai', description='Get your daily dose of analytics jobs alert, news, blogs, happenings and keep yourself updated.\\nTOP 10 DATA SCIENCE INSTITUTE IN INDIA RANKING|👉 https://t.co/6bVfmlpQkv', url='https://t.co/Y4i7SGhfhZ', entities={'url': {'urls': [{'url': 'https://t.co/Y4i7SGhfhZ', 'expanded_url': 'https://www.analyticsjobs.in/', 'display_url': 'analyticsjobs.in', 'indices': [0, 23]}]}, 'description': {'urls': [{'url': 'https://t.co/6bVfmlpQkv', 'expanded_url': 'http://bit.ly/31A9yFW', 'display_url': 'bit.ly/31A9yFW', 'indices': [145, 168]}]}}, protected=False, followers_count=244, friends_count=340, listed_count=5, created_at=datetime.datetime(2017, 6, 6, 4, 47, 46), favourites_count=3492, utc_offset=None, time_zone=None, geo_enabled=False, verified=False, statuses_count=13936, lang=None, contributors_enabled=False, is_translator=False, is_translation_enabled=False, profile_background_color='000000', profile_background_image_url='http://abs.twimg.com/images/themes/theme1/bg.png', profile_background_image_url_https='https://abs.twimg.com/images/themes/theme1/bg.png', profile_background_tile=False, profile_image_url='http://pbs.twimg.com/profile_images/1193099842064568321/yhfGoE6O_normal.png', profile_image_url_https='https://pbs.twimg.com/profile_images/1193099842064568321/yhfGoE6O_normal.png', profile_banner_url='https://pbs.twimg.com/profile_banners/871951724713562113/1576758765', profile_link_color='19CF86', profile_sidebar_border_color='000000', profile_sidebar_fill_color='000000', profile_text_color='000000', profile_use_background_image=False, has_extended_profile=True, default_profile=False, default_profile_image=False, following=False, follow_request_sent=False, notifications=False, translator_type='none'), geo=None, coordinates=None, place=None, contributors=None, is_quote_status=False, retweet_count=0, favorite_count=0, favorited=False, retweeted=False, possibly_sensitive=False, lang='en') \n",
      "\n",
      "---------------------------\n",
      "\n",
      "Status(_api=<tweepy.api.API object at 0x000002D8691BF198>, _json={'created_at': 'Thu Oct 29 06:49:33 +0000 2020', 'id': 1321705715157901313, 'id_str': '1321705715157901313', 'full_text': '@Dr2NisreenAlwan @vega_ts I share this article about a new study about the role of children and schools in India. A huge amount of data has been analysed. Schools seem to be efficient places 4 transmission. However, more between people of the same range of age. 👉 https://t.co/AArujQ30cK', 'truncated': False, 'display_text_range': [26, 287], 'entities': {'hashtags': [], 'symbols': [], 'user_mentions': [{'screen_name': 'Dr2NisreenAlwan', 'name': 'Dr Nisreen Alwan 🌻', 'id': 149522272, 'id_str': '149522272', 'indices': [0, 16]}, {'screen_name': 'vega_ts', 'name': 'Elizabeth Vega', 'id': 1105107363848171525, 'id_str': '1105107363848171525', 'indices': [17, 25]}], 'urls': [{'url': 'https://t.co/AArujQ30cK', 'expanded_url': 'https://science.sciencemag.org/content/early/2020/09/29/science.abd7672', 'display_url': 'science.sciencemag.org/content/early/…', 'indices': [264, 287]}]}, 'metadata': {'iso_language_code': 'en', 'result_type': 'recent'}, 'source': '<a href=\"https://mobile.twitter.com\" rel=\"nofollow\">Twitter Web App</a>', 'in_reply_to_status_id': 1321544244054659072, 'in_reply_to_status_id_str': '1321544244054659072', 'in_reply_to_user_id': 149522272, 'in_reply_to_user_id_str': '149522272', 'in_reply_to_screen_name': 'Dr2NisreenAlwan', 'user': {'id': 1320745919772545030, 'id_str': '1320745919772545030', 'name': 'nike fakiner', 'screen_name': 'NikeVerena', 'location': 'Gemeinschaft Madrid, Spanien', 'description': 'Soy experta en historia y filosofía de la experiencia, especializada en proyectos de Ciencia Ciudadana sobre educación, creatividad y emociones en la infancia.', 'url': 'https://t.co/3LG3iIkd10', 'entities': {'url': {'urls': [{'url': 'https://t.co/3LG3iIkd10', 'expanded_url': 'http://www.arcovkids.org', 'display_url': 'arcovkids.org', 'indices': [0, 23]}]}, 'description': {'urls': []}}, 'protected': False, 'followers_count': 25, 'friends_count': 37, 'listed_count': 0, 'created_at': 'Mon Oct 26 15:15:54 +0000 2020', 'favourites_count': 21, 'utc_offset': None, 'time_zone': None, 'geo_enabled': False, 'verified': False, 'statuses_count': 24, 'lang': None, 'contributors_enabled': False, 'is_translator': False, 'is_translation_enabled': False, 'profile_background_color': 'F5F8FA', 'profile_background_image_url': None, 'profile_background_image_url_https': None, 'profile_background_tile': False, 'profile_image_url': 'http://pbs.twimg.com/profile_images/1320747446708936708/xa17fjrO_normal.jpg', 'profile_image_url_https': 'https://pbs.twimg.com/profile_images/1320747446708936708/xa17fjrO_normal.jpg', 'profile_link_color': '1DA1F2', 'profile_sidebar_border_color': 'C0DEED', 'profile_sidebar_fill_color': 'DDEEF6', 'profile_text_color': '333333', 'profile_use_background_image': True, 'has_extended_profile': True, 'default_profile': True, 'default_profile_image': False, 'following': False, 'follow_request_sent': False, 'notifications': False, 'translator_type': 'none'}, 'geo': None, 'coordinates': None, 'place': None, 'contributors': None, 'is_quote_status': False, 'retweet_count': 2, 'favorite_count': 1, 'favorited': False, 'retweeted': False, 'possibly_sensitive': False, 'lang': 'en'}, created_at=datetime.datetime(2020, 10, 29, 6, 49, 33), id=1321705715157901313, id_str='1321705715157901313', full_text='@Dr2NisreenAlwan @vega_ts I share this article about a new study about the role of children and schools in India. A huge amount of data has been analysed. Schools seem to be efficient places 4 transmission. However, more between people of the same range of age. 👉 https://t.co/AArujQ30cK', truncated=False, display_text_range=[26, 287], entities={'hashtags': [], 'symbols': [], 'user_mentions': [{'screen_name': 'Dr2NisreenAlwan', 'name': 'Dr Nisreen Alwan 🌻', 'id': 149522272, 'id_str': '149522272', 'indices': [0, 16]}, {'screen_name': 'vega_ts', 'name': 'Elizabeth Vega', 'id': 1105107363848171525, 'id_str': '1105107363848171525', 'indices': [17, 25]}], 'urls': [{'url': 'https://t.co/AArujQ30cK', 'expanded_url': 'https://science.sciencemag.org/content/early/2020/09/29/science.abd7672', 'display_url': 'science.sciencemag.org/content/early/…', 'indices': [264, 287]}]}, metadata={'iso_language_code': 'en', 'result_type': 'recent'}, source='Twitter Web App', source_url='https://mobile.twitter.com', in_reply_to_status_id=1321544244054659072, in_reply_to_status_id_str='1321544244054659072', in_reply_to_user_id=149522272, in_reply_to_user_id_str='149522272', in_reply_to_screen_name='Dr2NisreenAlwan', author=User(_api=<tweepy.api.API object at 0x000002D8691BF198>, _json={'id': 1320745919772545030, 'id_str': '1320745919772545030', 'name': 'nike fakiner', 'screen_name': 'NikeVerena', 'location': 'Gemeinschaft Madrid, Spanien', 'description': 'Soy experta en historia y filosofía de la experiencia, especializada en proyectos de Ciencia Ciudadana sobre educación, creatividad y emociones en la infancia.', 'url': 'https://t.co/3LG3iIkd10', 'entities': {'url': {'urls': [{'url': 'https://t.co/3LG3iIkd10', 'expanded_url': 'http://www.arcovkids.org', 'display_url': 'arcovkids.org', 'indices': [0, 23]}]}, 'description': {'urls': []}}, 'protected': False, 'followers_count': 25, 'friends_count': 37, 'listed_count': 0, 'created_at': 'Mon Oct 26 15:15:54 +0000 2020', 'favourites_count': 21, 'utc_offset': None, 'time_zone': None, 'geo_enabled': False, 'verified': False, 'statuses_count': 24, 'lang': None, 'contributors_enabled': False, 'is_translator': False, 'is_translation_enabled': False, 'profile_background_color': 'F5F8FA', 'profile_background_image_url': None, 'profile_background_image_url_https': None, 'profile_background_tile': False, 'profile_image_url': 'http://pbs.twimg.com/profile_images/1320747446708936708/xa17fjrO_normal.jpg', 'profile_image_url_https': 'https://pbs.twimg.com/profile_images/1320747446708936708/xa17fjrO_normal.jpg', 'profile_link_color': '1DA1F2', 'profile_sidebar_border_color': 'C0DEED', 'profile_sidebar_fill_color': 'DDEEF6', 'profile_text_color': '333333', 'profile_use_background_image': True, 'has_extended_profile': True, 'default_profile': True, 'default_profile_image': False, 'following': False, 'follow_request_sent': False, 'notifications': False, 'translator_type': 'none'}, id=1320745919772545030, id_str='1320745919772545030', name='nike fakiner', screen_name='NikeVerena', location='Gemeinschaft Madrid, Spanien', description='Soy experta en historia y filosofía de la experiencia, especializada en proyectos de Ciencia Ciudadana sobre educación, creatividad y emociones en la infancia.', url='https://t.co/3LG3iIkd10', entities={'url': {'urls': [{'url': 'https://t.co/3LG3iIkd10', 'expanded_url': 'http://www.arcovkids.org', 'display_url': 'arcovkids.org', 'indices': [0, 23]}]}, 'description': {'urls': []}}, protected=False, followers_count=25, friends_count=37, listed_count=0, created_at=datetime.datetime(2020, 10, 26, 15, 15, 54), favourites_count=21, utc_offset=None, time_zone=None, geo_enabled=False, verified=False, statuses_count=24, lang=None, contributors_enabled=False, is_translator=False, is_translation_enabled=False, profile_background_color='F5F8FA', profile_background_image_url=None, profile_background_image_url_https=None, profile_background_tile=False, profile_image_url='http://pbs.twimg.com/profile_images/1320747446708936708/xa17fjrO_normal.jpg', profile_image_url_https='https://pbs.twimg.com/profile_images/1320747446708936708/xa17fjrO_normal.jpg', profile_link_color='1DA1F2', profile_sidebar_border_color='C0DEED', profile_sidebar_fill_color='DDEEF6', profile_text_color='333333', profile_use_background_image=True, has_extended_profile=True, default_profile=True, default_profile_image=False, following=False, follow_request_sent=False, notifications=False, translator_type='none'), user=User(_api=<tweepy.api.API object at 0x000002D8691BF198>, _json={'id': 1320745919772545030, 'id_str': '1320745919772545030', 'name': 'nike fakiner', 'screen_name': 'NikeVerena', 'location': 'Gemeinschaft Madrid, Spanien', 'description': 'Soy experta en historia y filosofía de la experiencia, especializada en proyectos de Ciencia Ciudadana sobre educación, creatividad y emociones en la infancia.', 'url': 'https://t.co/3LG3iIkd10', 'entities': {'url': {'urls': [{'url': 'https://t.co/3LG3iIkd10', 'expanded_url': 'http://www.arcovkids.org', 'display_url': 'arcovkids.org', 'indices': [0, 23]}]}, 'description': {'urls': []}}, 'protected': False, 'followers_count': 25, 'friends_count': 37, 'listed_count': 0, 'created_at': 'Mon Oct 26 15:15:54 +0000 2020', 'favourites_count': 21, 'utc_offset': None, 'time_zone': None, 'geo_enabled': False, 'verified': False, 'statuses_count': 24, 'lang': None, 'contributors_enabled': False, 'is_translator': False, 'is_translation_enabled': False, 'profile_background_color': 'F5F8FA', 'profile_background_image_url': None, 'profile_background_image_url_https': None, 'profile_background_tile': False, 'profile_image_url': 'http://pbs.twimg.com/profile_images/1320747446708936708/xa17fjrO_normal.jpg', 'profile_image_url_https': 'https://pbs.twimg.com/profile_images/1320747446708936708/xa17fjrO_normal.jpg', 'profile_link_color': '1DA1F2', 'profile_sidebar_border_color': 'C0DEED', 'profile_sidebar_fill_color': 'DDEEF6', 'profile_text_color': '333333', 'profile_use_background_image': True, 'has_extended_profile': True, 'default_profile': True, 'default_profile_image': False, 'following': False, 'follow_request_sent': False, 'notifications': False, 'translator_type': 'none'}, id=1320745919772545030, id_str='1320745919772545030', name='nike fakiner', screen_name='NikeVerena', location='Gemeinschaft Madrid, Spanien', description='Soy experta en historia y filosofía de la experiencia, especializada en proyectos de Ciencia Ciudadana sobre educación, creatividad y emociones en la infancia.', url='https://t.co/3LG3iIkd10', entities={'url': {'urls': [{'url': 'https://t.co/3LG3iIkd10', 'expanded_url': 'http://www.arcovkids.org', 'display_url': 'arcovkids.org', 'indices': [0, 23]}]}, 'description': {'urls': []}}, protected=False, followers_count=25, friends_count=37, listed_count=0, created_at=datetime.datetime(2020, 10, 26, 15, 15, 54), favourites_count=21, utc_offset=None, time_zone=None, geo_enabled=False, verified=False, statuses_count=24, lang=None, contributors_enabled=False, is_translator=False, is_translation_enabled=False, profile_background_color='F5F8FA', profile_background_image_url=None, profile_background_image_url_https=None, profile_background_tile=False, profile_image_url='http://pbs.twimg.com/profile_images/1320747446708936708/xa17fjrO_normal.jpg', profile_image_url_https='https://pbs.twimg.com/profile_images/1320747446708936708/xa17fjrO_normal.jpg', profile_link_color='1DA1F2', profile_sidebar_border_color='C0DEED', profile_sidebar_fill_color='DDEEF6', profile_text_color='333333', profile_use_background_image=True, has_extended_profile=True, default_profile=True, default_profile_image=False, following=False, follow_request_sent=False, notifications=False, translator_type='none'), geo=None, coordinates=None, place=None, contributors=None, is_quote_status=False, retweet_count=2, favorite_count=1, favorited=False, retweeted=False, possibly_sensitive=False, lang='en') \n",
      "\n",
      "---------------------------\n",
      "\n",
      "Status(_api=<tweepy.api.API object at 0x000002D8691BF198>, _json={'created_at': 'Wed Oct 28 19:00:32 +0000 2020', 'id': 1321527286764425216, 'id_str': '1321527286764425216', 'full_text': 'How I got a Job at Facebook as a Machine Learning Engineer: It was August last year and I was in the process of giving interviews. By that point in time, I was already interviewing for Google India and Amazon India for Machine Learning and Data Science… https://t.co/PhuQ16glfj https://t.co/rbc0WLcLfl', 'truncated': False, 'display_text_range': [0, 277], 'entities': {'hashtags': [], 'symbols': [], 'user_mentions': [], 'urls': [{'url': 'https://t.co/PhuQ16glfj', 'expanded_url': 'http://dlvr.it/RkX5y4', 'display_url': 'dlvr.it/RkX5y4', 'indices': [254, 277]}], 'media': [{'id': 1321527284545679361, 'id_str': '1321527284545679361', 'indices': [278, 301], 'media_url': 'http://pbs.twimg.com/media/ElcCEERU8AEwgbV.jpg', 'media_url_https': 'https://pbs.twimg.com/media/ElcCEERU8AEwgbV.jpg', 'url': 'https://t.co/rbc0WLcLfl', 'display_url': 'pic.twitter.com/rbc0WLcLfl', 'expanded_url': 'https://twitter.com/benjaChomin/status/1321527286764425216/photo/1', 'type': 'photo', 'sizes': {'thumb': {'w': 150, 'h': 150, 'resize': 'crop'}, 'large': {'w': 1920, 'h': 1280, 'resize': 'fit'}, 'medium': {'w': 1200, 'h': 800, 'resize': 'fit'}, 'small': {'w': 680, 'h': 453, 'resize': 'fit'}}}]}, 'extended_entities': {'media': [{'id': 1321527284545679361, 'id_str': '1321527284545679361', 'indices': [278, 301], 'media_url': 'http://pbs.twimg.com/media/ElcCEERU8AEwgbV.jpg', 'media_url_https': 'https://pbs.twimg.com/media/ElcCEERU8AEwgbV.jpg', 'url': 'https://t.co/rbc0WLcLfl', 'display_url': 'pic.twitter.com/rbc0WLcLfl', 'expanded_url': 'https://twitter.com/benjaChomin/status/1321527286764425216/photo/1', 'type': 'photo', 'sizes': {'thumb': {'w': 150, 'h': 150, 'resize': 'crop'}, 'large': {'w': 1920, 'h': 1280, 'resize': 'fit'}, 'medium': {'w': 1200, 'h': 800, 'resize': 'fit'}, 'small': {'w': 680, 'h': 453, 'resize': 'fit'}}}]}, 'metadata': {'iso_language_code': 'en', 'result_type': 'recent'}, 'source': '<a href=\"https://dlvrit.com/\" rel=\"nofollow\">dlvr.it</a>', 'in_reply_to_status_id': None, 'in_reply_to_status_id_str': None, 'in_reply_to_user_id': None, 'in_reply_to_user_id_str': None, 'in_reply_to_screen_name': None, 'user': {'id': 257138930, 'id_str': '257138930', 'name': 'Benjamín De la cruz', 'screen_name': 'benjaChomin', 'location': '', 'description': 'Programador y Co-fundador de una empresa de tecnología, escritor aficionado .', 'url': 'http://t.co/cezBNgLoG2', 'entities': {'url': {'urls': [{'url': 'http://t.co/cezBNgLoG2', 'expanded_url': 'http://www.kimvex.com', 'display_url': 'kimvex.com', 'indices': [0, 22]}]}, 'description': {'urls': []}}, 'protected': False, 'followers_count': 954, 'friends_count': 106, 'listed_count': 109, 'created_at': 'Thu Feb 24 20:31:09 +0000 2011', 'favourites_count': 1477, 'utc_offset': None, 'time_zone': None, 'geo_enabled': False, 'verified': False, 'statuses_count': 27612, 'lang': None, 'contributors_enabled': False, 'is_translator': False, 'is_translation_enabled': True, 'profile_background_color': '131516', 'profile_background_image_url': 'http://abs.twimg.com/images/themes/theme14/bg.gif', 'profile_background_image_url_https': 'https://abs.twimg.com/images/themes/theme14/bg.gif', 'profile_background_tile': True, 'profile_image_url': 'http://pbs.twimg.com/profile_images/479350283030392833/IoE4PnBv_normal.png', 'profile_image_url_https': 'https://pbs.twimg.com/profile_images/479350283030392833/IoE4PnBv_normal.png', 'profile_banner_url': 'https://pbs.twimg.com/profile_banners/257138930/1397702062', 'profile_link_color': '00C4C4', 'profile_sidebar_border_color': 'FFFFFF', 'profile_sidebar_fill_color': 'EFEFEF', 'profile_text_color': '333333', 'profile_use_background_image': True, 'has_extended_profile': False, 'default_profile': False, 'default_profile_image': False, 'following': False, 'follow_request_sent': False, 'notifications': False, 'translator_type': 'regular'}, 'geo': None, 'coordinates': None, 'place': None, 'contributors': None, 'is_quote_status': False, 'retweet_count': 1, 'favorite_count': 0, 'favorited': False, 'retweeted': False, 'possibly_sensitive': False, 'lang': 'en'}, created_at=datetime.datetime(2020, 10, 28, 19, 0, 32), id=1321527286764425216, id_str='1321527286764425216', full_text='How I got a Job at Facebook as a Machine Learning Engineer: It was August last year and I was in the process of giving interviews. By that point in time, I was already interviewing for Google India and Amazon India for Machine Learning and Data Science… https://t.co/PhuQ16glfj https://t.co/rbc0WLcLfl', truncated=False, display_text_range=[0, 277], entities={'hashtags': [], 'symbols': [], 'user_mentions': [], 'urls': [{'url': 'https://t.co/PhuQ16glfj', 'expanded_url': 'http://dlvr.it/RkX5y4', 'display_url': 'dlvr.it/RkX5y4', 'indices': [254, 277]}], 'media': [{'id': 1321527284545679361, 'id_str': '1321527284545679361', 'indices': [278, 301], 'media_url': 'http://pbs.twimg.com/media/ElcCEERU8AEwgbV.jpg', 'media_url_https': 'https://pbs.twimg.com/media/ElcCEERU8AEwgbV.jpg', 'url': 'https://t.co/rbc0WLcLfl', 'display_url': 'pic.twitter.com/rbc0WLcLfl', 'expanded_url': 'https://twitter.com/benjaChomin/status/1321527286764425216/photo/1', 'type': 'photo', 'sizes': {'thumb': {'w': 150, 'h': 150, 'resize': 'crop'}, 'large': {'w': 1920, 'h': 1280, 'resize': 'fit'}, 'medium': {'w': 1200, 'h': 800, 'resize': 'fit'}, 'small': {'w': 680, 'h': 453, 'resize': 'fit'}}}]}, extended_entities={'media': [{'id': 1321527284545679361, 'id_str': '1321527284545679361', 'indices': [278, 301], 'media_url': 'http://pbs.twimg.com/media/ElcCEERU8AEwgbV.jpg', 'media_url_https': 'https://pbs.twimg.com/media/ElcCEERU8AEwgbV.jpg', 'url': 'https://t.co/rbc0WLcLfl', 'display_url': 'pic.twitter.com/rbc0WLcLfl', 'expanded_url': 'https://twitter.com/benjaChomin/status/1321527286764425216/photo/1', 'type': 'photo', 'sizes': {'thumb': {'w': 150, 'h': 150, 'resize': 'crop'}, 'large': {'w': 1920, 'h': 1280, 'resize': 'fit'}, 'medium': {'w': 1200, 'h': 800, 'resize': 'fit'}, 'small': {'w': 680, 'h': 453, 'resize': 'fit'}}}]}, metadata={'iso_language_code': 'en', 'result_type': 'recent'}, source='dlvr.it', source_url='https://dlvrit.com/', in_reply_to_status_id=None, in_reply_to_status_id_str=None, in_reply_to_user_id=None, in_reply_to_user_id_str=None, in_reply_to_screen_name=None, author=User(_api=<tweepy.api.API object at 0x000002D8691BF198>, _json={'id': 257138930, 'id_str': '257138930', 'name': 'Benjamín De la cruz', 'screen_name': 'benjaChomin', 'location': '', 'description': 'Programador y Co-fundador de una empresa de tecnología, escritor aficionado .', 'url': 'http://t.co/cezBNgLoG2', 'entities': {'url': {'urls': [{'url': 'http://t.co/cezBNgLoG2', 'expanded_url': 'http://www.kimvex.com', 'display_url': 'kimvex.com', 'indices': [0, 22]}]}, 'description': {'urls': []}}, 'protected': False, 'followers_count': 954, 'friends_count': 106, 'listed_count': 109, 'created_at': 'Thu Feb 24 20:31:09 +0000 2011', 'favourites_count': 1477, 'utc_offset': None, 'time_zone': None, 'geo_enabled': False, 'verified': False, 'statuses_count': 27612, 'lang': None, 'contributors_enabled': False, 'is_translator': False, 'is_translation_enabled': True, 'profile_background_color': '131516', 'profile_background_image_url': 'http://abs.twimg.com/images/themes/theme14/bg.gif', 'profile_background_image_url_https': 'https://abs.twimg.com/images/themes/theme14/bg.gif', 'profile_background_tile': True, 'profile_image_url': 'http://pbs.twimg.com/profile_images/479350283030392833/IoE4PnBv_normal.png', 'profile_image_url_https': 'https://pbs.twimg.com/profile_images/479350283030392833/IoE4PnBv_normal.png', 'profile_banner_url': 'https://pbs.twimg.com/profile_banners/257138930/1397702062', 'profile_link_color': '00C4C4', 'profile_sidebar_border_color': 'FFFFFF', 'profile_sidebar_fill_color': 'EFEFEF', 'profile_text_color': '333333', 'profile_use_background_image': True, 'has_extended_profile': False, 'default_profile': False, 'default_profile_image': False, 'following': False, 'follow_request_sent': False, 'notifications': False, 'translator_type': 'regular'}, id=257138930, id_str='257138930', name='Benjamín De la cruz', screen_name='benjaChomin', location='', description='Programador y Co-fundador de una empresa de tecnología, escritor aficionado .', url='http://t.co/cezBNgLoG2', entities={'url': {'urls': [{'url': 'http://t.co/cezBNgLoG2', 'expanded_url': 'http://www.kimvex.com', 'display_url': 'kimvex.com', 'indices': [0, 22]}]}, 'description': {'urls': []}}, protected=False, followers_count=954, friends_count=106, listed_count=109, created_at=datetime.datetime(2011, 2, 24, 20, 31, 9), favourites_count=1477, utc_offset=None, time_zone=None, geo_enabled=False, verified=False, statuses_count=27612, lang=None, contributors_enabled=False, is_translator=False, is_translation_enabled=True, profile_background_color='131516', profile_background_image_url='http://abs.twimg.com/images/themes/theme14/bg.gif', profile_background_image_url_https='https://abs.twimg.com/images/themes/theme14/bg.gif', profile_background_tile=True, profile_image_url='http://pbs.twimg.com/profile_images/479350283030392833/IoE4PnBv_normal.png', profile_image_url_https='https://pbs.twimg.com/profile_images/479350283030392833/IoE4PnBv_normal.png', profile_banner_url='https://pbs.twimg.com/profile_banners/257138930/1397702062', profile_link_color='00C4C4', profile_sidebar_border_color='FFFFFF', profile_sidebar_fill_color='EFEFEF', profile_text_color='333333', profile_use_background_image=True, has_extended_profile=False, default_profile=False, default_profile_image=False, following=False, follow_request_sent=False, notifications=False, translator_type='regular'), user=User(_api=<tweepy.api.API object at 0x000002D8691BF198>, _json={'id': 257138930, 'id_str': '257138930', 'name': 'Benjamín De la cruz', 'screen_name': 'benjaChomin', 'location': '', 'description': 'Programador y Co-fundador de una empresa de tecnología, escritor aficionado .', 'url': 'http://t.co/cezBNgLoG2', 'entities': {'url': {'urls': [{'url': 'http://t.co/cezBNgLoG2', 'expanded_url': 'http://www.kimvex.com', 'display_url': 'kimvex.com', 'indices': [0, 22]}]}, 'description': {'urls': []}}, 'protected': False, 'followers_count': 954, 'friends_count': 106, 'listed_count': 109, 'created_at': 'Thu Feb 24 20:31:09 +0000 2011', 'favourites_count': 1477, 'utc_offset': None, 'time_zone': None, 'geo_enabled': False, 'verified': False, 'statuses_count': 27612, 'lang': None, 'contributors_enabled': False, 'is_translator': False, 'is_translation_enabled': True, 'profile_background_color': '131516', 'profile_background_image_url': 'http://abs.twimg.com/images/themes/theme14/bg.gif', 'profile_background_image_url_https': 'https://abs.twimg.com/images/themes/theme14/bg.gif', 'profile_background_tile': True, 'profile_image_url': 'http://pbs.twimg.com/profile_images/479350283030392833/IoE4PnBv_normal.png', 'profile_image_url_https': 'https://pbs.twimg.com/profile_images/479350283030392833/IoE4PnBv_normal.png', 'profile_banner_url': 'https://pbs.twimg.com/profile_banners/257138930/1397702062', 'profile_link_color': '00C4C4', 'profile_sidebar_border_color': 'FFFFFF', 'profile_sidebar_fill_color': 'EFEFEF', 'profile_text_color': '333333', 'profile_use_background_image': True, 'has_extended_profile': False, 'default_profile': False, 'default_profile_image': False, 'following': False, 'follow_request_sent': False, 'notifications': False, 'translator_type': 'regular'}, id=257138930, id_str='257138930', name='Benjamín De la cruz', screen_name='benjaChomin', location='', description='Programador y Co-fundador de una empresa de tecnología, escritor aficionado .', url='http://t.co/cezBNgLoG2', entities={'url': {'urls': [{'url': 'http://t.co/cezBNgLoG2', 'expanded_url': 'http://www.kimvex.com', 'display_url': 'kimvex.com', 'indices': [0, 22]}]}, 'description': {'urls': []}}, protected=False, followers_count=954, friends_count=106, listed_count=109, created_at=datetime.datetime(2011, 2, 24, 20, 31, 9), favourites_count=1477, utc_offset=None, time_zone=None, geo_enabled=False, verified=False, statuses_count=27612, lang=None, contributors_enabled=False, is_translator=False, is_translation_enabled=True, profile_background_color='131516', profile_background_image_url='http://abs.twimg.com/images/themes/theme14/bg.gif', profile_background_image_url_https='https://abs.twimg.com/images/themes/theme14/bg.gif', profile_background_tile=True, profile_image_url='http://pbs.twimg.com/profile_images/479350283030392833/IoE4PnBv_normal.png', profile_image_url_https='https://pbs.twimg.com/profile_images/479350283030392833/IoE4PnBv_normal.png', profile_banner_url='https://pbs.twimg.com/profile_banners/257138930/1397702062', profile_link_color='00C4C4', profile_sidebar_border_color='FFFFFF', profile_sidebar_fill_color='EFEFEF', profile_text_color='333333', profile_use_background_image=True, has_extended_profile=False, default_profile=False, default_profile_image=False, following=False, follow_request_sent=False, notifications=False, translator_type='regular'), geo=None, coordinates=None, place=None, contributors=None, is_quote_status=False, retweet_count=1, favorite_count=0, favorited=False, retweeted=False, possibly_sensitive=False, lang='en') \n",
      "\n",
      "---------------------------\n",
      "\n",
      "Status(_api=<tweepy.api.API object at 0x000002D8691BF198>, _json={'created_at': 'Wed Oct 28 18:11:14 +0000 2020', 'id': 1321514880495722496, 'id_str': '1321514880495722496', 'full_text': \"@Nehaneha117 @bhatia_niraj23 @RahulGandhi 2. https://t.co/hemoMQbWMv\\n3. https://t.co/lxY1E5RInc\\n4. https://t.co/Wcx72iytGS\\n5.  Soldiers won't be safe either: https://t.co/ZndpcCYA8l\\n6. From Sudhir Chaudhary's blog: https://t.co/DR7rN3zK6a\\n7. https://t.co/mm4hlhHkHT\\nNeed more?\", 'truncated': False, 'display_text_range': [42, 276], 'entities': {'hashtags': [], 'symbols': [], 'user_mentions': [{'screen_name': 'Nehaneha117', 'name': 'Neha_', 'id': 4716973010, 'id_str': '4716973010', 'indices': [0, 12]}, {'screen_name': 'bhatia_niraj23', 'name': 'Niraj Bhatia', 'id': 3113068595, 'id_str': '3113068595', 'indices': [13, 28]}, {'screen_name': 'RahulGandhi', 'name': 'Rahul Gandhi', 'id': 3171712086, 'id_str': '3171712086', 'indices': [29, 41]}], 'urls': [{'url': 'https://t.co/hemoMQbWMv', 'expanded_url': 'https://cbsn.ws/35KVptg', 'display_url': 'cbsn.ws/35KVptg', 'indices': [45, 68]}, {'url': 'https://t.co/lxY1E5RInc', 'expanded_url': 'https://bit.ly/3mAo2QH', 'display_url': 'bit.ly/3mAo2QH', 'indices': [72, 95]}, {'url': 'https://t.co/Wcx72iytGS', 'expanded_url': 'https://bit.ly/35KY32r', 'display_url': 'bit.ly/35KY32r', 'indices': [99, 122]}, {'url': 'https://t.co/ZndpcCYA8l', 'expanded_url': 'https://bit.ly/3jDFi5K', 'display_url': 'bit.ly/3jDFi5K', 'indices': [158, 181]}, {'url': 'https://t.co/DR7rN3zK6a', 'expanded_url': 'https://bit.ly/3kDDgEf', 'display_url': 'bit.ly/3kDDgEf', 'indices': [215, 238]}, {'url': 'https://t.co/mm4hlhHkHT', 'expanded_url': 'https://bit.ly/35FPaHn', 'display_url': 'bit.ly/35FPaHn', 'indices': [242, 265]}]}, 'metadata': {'iso_language_code': 'en', 'result_type': 'recent'}, 'source': '<a href=\"https://mobile.twitter.com\" rel=\"nofollow\">Twitter Web App</a>', 'in_reply_to_status_id': 1321514171159224323, 'in_reply_to_status_id_str': '1321514171159224323', 'in_reply_to_user_id': 109376637, 'in_reply_to_user_id_str': '109376637', 'in_reply_to_screen_name': 'anandme420', 'user': {'id': 109376637, 'id_str': '109376637', 'name': 'Anand Mehrotra', 'screen_name': 'anandme420', 'location': 'Eagan, MN-US', 'description': 'Software Developer, looking for exciting opportunities', 'url': None, 'entities': {'description': {'urls': []}}, 'protected': False, 'followers_count': 37, 'friends_count': 289, 'listed_count': 0, 'created_at': 'Thu Jan 28 21:21:43 +0000 2010', 'favourites_count': 132, 'utc_offset': None, 'time_zone': None, 'geo_enabled': True, 'verified': False, 'statuses_count': 2071, 'lang': None, 'contributors_enabled': False, 'is_translator': False, 'is_translation_enabled': False, 'profile_background_color': 'C0DEED', 'profile_background_image_url': 'http://abs.twimg.com/images/themes/theme1/bg.png', 'profile_background_image_url_https': 'https://abs.twimg.com/images/themes/theme1/bg.png', 'profile_background_tile': False, 'profile_image_url': 'http://pbs.twimg.com/profile_images/1294778997562384384/vBSVA-ED_normal.jpg', 'profile_image_url_https': 'https://pbs.twimg.com/profile_images/1294778997562384384/vBSVA-ED_normal.jpg', 'profile_link_color': '1DA1F2', 'profile_sidebar_border_color': 'C0DEED', 'profile_sidebar_fill_color': 'DDEEF6', 'profile_text_color': '333333', 'profile_use_background_image': True, 'has_extended_profile': False, 'default_profile': True, 'default_profile_image': False, 'following': False, 'follow_request_sent': False, 'notifications': False, 'translator_type': 'none'}, 'geo': None, 'coordinates': None, 'place': None, 'contributors': None, 'is_quote_status': False, 'retweet_count': 0, 'favorite_count': 0, 'favorited': False, 'retweeted': False, 'possibly_sensitive': False, 'lang': 'en'}, created_at=datetime.datetime(2020, 10, 28, 18, 11, 14), id=1321514880495722496, id_str='1321514880495722496', full_text=\"@Nehaneha117 @bhatia_niraj23 @RahulGandhi 2. https://t.co/hemoMQbWMv\\n3. https://t.co/lxY1E5RInc\\n4. https://t.co/Wcx72iytGS\\n5.  Soldiers won't be safe either: https://t.co/ZndpcCYA8l\\n6. From Sudhir Chaudhary's blog: https://t.co/DR7rN3zK6a\\n7. https://t.co/mm4hlhHkHT\\nNeed more?\", truncated=False, display_text_range=[42, 276], entities={'hashtags': [], 'symbols': [], 'user_mentions': [{'screen_name': 'Nehaneha117', 'name': 'Neha_', 'id': 4716973010, 'id_str': '4716973010', 'indices': [0, 12]}, {'screen_name': 'bhatia_niraj23', 'name': 'Niraj Bhatia', 'id': 3113068595, 'id_str': '3113068595', 'indices': [13, 28]}, {'screen_name': 'RahulGandhi', 'name': 'Rahul Gandhi', 'id': 3171712086, 'id_str': '3171712086', 'indices': [29, 41]}], 'urls': [{'url': 'https://t.co/hemoMQbWMv', 'expanded_url': 'https://cbsn.ws/35KVptg', 'display_url': 'cbsn.ws/35KVptg', 'indices': [45, 68]}, {'url': 'https://t.co/lxY1E5RInc', 'expanded_url': 'https://bit.ly/3mAo2QH', 'display_url': 'bit.ly/3mAo2QH', 'indices': [72, 95]}, {'url': 'https://t.co/Wcx72iytGS', 'expanded_url': 'https://bit.ly/35KY32r', 'display_url': 'bit.ly/35KY32r', 'indices': [99, 122]}, {'url': 'https://t.co/ZndpcCYA8l', 'expanded_url': 'https://bit.ly/3jDFi5K', 'display_url': 'bit.ly/3jDFi5K', 'indices': [158, 181]}, {'url': 'https://t.co/DR7rN3zK6a', 'expanded_url': 'https://bit.ly/3kDDgEf', 'display_url': 'bit.ly/3kDDgEf', 'indices': [215, 238]}, {'url': 'https://t.co/mm4hlhHkHT', 'expanded_url': 'https://bit.ly/35FPaHn', 'display_url': 'bit.ly/35FPaHn', 'indices': [242, 265]}]}, metadata={'iso_language_code': 'en', 'result_type': 'recent'}, source='Twitter Web App', source_url='https://mobile.twitter.com', in_reply_to_status_id=1321514171159224323, in_reply_to_status_id_str='1321514171159224323', in_reply_to_user_id=109376637, in_reply_to_user_id_str='109376637', in_reply_to_screen_name='anandme420', author=User(_api=<tweepy.api.API object at 0x000002D8691BF198>, _json={'id': 109376637, 'id_str': '109376637', 'name': 'Anand Mehrotra', 'screen_name': 'anandme420', 'location': 'Eagan, MN-US', 'description': 'Software Developer, looking for exciting opportunities', 'url': None, 'entities': {'description': {'urls': []}}, 'protected': False, 'followers_count': 37, 'friends_count': 289, 'listed_count': 0, 'created_at': 'Thu Jan 28 21:21:43 +0000 2010', 'favourites_count': 132, 'utc_offset': None, 'time_zone': None, 'geo_enabled': True, 'verified': False, 'statuses_count': 2071, 'lang': None, 'contributors_enabled': False, 'is_translator': False, 'is_translation_enabled': False, 'profile_background_color': 'C0DEED', 'profile_background_image_url': 'http://abs.twimg.com/images/themes/theme1/bg.png', 'profile_background_image_url_https': 'https://abs.twimg.com/images/themes/theme1/bg.png', 'profile_background_tile': False, 'profile_image_url': 'http://pbs.twimg.com/profile_images/1294778997562384384/vBSVA-ED_normal.jpg', 'profile_image_url_https': 'https://pbs.twimg.com/profile_images/1294778997562384384/vBSVA-ED_normal.jpg', 'profile_link_color': '1DA1F2', 'profile_sidebar_border_color': 'C0DEED', 'profile_sidebar_fill_color': 'DDEEF6', 'profile_text_color': '333333', 'profile_use_background_image': True, 'has_extended_profile': False, 'default_profile': True, 'default_profile_image': False, 'following': False, 'follow_request_sent': False, 'notifications': False, 'translator_type': 'none'}, id=109376637, id_str='109376637', name='Anand Mehrotra', screen_name='anandme420', location='Eagan, MN-US', description='Software Developer, looking for exciting opportunities', url=None, entities={'description': {'urls': []}}, protected=False, followers_count=37, friends_count=289, listed_count=0, created_at=datetime.datetime(2010, 1, 28, 21, 21, 43), favourites_count=132, utc_offset=None, time_zone=None, geo_enabled=True, verified=False, statuses_count=2071, lang=None, contributors_enabled=False, is_translator=False, is_translation_enabled=False, profile_background_color='C0DEED', profile_background_image_url='http://abs.twimg.com/images/themes/theme1/bg.png', profile_background_image_url_https='https://abs.twimg.com/images/themes/theme1/bg.png', profile_background_tile=False, profile_image_url='http://pbs.twimg.com/profile_images/1294778997562384384/vBSVA-ED_normal.jpg', profile_image_url_https='https://pbs.twimg.com/profile_images/1294778997562384384/vBSVA-ED_normal.jpg', profile_link_color='1DA1F2', profile_sidebar_border_color='C0DEED', profile_sidebar_fill_color='DDEEF6', profile_text_color='333333', profile_use_background_image=True, has_extended_profile=False, default_profile=True, default_profile_image=False, following=False, follow_request_sent=False, notifications=False, translator_type='none'), user=User(_api=<tweepy.api.API object at 0x000002D8691BF198>, _json={'id': 109376637, 'id_str': '109376637', 'name': 'Anand Mehrotra', 'screen_name': 'anandme420', 'location': 'Eagan, MN-US', 'description': 'Software Developer, looking for exciting opportunities', 'url': None, 'entities': {'description': {'urls': []}}, 'protected': False, 'followers_count': 37, 'friends_count': 289, 'listed_count': 0, 'created_at': 'Thu Jan 28 21:21:43 +0000 2010', 'favourites_count': 132, 'utc_offset': None, 'time_zone': None, 'geo_enabled': True, 'verified': False, 'statuses_count': 2071, 'lang': None, 'contributors_enabled': False, 'is_translator': False, 'is_translation_enabled': False, 'profile_background_color': 'C0DEED', 'profile_background_image_url': 'http://abs.twimg.com/images/themes/theme1/bg.png', 'profile_background_image_url_https': 'https://abs.twimg.com/images/themes/theme1/bg.png', 'profile_background_tile': False, 'profile_image_url': 'http://pbs.twimg.com/profile_images/1294778997562384384/vBSVA-ED_normal.jpg', 'profile_image_url_https': 'https://pbs.twimg.com/profile_images/1294778997562384384/vBSVA-ED_normal.jpg', 'profile_link_color': '1DA1F2', 'profile_sidebar_border_color': 'C0DEED', 'profile_sidebar_fill_color': 'DDEEF6', 'profile_text_color': '333333', 'profile_use_background_image': True, 'has_extended_profile': False, 'default_profile': True, 'default_profile_image': False, 'following': False, 'follow_request_sent': False, 'notifications': False, 'translator_type': 'none'}, id=109376637, id_str='109376637', name='Anand Mehrotra', screen_name='anandme420', location='Eagan, MN-US', description='Software Developer, looking for exciting opportunities', url=None, entities={'description': {'urls': []}}, protected=False, followers_count=37, friends_count=289, listed_count=0, created_at=datetime.datetime(2010, 1, 28, 21, 21, 43), favourites_count=132, utc_offset=None, time_zone=None, geo_enabled=True, verified=False, statuses_count=2071, lang=None, contributors_enabled=False, is_translator=False, is_translation_enabled=False, profile_background_color='C0DEED', profile_background_image_url='http://abs.twimg.com/images/themes/theme1/bg.png', profile_background_image_url_https='https://abs.twimg.com/images/themes/theme1/bg.png', profile_background_tile=False, profile_image_url='http://pbs.twimg.com/profile_images/1294778997562384384/vBSVA-ED_normal.jpg', profile_image_url_https='https://pbs.twimg.com/profile_images/1294778997562384384/vBSVA-ED_normal.jpg', profile_link_color='1DA1F2', profile_sidebar_border_color='C0DEED', profile_sidebar_fill_color='DDEEF6', profile_text_color='333333', profile_use_background_image=True, has_extended_profile=False, default_profile=True, default_profile_image=False, following=False, follow_request_sent=False, notifications=False, translator_type='none'), geo=None, coordinates=None, place=None, contributors=None, is_quote_status=False, retweet_count=0, favorite_count=0, favorited=False, retweeted=False, possibly_sensitive=False, lang='en') \n",
      "\n",
      "---------------------------\n",
      "\n",
      "Status(_api=<tweepy.api.API object at 0x000002D8691BF198>, _json={'created_at': 'Wed Oct 28 18:08:25 +0000 2020', 'id': 1321514171159224323, 'id_str': '1321514171159224323', 'full_text': \"@Nehaneha117 @bhatia_niraj23 @RahulGandhi 99.9% currency was back. Your personal anecdotes are not statistically sound data. You don't need a degree in Entire pol. science\\nStates are bankrupt. They don't have time\\nIt excludes one particular religion. India is a democracy\\nApp related:\\n1. https://t.co/iVqCW73HnG\", 'truncated': False, 'display_text_range': [42, 311], 'entities': {'hashtags': [], 'symbols': [], 'user_mentions': [{'screen_name': 'Nehaneha117', 'name': 'Neha_', 'id': 4716973010, 'id_str': '4716973010', 'indices': [0, 12]}, {'screen_name': 'bhatia_niraj23', 'name': 'Niraj Bhatia', 'id': 3113068595, 'id_str': '3113068595', 'indices': [13, 28]}, {'screen_name': 'RahulGandhi', 'name': 'Rahul Gandhi', 'id': 3171712086, 'id_str': '3171712086', 'indices': [29, 41]}], 'urls': [{'url': 'https://t.co/iVqCW73HnG', 'expanded_url': 'https://bit.ly/3kxBx3b', 'display_url': 'bit.ly/3kxBx3b', 'indices': [288, 311]}]}, 'metadata': {'iso_language_code': 'en', 'result_type': 'recent'}, 'source': '<a href=\"https://mobile.twitter.com\" rel=\"nofollow\">Twitter Web App</a>', 'in_reply_to_status_id': 1321505155955617792, 'in_reply_to_status_id_str': '1321505155955617792', 'in_reply_to_user_id': 4716973010, 'in_reply_to_user_id_str': '4716973010', 'in_reply_to_screen_name': 'Nehaneha117', 'user': {'id': 109376637, 'id_str': '109376637', 'name': 'Anand Mehrotra', 'screen_name': 'anandme420', 'location': 'Eagan, MN-US', 'description': 'Software Developer, looking for exciting opportunities', 'url': None, 'entities': {'description': {'urls': []}}, 'protected': False, 'followers_count': 37, 'friends_count': 289, 'listed_count': 0, 'created_at': 'Thu Jan 28 21:21:43 +0000 2010', 'favourites_count': 132, 'utc_offset': None, 'time_zone': None, 'geo_enabled': True, 'verified': False, 'statuses_count': 2071, 'lang': None, 'contributors_enabled': False, 'is_translator': False, 'is_translation_enabled': False, 'profile_background_color': 'C0DEED', 'profile_background_image_url': 'http://abs.twimg.com/images/themes/theme1/bg.png', 'profile_background_image_url_https': 'https://abs.twimg.com/images/themes/theme1/bg.png', 'profile_background_tile': False, 'profile_image_url': 'http://pbs.twimg.com/profile_images/1294778997562384384/vBSVA-ED_normal.jpg', 'profile_image_url_https': 'https://pbs.twimg.com/profile_images/1294778997562384384/vBSVA-ED_normal.jpg', 'profile_link_color': '1DA1F2', 'profile_sidebar_border_color': 'C0DEED', 'profile_sidebar_fill_color': 'DDEEF6', 'profile_text_color': '333333', 'profile_use_background_image': True, 'has_extended_profile': False, 'default_profile': True, 'default_profile_image': False, 'following': False, 'follow_request_sent': False, 'notifications': False, 'translator_type': 'none'}, 'geo': None, 'coordinates': None, 'place': None, 'contributors': None, 'is_quote_status': False, 'retweet_count': 0, 'favorite_count': 0, 'favorited': False, 'retweeted': False, 'possibly_sensitive': False, 'lang': 'en'}, created_at=datetime.datetime(2020, 10, 28, 18, 8, 25), id=1321514171159224323, id_str='1321514171159224323', full_text=\"@Nehaneha117 @bhatia_niraj23 @RahulGandhi 99.9% currency was back. Your personal anecdotes are not statistically sound data. You don't need a degree in Entire pol. science\\nStates are bankrupt. They don't have time\\nIt excludes one particular religion. India is a democracy\\nApp related:\\n1. https://t.co/iVqCW73HnG\", truncated=False, display_text_range=[42, 311], entities={'hashtags': [], 'symbols': [], 'user_mentions': [{'screen_name': 'Nehaneha117', 'name': 'Neha_', 'id': 4716973010, 'id_str': '4716973010', 'indices': [0, 12]}, {'screen_name': 'bhatia_niraj23', 'name': 'Niraj Bhatia', 'id': 3113068595, 'id_str': '3113068595', 'indices': [13, 28]}, {'screen_name': 'RahulGandhi', 'name': 'Rahul Gandhi', 'id': 3171712086, 'id_str': '3171712086', 'indices': [29, 41]}], 'urls': [{'url': 'https://t.co/iVqCW73HnG', 'expanded_url': 'https://bit.ly/3kxBx3b', 'display_url': 'bit.ly/3kxBx3b', 'indices': [288, 311]}]}, metadata={'iso_language_code': 'en', 'result_type': 'recent'}, source='Twitter Web App', source_url='https://mobile.twitter.com', in_reply_to_status_id=1321505155955617792, in_reply_to_status_id_str='1321505155955617792', in_reply_to_user_id=4716973010, in_reply_to_user_id_str='4716973010', in_reply_to_screen_name='Nehaneha117', author=User(_api=<tweepy.api.API object at 0x000002D8691BF198>, _json={'id': 109376637, 'id_str': '109376637', 'name': 'Anand Mehrotra', 'screen_name': 'anandme420', 'location': 'Eagan, MN-US', 'description': 'Software Developer, looking for exciting opportunities', 'url': None, 'entities': {'description': {'urls': []}}, 'protected': False, 'followers_count': 37, 'friends_count': 289, 'listed_count': 0, 'created_at': 'Thu Jan 28 21:21:43 +0000 2010', 'favourites_count': 132, 'utc_offset': None, 'time_zone': None, 'geo_enabled': True, 'verified': False, 'statuses_count': 2071, 'lang': None, 'contributors_enabled': False, 'is_translator': False, 'is_translation_enabled': False, 'profile_background_color': 'C0DEED', 'profile_background_image_url': 'http://abs.twimg.com/images/themes/theme1/bg.png', 'profile_background_image_url_https': 'https://abs.twimg.com/images/themes/theme1/bg.png', 'profile_background_tile': False, 'profile_image_url': 'http://pbs.twimg.com/profile_images/1294778997562384384/vBSVA-ED_normal.jpg', 'profile_image_url_https': 'https://pbs.twimg.com/profile_images/1294778997562384384/vBSVA-ED_normal.jpg', 'profile_link_color': '1DA1F2', 'profile_sidebar_border_color': 'C0DEED', 'profile_sidebar_fill_color': 'DDEEF6', 'profile_text_color': '333333', 'profile_use_background_image': True, 'has_extended_profile': False, 'default_profile': True, 'default_profile_image': False, 'following': False, 'follow_request_sent': False, 'notifications': False, 'translator_type': 'none'}, id=109376637, id_str='109376637', name='Anand Mehrotra', screen_name='anandme420', location='Eagan, MN-US', description='Software Developer, looking for exciting opportunities', url=None, entities={'description': {'urls': []}}, protected=False, followers_count=37, friends_count=289, listed_count=0, created_at=datetime.datetime(2010, 1, 28, 21, 21, 43), favourites_count=132, utc_offset=None, time_zone=None, geo_enabled=True, verified=False, statuses_count=2071, lang=None, contributors_enabled=False, is_translator=False, is_translation_enabled=False, profile_background_color='C0DEED', profile_background_image_url='http://abs.twimg.com/images/themes/theme1/bg.png', profile_background_image_url_https='https://abs.twimg.com/images/themes/theme1/bg.png', profile_background_tile=False, profile_image_url='http://pbs.twimg.com/profile_images/1294778997562384384/vBSVA-ED_normal.jpg', profile_image_url_https='https://pbs.twimg.com/profile_images/1294778997562384384/vBSVA-ED_normal.jpg', profile_link_color='1DA1F2', profile_sidebar_border_color='C0DEED', profile_sidebar_fill_color='DDEEF6', profile_text_color='333333', profile_use_background_image=True, has_extended_profile=False, default_profile=True, default_profile_image=False, following=False, follow_request_sent=False, notifications=False, translator_type='none'), user=User(_api=<tweepy.api.API object at 0x000002D8691BF198>, _json={'id': 109376637, 'id_str': '109376637', 'name': 'Anand Mehrotra', 'screen_name': 'anandme420', 'location': 'Eagan, MN-US', 'description': 'Software Developer, looking for exciting opportunities', 'url': None, 'entities': {'description': {'urls': []}}, 'protected': False, 'followers_count': 37, 'friends_count': 289, 'listed_count': 0, 'created_at': 'Thu Jan 28 21:21:43 +0000 2010', 'favourites_count': 132, 'utc_offset': None, 'time_zone': None, 'geo_enabled': True, 'verified': False, 'statuses_count': 2071, 'lang': None, 'contributors_enabled': False, 'is_translator': False, 'is_translation_enabled': False, 'profile_background_color': 'C0DEED', 'profile_background_image_url': 'http://abs.twimg.com/images/themes/theme1/bg.png', 'profile_background_image_url_https': 'https://abs.twimg.com/images/themes/theme1/bg.png', 'profile_background_tile': False, 'profile_image_url': 'http://pbs.twimg.com/profile_images/1294778997562384384/vBSVA-ED_normal.jpg', 'profile_image_url_https': 'https://pbs.twimg.com/profile_images/1294778997562384384/vBSVA-ED_normal.jpg', 'profile_link_color': '1DA1F2', 'profile_sidebar_border_color': 'C0DEED', 'profile_sidebar_fill_color': 'DDEEF6', 'profile_text_color': '333333', 'profile_use_background_image': True, 'has_extended_profile': False, 'default_profile': True, 'default_profile_image': False, 'following': False, 'follow_request_sent': False, 'notifications': False, 'translator_type': 'none'}, id=109376637, id_str='109376637', name='Anand Mehrotra', screen_name='anandme420', location='Eagan, MN-US', description='Software Developer, looking for exciting opportunities', url=None, entities={'description': {'urls': []}}, protected=False, followers_count=37, friends_count=289, listed_count=0, created_at=datetime.datetime(2010, 1, 28, 21, 21, 43), favourites_count=132, utc_offset=None, time_zone=None, geo_enabled=True, verified=False, statuses_count=2071, lang=None, contributors_enabled=False, is_translator=False, is_translation_enabled=False, profile_background_color='C0DEED', profile_background_image_url='http://abs.twimg.com/images/themes/theme1/bg.png', profile_background_image_url_https='https://abs.twimg.com/images/themes/theme1/bg.png', profile_background_tile=False, profile_image_url='http://pbs.twimg.com/profile_images/1294778997562384384/vBSVA-ED_normal.jpg', profile_image_url_https='https://pbs.twimg.com/profile_images/1294778997562384384/vBSVA-ED_normal.jpg', profile_link_color='1DA1F2', profile_sidebar_border_color='C0DEED', profile_sidebar_fill_color='DDEEF6', profile_text_color='333333', profile_use_background_image=True, has_extended_profile=False, default_profile=True, default_profile_image=False, following=False, follow_request_sent=False, notifications=False, translator_type='none'), geo=None, coordinates=None, place=None, contributors=None, is_quote_status=False, retweet_count=0, favorite_count=0, favorited=False, retweeted=False, possibly_sensitive=False, lang='en') \n",
      "\n",
      "---------------------------\n",
      "\n",
      "Status(_api=<tweepy.api.API object at 0x000002D8691BF198>, _json={'created_at': 'Wed Oct 28 14:20:45 +0000 2020', 'id': 1321456876169515008, 'id_str': '1321456876169515008', 'full_text': '@manishbhatt01 Interesting! from a peak fo ~3L in 2008 to the ~2.3L in 2020. Significant fee hikes(~5X since 2007/08), availability of lucrative Data Science jobs for smart Engineers, Overall sluggish economic environment are perhaps the key factors behind MBA (via CAT/India) losing its sheen', 'truncated': False, 'display_text_range': [15, 293], 'entities': {'hashtags': [], 'symbols': [], 'user_mentions': [{'screen_name': 'manishbhatt01', 'name': 'Manish Bhatt', 'id': 214475652, 'id_str': '214475652', 'indices': [0, 14]}], 'urls': []}, 'metadata': {'iso_language_code': 'en', 'result_type': 'recent'}, 'source': '<a href=\"https://mobile.twitter.com\" rel=\"nofollow\">Twitter Web App</a>', 'in_reply_to_status_id': 1321441877996957698, 'in_reply_to_status_id_str': '1321441877996957698', 'in_reply_to_user_id': 214475652, 'in_reply_to_user_id_str': '214475652', 'in_reply_to_screen_name': 'manishbhatt01', 'user': {'id': 2267411124, 'id_str': '2267411124', 'name': 'Bhanu', 'screen_name': 'bhanuvachan', 'location': '', 'description': 'Easygoing yet argumentative, right of center political vision yet liberal! Politics, Economics, History, Data Analytics, FMCG & Supply Chain.\\n\\nIIMB, NIT ALD', 'url': None, 'entities': {'description': {'urls': []}}, 'protected': False, 'followers_count': 263, 'friends_count': 753, 'listed_count': 6, 'created_at': 'Sun Dec 29 13:36:35 +0000 2013', 'favourites_count': 14307, 'utc_offset': None, 'time_zone': None, 'geo_enabled': False, 'verified': False, 'statuses_count': 19087, 'lang': None, 'contributors_enabled': False, 'is_translator': False, 'is_translation_enabled': False, 'profile_background_color': 'C0DEED', 'profile_background_image_url': 'http://abs.twimg.com/images/themes/theme1/bg.png', 'profile_background_image_url_https': 'https://abs.twimg.com/images/themes/theme1/bg.png', 'profile_background_tile': False, 'profile_image_url': 'http://pbs.twimg.com/profile_images/1038299737835761664/cEmE8WcI_normal.jpg', 'profile_image_url_https': 'https://pbs.twimg.com/profile_images/1038299737835761664/cEmE8WcI_normal.jpg', 'profile_banner_url': 'https://pbs.twimg.com/profile_banners/2267411124/1544971752', 'profile_link_color': '1DA1F2', 'profile_sidebar_border_color': 'C0DEED', 'profile_sidebar_fill_color': 'DDEEF6', 'profile_text_color': '333333', 'profile_use_background_image': True, 'has_extended_profile': False, 'default_profile': True, 'default_profile_image': False, 'following': False, 'follow_request_sent': False, 'notifications': False, 'translator_type': 'none'}, 'geo': None, 'coordinates': None, 'place': None, 'contributors': None, 'is_quote_status': False, 'retweet_count': 0, 'favorite_count': 3, 'favorited': False, 'retweeted': False, 'lang': 'en'}, created_at=datetime.datetime(2020, 10, 28, 14, 20, 45), id=1321456876169515008, id_str='1321456876169515008', full_text='@manishbhatt01 Interesting! from a peak fo ~3L in 2008 to the ~2.3L in 2020. Significant fee hikes(~5X since 2007/08), availability of lucrative Data Science jobs for smart Engineers, Overall sluggish economic environment are perhaps the key factors behind MBA (via CAT/India) losing its sheen', truncated=False, display_text_range=[15, 293], entities={'hashtags': [], 'symbols': [], 'user_mentions': [{'screen_name': 'manishbhatt01', 'name': 'Manish Bhatt', 'id': 214475652, 'id_str': '214475652', 'indices': [0, 14]}], 'urls': []}, metadata={'iso_language_code': 'en', 'result_type': 'recent'}, source='Twitter Web App', source_url='https://mobile.twitter.com', in_reply_to_status_id=1321441877996957698, in_reply_to_status_id_str='1321441877996957698', in_reply_to_user_id=214475652, in_reply_to_user_id_str='214475652', in_reply_to_screen_name='manishbhatt01', author=User(_api=<tweepy.api.API object at 0x000002D8691BF198>, _json={'id': 2267411124, 'id_str': '2267411124', 'name': 'Bhanu', 'screen_name': 'bhanuvachan', 'location': '', 'description': 'Easygoing yet argumentative, right of center political vision yet liberal! Politics, Economics, History, Data Analytics, FMCG & Supply Chain.\\n\\nIIMB, NIT ALD', 'url': None, 'entities': {'description': {'urls': []}}, 'protected': False, 'followers_count': 263, 'friends_count': 753, 'listed_count': 6, 'created_at': 'Sun Dec 29 13:36:35 +0000 2013', 'favourites_count': 14307, 'utc_offset': None, 'time_zone': None, 'geo_enabled': False, 'verified': False, 'statuses_count': 19087, 'lang': None, 'contributors_enabled': False, 'is_translator': False, 'is_translation_enabled': False, 'profile_background_color': 'C0DEED', 'profile_background_image_url': 'http://abs.twimg.com/images/themes/theme1/bg.png', 'profile_background_image_url_https': 'https://abs.twimg.com/images/themes/theme1/bg.png', 'profile_background_tile': False, 'profile_image_url': 'http://pbs.twimg.com/profile_images/1038299737835761664/cEmE8WcI_normal.jpg', 'profile_image_url_https': 'https://pbs.twimg.com/profile_images/1038299737835761664/cEmE8WcI_normal.jpg', 'profile_banner_url': 'https://pbs.twimg.com/profile_banners/2267411124/1544971752', 'profile_link_color': '1DA1F2', 'profile_sidebar_border_color': 'C0DEED', 'profile_sidebar_fill_color': 'DDEEF6', 'profile_text_color': '333333', 'profile_use_background_image': True, 'has_extended_profile': False, 'default_profile': True, 'default_profile_image': False, 'following': False, 'follow_request_sent': False, 'notifications': False, 'translator_type': 'none'}, id=2267411124, id_str='2267411124', name='Bhanu', screen_name='bhanuvachan', location='', description='Easygoing yet argumentative, right of center political vision yet liberal! Politics, Economics, History, Data Analytics, FMCG & Supply Chain.\\n\\nIIMB, NIT ALD', url=None, entities={'description': {'urls': []}}, protected=False, followers_count=263, friends_count=753, listed_count=6, created_at=datetime.datetime(2013, 12, 29, 13, 36, 35), favourites_count=14307, utc_offset=None, time_zone=None, geo_enabled=False, verified=False, statuses_count=19087, lang=None, contributors_enabled=False, is_translator=False, is_translation_enabled=False, profile_background_color='C0DEED', profile_background_image_url='http://abs.twimg.com/images/themes/theme1/bg.png', profile_background_image_url_https='https://abs.twimg.com/images/themes/theme1/bg.png', profile_background_tile=False, profile_image_url='http://pbs.twimg.com/profile_images/1038299737835761664/cEmE8WcI_normal.jpg', profile_image_url_https='https://pbs.twimg.com/profile_images/1038299737835761664/cEmE8WcI_normal.jpg', profile_banner_url='https://pbs.twimg.com/profile_banners/2267411124/1544971752', profile_link_color='1DA1F2', profile_sidebar_border_color='C0DEED', profile_sidebar_fill_color='DDEEF6', profile_text_color='333333', profile_use_background_image=True, has_extended_profile=False, default_profile=True, default_profile_image=False, following=False, follow_request_sent=False, notifications=False, translator_type='none'), user=User(_api=<tweepy.api.API object at 0x000002D8691BF198>, _json={'id': 2267411124, 'id_str': '2267411124', 'name': 'Bhanu', 'screen_name': 'bhanuvachan', 'location': '', 'description': 'Easygoing yet argumentative, right of center political vision yet liberal! Politics, Economics, History, Data Analytics, FMCG & Supply Chain.\\n\\nIIMB, NIT ALD', 'url': None, 'entities': {'description': {'urls': []}}, 'protected': False, 'followers_count': 263, 'friends_count': 753, 'listed_count': 6, 'created_at': 'Sun Dec 29 13:36:35 +0000 2013', 'favourites_count': 14307, 'utc_offset': None, 'time_zone': None, 'geo_enabled': False, 'verified': False, 'statuses_count': 19087, 'lang': None, 'contributors_enabled': False, 'is_translator': False, 'is_translation_enabled': False, 'profile_background_color': 'C0DEED', 'profile_background_image_url': 'http://abs.twimg.com/images/themes/theme1/bg.png', 'profile_background_image_url_https': 'https://abs.twimg.com/images/themes/theme1/bg.png', 'profile_background_tile': False, 'profile_image_url': 'http://pbs.twimg.com/profile_images/1038299737835761664/cEmE8WcI_normal.jpg', 'profile_image_url_https': 'https://pbs.twimg.com/profile_images/1038299737835761664/cEmE8WcI_normal.jpg', 'profile_banner_url': 'https://pbs.twimg.com/profile_banners/2267411124/1544971752', 'profile_link_color': '1DA1F2', 'profile_sidebar_border_color': 'C0DEED', 'profile_sidebar_fill_color': 'DDEEF6', 'profile_text_color': '333333', 'profile_use_background_image': True, 'has_extended_profile': False, 'default_profile': True, 'default_profile_image': False, 'following': False, 'follow_request_sent': False, 'notifications': False, 'translator_type': 'none'}, id=2267411124, id_str='2267411124', name='Bhanu', screen_name='bhanuvachan', location='', description='Easygoing yet argumentative, right of center political vision yet liberal! Politics, Economics, History, Data Analytics, FMCG & Supply Chain.\\n\\nIIMB, NIT ALD', url=None, entities={'description': {'urls': []}}, protected=False, followers_count=263, friends_count=753, listed_count=6, created_at=datetime.datetime(2013, 12, 29, 13, 36, 35), favourites_count=14307, utc_offset=None, time_zone=None, geo_enabled=False, verified=False, statuses_count=19087, lang=None, contributors_enabled=False, is_translator=False, is_translation_enabled=False, profile_background_color='C0DEED', profile_background_image_url='http://abs.twimg.com/images/themes/theme1/bg.png', profile_background_image_url_https='https://abs.twimg.com/images/themes/theme1/bg.png', profile_background_tile=False, profile_image_url='http://pbs.twimg.com/profile_images/1038299737835761664/cEmE8WcI_normal.jpg', profile_image_url_https='https://pbs.twimg.com/profile_images/1038299737835761664/cEmE8WcI_normal.jpg', profile_banner_url='https://pbs.twimg.com/profile_banners/2267411124/1544971752', profile_link_color='1DA1F2', profile_sidebar_border_color='C0DEED', profile_sidebar_fill_color='DDEEF6', profile_text_color='333333', profile_use_background_image=True, has_extended_profile=False, default_profile=True, default_profile_image=False, following=False, follow_request_sent=False, notifications=False, translator_type='none'), geo=None, coordinates=None, place=None, contributors=None, is_quote_status=False, retweet_count=0, favorite_count=3, favorited=False, retweeted=False, lang='en') \n",
      "\n",
      "---------------------------\n",
      "\n"
     ]
    }
   ],
   "source": [
    "Tweets = api.search(query, count=10, lang='en', exclude='retweets', tweet_mode='extended')# count of tweets, language, exclude retweets\n",
    "# Tweet_mode= extended , returns full text of any tweets\n",
    "# Tweet_mode= compat(default- compatibility mode) truncated to 140 characters not taken all the characters.\n",
    "for tweet in Tweets:\n",
    "    print(tweet,'\\n')\n",
    "    print('---------------------------\\n') # If over 1000 tweets then, this api.search method will cause problems"
   ]
  },
  {
   "cell_type": "markdown",
   "metadata": {},
   "source": [
    "To get in a cleaner way along attributes"
   ]
  },
  {
   "cell_type": "markdown",
   "metadata": {},
   "source": [
    "__tweepy.cursor__  allows to retrieve as many tweets as possible\n"
   ]
  },
  {
   "cell_type": "code",
   "execution_count": 57,
   "metadata": {},
   "outputs": [
    {
     "name": "stdout",
     "output_type": "stream",
     "text": [
      "Empty DataFrame\n",
      "Columns: [Tweets, User, User_statuses_count, User_followers, User_location, User_verified, fav_count, rt_count, tweet_data]\n",
      "Index: []\n",
      "(0, 9)\n"
     ]
    }
   ],
   "source": [
    "df = pd.DataFrame(columns=[\"Tweets\",\"User\",\"User_statuses_count\",\"User_followers\",\"User_location\", \"User_verified\",\"fav_count\"\n",
    "                          , \"rt_count\",\"tweet_data\"])\n",
    "\n",
    "print(df)\n",
    "print(df.shape) #empty dataframe"
   ]
  },
  {
   "cell_type": "code",
   "execution_count": 58,
   "metadata": {},
   "outputs": [],
   "source": [
    "def stream(data, file_name): #tweepy.cursor standard library \n",
    "    i = 0\n",
    "    for tweet in tweepy.Cursor(api.search, q=data, count=100, lang='en').items():\n",
    "        print(i, end='\\r')\n",
    "        df.loc[i, 'Tweets'] = tweet.text # tweet\n",
    "        df.loc[i, 'User'] = tweet.user.name #user name\n",
    "        df.loc[i, 'User_statuses_count'] = tweet.user.statuses_count  #there are many attributes to explore\n",
    "        df.loc[i, 'user_followers'] = tweet.user.followers_count\n",
    "        df.loc[i, 'User_location'] = tweet.user.location \n",
    "        df.loc[i, 'User_verified'] = tweet.user.verified \n",
    "        df.loc[i, 'fav_count'] = tweet.favorite_count\n",
    "        df.loc[i, 'rt_count'] = tweet.retweet_count\n",
    "        df.loc[i, 'tweet_date'] = tweet.created_at\n",
    "        df.to_excel('{}.xlsx'.format(file_name)) # the entire data above is returned tothe first row of the excel file & next increment happens\n",
    "        i = i+1  #this updates to 1 from 0 initial value defined above, next check if 1==1000 if not then go to all above steps & repeat until you get 1000 tweets\n",
    "        if i == 1000: # means run a search on each page (100tweets), in these find relavant, move until tweets count reaches 1000\n",
    "            break  # row1, 2,3,........filled until 10000th rows\n",
    "        else:\n",
    "            pass"
   ]
  },
  {
   "cell_type": "code",
   "execution_count": 59,
   "metadata": {},
   "outputs": [
    {
     "name": "stdout",
     "output_type": "stream",
     "text": [
      "262\r"
     ]
    }
   ],
   "source": [
    "stream(data=[\"data science in India\"] , file_name='Tweet_analysis') #caling the aove function eith text to search"
   ]
  },
  {
   "cell_type": "code",
   "execution_count": 60,
   "metadata": {},
   "outputs": [
    {
     "data": {
      "text/html": [
       "<div>\n",
       "<style scoped>\n",
       "    .dataframe tbody tr th:only-of-type {\n",
       "        vertical-align: middle;\n",
       "    }\n",
       "\n",
       "    .dataframe tbody tr th {\n",
       "        vertical-align: top;\n",
       "    }\n",
       "\n",
       "    .dataframe thead th {\n",
       "        text-align: right;\n",
       "    }\n",
       "</style>\n",
       "<table border=\"1\" class=\"dataframe\">\n",
       "  <thead>\n",
       "    <tr style=\"text-align: right;\">\n",
       "      <th></th>\n",
       "      <th>Tweets</th>\n",
       "      <th>User</th>\n",
       "      <th>User_statuses_count</th>\n",
       "      <th>User_followers</th>\n",
       "      <th>User_location</th>\n",
       "      <th>User_verified</th>\n",
       "      <th>fav_count</th>\n",
       "      <th>rt_count</th>\n",
       "      <th>tweet_data</th>\n",
       "      <th>user_followers</th>\n",
       "      <th>tweet_date</th>\n",
       "    </tr>\n",
       "  </thead>\n",
       "  <tbody>\n",
       "    <tr>\n",
       "      <th>0</th>\n",
       "      <td>Data Science Online Training in India. https:/...</td>\n",
       "      <td>Revanth Technologies</td>\n",
       "      <td>618</td>\n",
       "      <td>NaN</td>\n",
       "      <td>Hyderabad, India</td>\n",
       "      <td>False</td>\n",
       "      <td>0</td>\n",
       "      <td>0</td>\n",
       "      <td>NaN</td>\n",
       "      <td>125.0</td>\n",
       "      <td>2020-10-30 12:12:55</td>\n",
       "    </tr>\n",
       "    <tr>\n",
       "      <th>1</th>\n",
       "      <td>The data science job market is actually growin...</td>\n",
       "      <td>Abhimanyu🇬</td>\n",
       "      <td>13936</td>\n",
       "      <td>NaN</td>\n",
       "      <td>Mumbai</td>\n",
       "      <td>False</td>\n",
       "      <td>0</td>\n",
       "      <td>0</td>\n",
       "      <td>NaN</td>\n",
       "      <td>244.0</td>\n",
       "      <td>2020-10-30 12:07:27</td>\n",
       "    </tr>\n",
       "    <tr>\n",
       "      <th>2</th>\n",
       "      <td>RT @qwiklabs: AgroStar helps farmers in India ...</td>\n",
       "      <td>Purevdorj Enkhjargal</td>\n",
       "      <td>81280</td>\n",
       "      <td>NaN</td>\n",
       "      <td>Mongolia</td>\n",
       "      <td>False</td>\n",
       "      <td>0</td>\n",
       "      <td>8</td>\n",
       "      <td>NaN</td>\n",
       "      <td>2391.0</td>\n",
       "      <td>2020-10-30 08:07:21</td>\n",
       "    </tr>\n",
       "    <tr>\n",
       "      <th>3</th>\n",
       "      <td>RT @qwiklabs: AgroStar helps farmers in India ...</td>\n",
       "      <td>Sayanta Banerjee</td>\n",
       "      <td>147</td>\n",
       "      <td>NaN</td>\n",
       "      <td>Kolkata, India</td>\n",
       "      <td>False</td>\n",
       "      <td>0</td>\n",
       "      <td>8</td>\n",
       "      <td>NaN</td>\n",
       "      <td>35.0</td>\n",
       "      <td>2020-10-30 08:07:14</td>\n",
       "    </tr>\n",
       "    <tr>\n",
       "      <th>4</th>\n",
       "      <td>RT @WHO: What have we learnt and what’s the wa...</td>\n",
       "      <td>India Health Fund</td>\n",
       "      <td>470</td>\n",
       "      <td>NaN</td>\n",
       "      <td>Mumbai, Maharashtra</td>\n",
       "      <td>False</td>\n",
       "      <td>0</td>\n",
       "      <td>66</td>\n",
       "      <td>NaN</td>\n",
       "      <td>487.0</td>\n",
       "      <td>2020-10-30 07:36:53</td>\n",
       "    </tr>\n",
       "  </tbody>\n",
       "</table>\n",
       "</div>"
      ],
      "text/plain": [
       "                                              Tweets                  User  \\\n",
       "0  Data Science Online Training in India. https:/...  Revanth Technologies   \n",
       "1  The data science job market is actually growin...            Abhimanyu🇬   \n",
       "2  RT @qwiklabs: AgroStar helps farmers in India ...  Purevdorj Enkhjargal   \n",
       "3  RT @qwiklabs: AgroStar helps farmers in India ...      Sayanta Banerjee   \n",
       "4  RT @WHO: What have we learnt and what’s the wa...     India Health Fund   \n",
       "\n",
       "  User_statuses_count User_followers        User_location User_verified  \\\n",
       "0                 618            NaN     Hyderabad, India         False   \n",
       "1               13936            NaN               Mumbai         False   \n",
       "2               81280            NaN             Mongolia         False   \n",
       "3                 147            NaN       Kolkata, India         False   \n",
       "4                 470            NaN  Mumbai, Maharashtra         False   \n",
       "\n",
       "  fav_count rt_count tweet_data  user_followers          tweet_date  \n",
       "0         0        0        NaN           125.0 2020-10-30 12:12:55  \n",
       "1         0        0        NaN           244.0 2020-10-30 12:07:27  \n",
       "2         0        8        NaN          2391.0 2020-10-30 08:07:21  \n",
       "3         0        8        NaN            35.0 2020-10-30 08:07:14  \n",
       "4         0       66        NaN           487.0 2020-10-30 07:36:53  "
      ]
     },
     "execution_count": 60,
     "metadata": {},
     "output_type": "execute_result"
    }
   ],
   "source": [
    "df.head()"
   ]
  },
  {
   "cell_type": "code",
   "execution_count": 17,
   "metadata": {},
   "outputs": [],
   "source": [
    "!pip install textblob "
   ]
  },
  {
   "cell_type": "markdown",
   "metadata": {},
   "source": [
    "has a in-built sentiment analyser\n",
    "\n",
    "returns polarity (-1 to +1) / Sentiment(polarity,sensitivity)\n",
    "\n",
    "subjectivity (0.0 meansvery objective means to the point & \n",
    "\n",
    "1.0 very much subjective means on a topic or discussion"
   ]
  },
  {
   "cell_type": "code",
   "execution_count": 41,
   "metadata": {},
   "outputs": [],
   "source": [
    "from textblob import TextBlob"
   ]
  },
  {
   "cell_type": "markdown",
   "metadata": {},
   "source": []
  },
  {
   "cell_type": "markdown",
   "metadata": {},
   "source": [
    "__re__\n",
    "\n",
    "sub: substitute\n",
    "\n",
    "- >  (@[A-Za-z0-9]+) & 'space' - means if tweet has symbols, then get only text & replace symbol by space ^ denotes \n",
    "\n",
    "\n",
    "- >  [^0-9A-Za-z \\t] & tweet :^ symbl means other than this & full line means keep the tweet with space & numbers other than mentioned number & alphabets\n",
    "\n",
    "\n",
    "- > (\\w+:\\/\\/\\S+) Ifwebsite (https://.....) the single slash of https represented as (\\/) so for two(//) it is (\\/\\/) & for one or more words or spaces (\\w+ & \\S+)\n",
    "\n",
    "This get the clean text"
   ]
  },
  {
   "cell_type": "code",
   "execution_count": 44,
   "metadata": {},
   "outputs": [],
   "source": [
    "\n",
    "import re #remove all the irrelavant symbols as it will not be used in our analysis\n",
    "def clean_tweet(tweet):\n",
    "    return ' '.join(re.sub('(@[A-Za-z0-9]+)|([^0-9A-Za-z \\t])|(\\w+:\\/\\/\\S+)', ' ', tweet).split()) # remove useless symbol-replace with \"space\""
   ]
  },
  {
   "cell_type": "code",
   "execution_count": 61,
   "metadata": {},
   "outputs": [],
   "source": [
    "def analyze_sentiment(tweet):\n",
    "    \n",
    "    analysis = TextBlob(tweet) # object of textbol which takes tweet\n",
    "    \n",
    "    if analysis.sentiment.polarity > 0: #define sentiments loop if-else, getting polarity as of now but,can also get subjectivity too\n",
    "        return 'Positive'\n",
    "    elif analysis.sentiment.polarity == 0:\n",
    "        return 'Neutral'\n",
    "    else:\n",
    "        return 'Negative'"
   ]
  },
  {
   "cell_type": "code",
   "execution_count": 62,
   "metadata": {},
   "outputs": [],
   "source": [
    "df['clean_tweet'] = df['Tweets'].apply(lambda x : clean_tweet(x)) #clean the tweets from df, apply this function using lambda function & store it in some variable \"clean_tweet\""
   ]
  },
  {
   "cell_type": "code",
   "execution_count": 51,
   "metadata": {},
   "outputs": [
    {
     "data": {
      "text/html": [
       "<div>\n",
       "<style scoped>\n",
       "    .dataframe tbody tr th:only-of-type {\n",
       "        vertical-align: middle;\n",
       "    }\n",
       "\n",
       "    .dataframe tbody tr th {\n",
       "        vertical-align: top;\n",
       "    }\n",
       "\n",
       "    .dataframe thead th {\n",
       "        text-align: right;\n",
       "    }\n",
       "</style>\n",
       "<table border=\"1\" class=\"dataframe\">\n",
       "  <thead>\n",
       "    <tr style=\"text-align: right;\">\n",
       "      <th></th>\n",
       "      <th>Tweets</th>\n",
       "      <th>User</th>\n",
       "      <th>User_statuses_count</th>\n",
       "      <th>User_followers</th>\n",
       "      <th>User_location</th>\n",
       "      <th>User_verified</th>\n",
       "      <th>fav_count</th>\n",
       "      <th>rt_count</th>\n",
       "      <th>tweet_data</th>\n",
       "      <th>user_followers</th>\n",
       "      <th>tweet_date</th>\n",
       "      <th>clean_tweet</th>\n",
       "      <th>Sentiment</th>\n",
       "    </tr>\n",
       "  </thead>\n",
       "  <tbody>\n",
       "    <tr>\n",
       "      <th>0</th>\n",
       "      <td>Data Science Online Training in India. https:/...</td>\n",
       "      <td>Revanth Technologies</td>\n",
       "      <td>618</td>\n",
       "      <td>NaN</td>\n",
       "      <td>Hyderabad, India</td>\n",
       "      <td>False</td>\n",
       "      <td>0</td>\n",
       "      <td>0</td>\n",
       "      <td>NaN</td>\n",
       "      <td>125.0</td>\n",
       "      <td>2020-10-30 12:12:55</td>\n",
       "      <td>Data Science Online Training in India DataScie...</td>\n",
       "      <td>Neutral</td>\n",
       "    </tr>\n",
       "    <tr>\n",
       "      <th>1</th>\n",
       "      <td>The data science job market is actually growin...</td>\n",
       "      <td>Abhimanyu🇬</td>\n",
       "      <td>13936</td>\n",
       "      <td>NaN</td>\n",
       "      <td>Mumbai</td>\n",
       "      <td>False</td>\n",
       "      <td>0</td>\n",
       "      <td>0</td>\n",
       "      <td>NaN</td>\n",
       "      <td>244.0</td>\n",
       "      <td>2020-10-30 12:07:27</td>\n",
       "      <td>The data science job market is actually growin...</td>\n",
       "      <td>Negative</td>\n",
       "    </tr>\n",
       "    <tr>\n",
       "      <th>2</th>\n",
       "      <td>RT @qwiklabs: AgroStar helps farmers in India ...</td>\n",
       "      <td>Purevdorj Enkhjargal</td>\n",
       "      <td>81279</td>\n",
       "      <td>NaN</td>\n",
       "      <td>Mongolia</td>\n",
       "      <td>False</td>\n",
       "      <td>0</td>\n",
       "      <td>8</td>\n",
       "      <td>NaN</td>\n",
       "      <td>2389.0</td>\n",
       "      <td>2020-10-30 08:07:21</td>\n",
       "      <td>RT AgroStar helps farmers in India improve the...</td>\n",
       "      <td>Neutral</td>\n",
       "    </tr>\n",
       "    <tr>\n",
       "      <th>3</th>\n",
       "      <td>RT @qwiklabs: AgroStar helps farmers in India ...</td>\n",
       "      <td>Sayanta Banerjee</td>\n",
       "      <td>147</td>\n",
       "      <td>NaN</td>\n",
       "      <td>Kolkata, India</td>\n",
       "      <td>False</td>\n",
       "      <td>0</td>\n",
       "      <td>8</td>\n",
       "      <td>NaN</td>\n",
       "      <td>35.0</td>\n",
       "      <td>2020-10-30 08:07:14</td>\n",
       "      <td>RT AgroStar helps farmers in India improve the...</td>\n",
       "      <td>Neutral</td>\n",
       "    </tr>\n",
       "    <tr>\n",
       "      <th>4</th>\n",
       "      <td>RT @WHO: What have we learnt and what’s the wa...</td>\n",
       "      <td>India Health Fund</td>\n",
       "      <td>470</td>\n",
       "      <td>NaN</td>\n",
       "      <td>Mumbai, Maharashtra</td>\n",
       "      <td>False</td>\n",
       "      <td>0</td>\n",
       "      <td>66</td>\n",
       "      <td>NaN</td>\n",
       "      <td>487.0</td>\n",
       "      <td>2020-10-30 07:36:53</td>\n",
       "      <td>RT What have we learnt and what s the way forw...</td>\n",
       "      <td>Neutral</td>\n",
       "    </tr>\n",
       "  </tbody>\n",
       "</table>\n",
       "</div>"
      ],
      "text/plain": [
       "                                              Tweets                  User  \\\n",
       "0  Data Science Online Training in India. https:/...  Revanth Technologies   \n",
       "1  The data science job market is actually growin...            Abhimanyu🇬   \n",
       "2  RT @qwiklabs: AgroStar helps farmers in India ...  Purevdorj Enkhjargal   \n",
       "3  RT @qwiklabs: AgroStar helps farmers in India ...      Sayanta Banerjee   \n",
       "4  RT @WHO: What have we learnt and what’s the wa...     India Health Fund   \n",
       "\n",
       "  User_statuses_count User_followers        User_location User_verified  \\\n",
       "0                 618            NaN     Hyderabad, India         False   \n",
       "1               13936            NaN               Mumbai         False   \n",
       "2               81279            NaN             Mongolia         False   \n",
       "3                 147            NaN       Kolkata, India         False   \n",
       "4                 470            NaN  Mumbai, Maharashtra         False   \n",
       "\n",
       "  fav_count rt_count tweet_data  user_followers          tweet_date  \\\n",
       "0         0        0        NaN           125.0 2020-10-30 12:12:55   \n",
       "1         0        0        NaN           244.0 2020-10-30 12:07:27   \n",
       "2         0        8        NaN          2389.0 2020-10-30 08:07:21   \n",
       "3         0        8        NaN            35.0 2020-10-30 08:07:14   \n",
       "4         0       66        NaN           487.0 2020-10-30 07:36:53   \n",
       "\n",
       "                                         clean_tweet Sentiment  \n",
       "0  Data Science Online Training in India DataScie...   Neutral  \n",
       "1  The data science job market is actually growin...  Negative  \n",
       "2  RT AgroStar helps farmers in India improve the...   Neutral  \n",
       "3  RT AgroStar helps farmers in India improve the...   Neutral  \n",
       "4  RT What have we learnt and what s the way forw...   Neutral  "
      ]
     },
     "execution_count": 51,
     "metadata": {},
     "output_type": "execute_result"
    }
   ],
   "source": [
    "df.head()"
   ]
  },
  {
   "cell_type": "code",
   "execution_count": 63,
   "metadata": {},
   "outputs": [
    {
     "data": {
      "text/html": [
       "<div>\n",
       "<style scoped>\n",
       "    .dataframe tbody tr th:only-of-type {\n",
       "        vertical-align: middle;\n",
       "    }\n",
       "\n",
       "    .dataframe tbody tr th {\n",
       "        vertical-align: top;\n",
       "    }\n",
       "\n",
       "    .dataframe thead th {\n",
       "        text-align: right;\n",
       "    }\n",
       "</style>\n",
       "<table border=\"1\" class=\"dataframe\">\n",
       "  <thead>\n",
       "    <tr style=\"text-align: right;\">\n",
       "      <th></th>\n",
       "      <th>Tweets</th>\n",
       "      <th>User</th>\n",
       "      <th>User_statuses_count</th>\n",
       "      <th>User_followers</th>\n",
       "      <th>User_location</th>\n",
       "      <th>User_verified</th>\n",
       "      <th>fav_count</th>\n",
       "      <th>rt_count</th>\n",
       "      <th>tweet_data</th>\n",
       "      <th>user_followers</th>\n",
       "      <th>tweet_date</th>\n",
       "      <th>clean_tweet</th>\n",
       "      <th>Sentiment</th>\n",
       "    </tr>\n",
       "  </thead>\n",
       "  <tbody>\n",
       "    <tr>\n",
       "      <th>0</th>\n",
       "      <td>Data Science Online Training in India. https:/...</td>\n",
       "      <td>Revanth Technologies</td>\n",
       "      <td>618</td>\n",
       "      <td>NaN</td>\n",
       "      <td>Hyderabad, India</td>\n",
       "      <td>False</td>\n",
       "      <td>0</td>\n",
       "      <td>0</td>\n",
       "      <td>NaN</td>\n",
       "      <td>125.0</td>\n",
       "      <td>2020-10-30 12:12:55</td>\n",
       "      <td>Data Science Online Training in India DataScie...</td>\n",
       "      <td>Neutral</td>\n",
       "    </tr>\n",
       "    <tr>\n",
       "      <th>1</th>\n",
       "      <td>The data science job market is actually growin...</td>\n",
       "      <td>Abhimanyu🇬</td>\n",
       "      <td>13936</td>\n",
       "      <td>NaN</td>\n",
       "      <td>Mumbai</td>\n",
       "      <td>False</td>\n",
       "      <td>0</td>\n",
       "      <td>0</td>\n",
       "      <td>NaN</td>\n",
       "      <td>244.0</td>\n",
       "      <td>2020-10-30 12:07:27</td>\n",
       "      <td>The data science job market is actually growin...</td>\n",
       "      <td>Negative</td>\n",
       "    </tr>\n",
       "    <tr>\n",
       "      <th>2</th>\n",
       "      <td>RT @qwiklabs: AgroStar helps farmers in India ...</td>\n",
       "      <td>Purevdorj Enkhjargal</td>\n",
       "      <td>81280</td>\n",
       "      <td>NaN</td>\n",
       "      <td>Mongolia</td>\n",
       "      <td>False</td>\n",
       "      <td>0</td>\n",
       "      <td>8</td>\n",
       "      <td>NaN</td>\n",
       "      <td>2391.0</td>\n",
       "      <td>2020-10-30 08:07:21</td>\n",
       "      <td>RT AgroStar helps farmers in India improve the...</td>\n",
       "      <td>Neutral</td>\n",
       "    </tr>\n",
       "    <tr>\n",
       "      <th>3</th>\n",
       "      <td>RT @qwiklabs: AgroStar helps farmers in India ...</td>\n",
       "      <td>Sayanta Banerjee</td>\n",
       "      <td>147</td>\n",
       "      <td>NaN</td>\n",
       "      <td>Kolkata, India</td>\n",
       "      <td>False</td>\n",
       "      <td>0</td>\n",
       "      <td>8</td>\n",
       "      <td>NaN</td>\n",
       "      <td>35.0</td>\n",
       "      <td>2020-10-30 08:07:14</td>\n",
       "      <td>RT AgroStar helps farmers in India improve the...</td>\n",
       "      <td>Neutral</td>\n",
       "    </tr>\n",
       "    <tr>\n",
       "      <th>4</th>\n",
       "      <td>RT @WHO: What have we learnt and what’s the wa...</td>\n",
       "      <td>India Health Fund</td>\n",
       "      <td>470</td>\n",
       "      <td>NaN</td>\n",
       "      <td>Mumbai, Maharashtra</td>\n",
       "      <td>False</td>\n",
       "      <td>0</td>\n",
       "      <td>66</td>\n",
       "      <td>NaN</td>\n",
       "      <td>487.0</td>\n",
       "      <td>2020-10-30 07:36:53</td>\n",
       "      <td>RT What have we learnt and what s the way forw...</td>\n",
       "      <td>Neutral</td>\n",
       "    </tr>\n",
       "  </tbody>\n",
       "</table>\n",
       "</div>"
      ],
      "text/plain": [
       "                                              Tweets                  User  \\\n",
       "0  Data Science Online Training in India. https:/...  Revanth Technologies   \n",
       "1  The data science job market is actually growin...            Abhimanyu🇬   \n",
       "2  RT @qwiklabs: AgroStar helps farmers in India ...  Purevdorj Enkhjargal   \n",
       "3  RT @qwiklabs: AgroStar helps farmers in India ...      Sayanta Banerjee   \n",
       "4  RT @WHO: What have we learnt and what’s the wa...     India Health Fund   \n",
       "\n",
       "  User_statuses_count User_followers        User_location User_verified  \\\n",
       "0                 618            NaN     Hyderabad, India         False   \n",
       "1               13936            NaN               Mumbai         False   \n",
       "2               81280            NaN             Mongolia         False   \n",
       "3                 147            NaN       Kolkata, India         False   \n",
       "4                 470            NaN  Mumbai, Maharashtra         False   \n",
       "\n",
       "  fav_count rt_count tweet_data  user_followers          tweet_date  \\\n",
       "0         0        0        NaN           125.0 2020-10-30 12:12:55   \n",
       "1         0        0        NaN           244.0 2020-10-30 12:07:27   \n",
       "2         0        8        NaN          2391.0 2020-10-30 08:07:21   \n",
       "3         0        8        NaN            35.0 2020-10-30 08:07:14   \n",
       "4         0       66        NaN           487.0 2020-10-30 07:36:53   \n",
       "\n",
       "                                         clean_tweet Sentiment  \n",
       "0  Data Science Online Training in India DataScie...   Neutral  \n",
       "1  The data science job market is actually growin...  Negative  \n",
       "2  RT AgroStar helps farmers in India improve the...   Neutral  \n",
       "3  RT AgroStar helps farmers in India improve the...   Neutral  \n",
       "4  RT What have we learnt and what s the way forw...   Neutral  "
      ]
     },
     "execution_count": 63,
     "metadata": {},
     "output_type": "execute_result"
    }
   ],
   "source": [
    "df['Sentiment'] = df['clean_tweet'].apply(lambda x : analyze_sentiment(x) )\n",
    "df.head()"
   ]
  },
  {
   "cell_type": "code",
   "execution_count": 73,
   "metadata": {},
   "outputs": [
    {
     "data": {
      "text/plain": [
       "(263, 13)"
      ]
     },
     "execution_count": 73,
     "metadata": {},
     "output_type": "execute_result"
    }
   ],
   "source": [
    "df.shape"
   ]
  },
  {
   "cell_type": "code",
   "execution_count": 66,
   "metadata": {},
   "outputs": [
    {
     "name": "stdout",
     "output_type": "stream",
     "text": [
      "Original tweet:\n",
      " Day 216: hiring for #Remote Product Manager?\n",
      "\n",
      "Check this profile👇\n",
      "\n",
      "🌟Profile Highlight: Education from IIT Madras (t… https://t.co/8D6CXUlXEy\n",
      "\n",
      "Clean tweet:\n",
      " Day 216 hiring for Remote Product Manager Check this profile Profile Highlight Education from IIT Madras t\n",
      "\n",
      "Sentiment of the tweet:\n",
      " Negative\n"
     ]
    }
   ],
   "source": [
    "n = 5\n",
    "print(\"Original tweet:\\n\",df['Tweets'][n]) #from the original stored value\n",
    "print() #lank print to have a space \n",
    "print(\"Clean tweet:\\n\",df['clean_tweet'][n]) #clean tweet\n",
    "print()\n",
    "print(\"Sentiment of the tweet:\\n\",df['Sentiment'][n]) #printing the sentiment of the tweet"
   ]
  },
  {
   "cell_type": "code",
   "execution_count": 68,
   "metadata": {},
   "outputs": [
    {
     "name": "stdout",
     "output_type": "stream",
     "text": [
      "Original tweet:\n",
      " RT @qwiklabs: AgroStar helps farmers in India improve their crop yields using data science, agronomy, and Google analytics. Join this week-…\n",
      "\n",
      "Clean tweet:\n",
      " RT AgroStar helps farmers in India improve their crop yields using data science agronomy and Google analytics Join this week\n",
      "\n",
      "Sentiment of the tweet:\n",
      " Neutral\n"
     ]
    }
   ],
   "source": [
    "n = 2\n",
    "print(\"Original tweet:\\n\",df['Tweets'][n])\n",
    "print()\n",
    "print(\"Clean tweet:\\n\",df['clean_tweet'][n])\n",
    "print()\n",
    "print(\"Sentiment of the tweet:\\n\",df['Sentiment'][n])"
   ]
  },
  {
   "cell_type": "code",
   "execution_count": 69,
   "metadata": {},
   "outputs": [
    {
     "name": "stdout",
     "output_type": "stream",
     "text": [
      "Original tweet:\n",
      " RT @Edvancer: The rankings which are published by Analytics India Magazine (#AIM) has ranked  Edvancer’s PG Program in Data science –UPES c…\n",
      "\n",
      "Clean tweet:\n",
      " RT The rankings which are published by Analytics India Magazine AIM has ranked Edvancer s PG Program in Data science UPES c\n",
      "\n",
      "Sentiment of the tweet:\n",
      " Neutral\n"
     ]
    }
   ],
   "source": [
    "\n",
    "n = 255\n",
    "print(\"Original tweet:\\n\",df['Tweets'][n])\n",
    "print()\n",
    "print(\"Clean tweet:\\n\",df['clean_tweet'][n])\n",
    "print()\n",
    "print(\"Sentiment of the tweet:\\n\",df['Sentiment'][n])"
   ]
  },
  {
   "cell_type": "code",
   "execution_count": 70,
   "metadata": {},
   "outputs": [
    {
     "data": {
      "text/plain": [
       "53"
      ]
     },
     "execution_count": 70,
     "metadata": {},
     "output_type": "execute_result"
    }
   ],
   "source": [
    "df[df.Sentiment == 'Positive'].shape[0] #total number of positive tweets retrieved/identified"
   ]
  },
  {
   "cell_type": "code",
   "execution_count": 71,
   "metadata": {},
   "outputs": [
    {
     "data": {
      "text/plain": [
       "140"
      ]
     },
     "execution_count": 71,
     "metadata": {},
     "output_type": "execute_result"
    }
   ],
   "source": [
    "df[df.Sentiment == 'Neutral'].shape[0]#total number of Neutral tweets retrieved/identified"
   ]
  },
  {
   "cell_type": "code",
   "execution_count": 72,
   "metadata": {},
   "outputs": [
    {
     "data": {
      "text/plain": [
       "70"
      ]
     },
     "execution_count": 72,
     "metadata": {},
     "output_type": "execute_result"
    }
   ],
   "source": [
    "df[df.Sentiment == 'Negative'].shape[0]#total number of Negative tweets retrieved/identified"
   ]
  },
  {
   "cell_type": "markdown",
   "metadata": {},
   "source": [
    "### Splitting the data"
   ]
  },
  {
   "cell_type": "code",
   "execution_count": null,
   "metadata": {},
   "outputs": [],
   "source": [
    "df.head()"
   ]
  }
 ],
 "metadata": {
  "kernelspec": {
   "display_name": "Python 3",
   "language": "python",
   "name": "python3"
  },
  "language_info": {
   "codemirror_mode": {
    "name": "ipython",
    "version": 3
   },
   "file_extension": ".py",
   "mimetype": "text/x-python",
   "name": "python",
   "nbconvert_exporter": "python",
   "pygments_lexer": "ipython3",
   "version": "3.6.10"
  }
 },
 "nbformat": 4,
 "nbformat_minor": 4
}
