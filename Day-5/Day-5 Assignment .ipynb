{
 "cells": [
  {
   "cell_type": "markdown",
   "metadata": {},
   "source": [
    "### Question 1 :   \n",
    "Write a Python program to find the first 20 non-even prime natural numbers."
   ]
  },
  {
   "cell_type": "code",
   "execution_count": 281,
   "metadata": {},
   "outputs": [
    {
     "name": "stdout",
     "output_type": "stream",
     "text": [
      "Prime numbers between 1 and  100  are:\n",
      "[3, 5, 7, 11, 13, 17, 19, 23, 29, 31, 37, 41, 43, 47, 53, 59, 61, 67, 71, 73] "
     ]
    }
   ],
   "source": [
    "prime_list=[]\n",
    "def print_first_N_primes(N): \n",
    "    \n",
    "    print(\"Prime numbers between 1 and \", N , \" are:\") \n",
    "    \n",
    "    \n",
    "    for i in range(1, N): \n",
    "  \n",
    "        if (i == 1 or i == 0):\n",
    "            continue \n",
    "        \n",
    "        x = 1 \n",
    "        for j in range(2, ((i // 2) + 1), 1): \n",
    "            if (i % j == 0):\n",
    "                x = 0 \n",
    "                break \n",
    "    \n",
    "        if (x == 1): \n",
    "            prime_list.append(i)\n",
    "  \n",
    "\n",
    "N =100; \n",
    "print_first_N_primes(N)\n",
    "\n",
    "print(prime_list[1:21], end=\" \")\n",
    "\n"
   ]
  },
  {
   "cell_type": "markdown",
   "metadata": {},
   "source": [
    "### Question 2 :\n",
    "Write a Python program to implement 15 functions of string."
   ]
  },
  {
   "cell_type": "code",
   "execution_count": 91,
   "metadata": {},
   "outputs": [],
   "source": [
    "s1= 'I am learning ML'\n",
    "s2= 'From online platform'"
   ]
  },
  {
   "cell_type": "code",
   "execution_count": 92,
   "metadata": {},
   "outputs": [
    {
     "data": {
      "text/plain": [
       "['I', 'am', 'learning', 'ML']"
      ]
     },
     "execution_count": 92,
     "metadata": {},
     "output_type": "execute_result"
    }
   ],
   "source": [
    "s1.split() #Split funtion used to split a string into alist of string values."
   ]
  },
  {
   "cell_type": "code",
   "execution_count": 93,
   "metadata": {},
   "outputs": [
    {
     "data": {
      "text/plain": [
       "'I am learning machine learning'"
      ]
     },
     "execution_count": 93,
     "metadata": {},
     "output_type": "execute_result"
    }
   ],
   "source": [
    "s1.replace('ML', 'machine learning') #replaces the first parameter with second parameter in bracket & no changes in the original."
   ]
  },
  {
   "cell_type": "code",
   "execution_count": 94,
   "metadata": {},
   "outputs": [
    {
     "name": "stdout",
     "output_type": "stream",
     "text": [
      "14\n",
      "17\n"
     ]
    }
   ],
   "source": [
    "print(s2.find('a')) #finds the index of the letter provided\n",
    "print(s2.find('o',6)) # finds letter 'o' after the specified index valur '6'"
   ]
  },
  {
   "cell_type": "code",
   "execution_count": 95,
   "metadata": {},
   "outputs": [
    {
     "data": {
      "text/plain": [
       "'FROM ONLINE PLATFORM'"
      ]
     },
     "execution_count": 95,
     "metadata": {},
     "output_type": "execute_result"
    }
   ],
   "source": [
    "s2.upper() #changes all to uppercase letters"
   ]
  },
  {
   "cell_type": "code",
   "execution_count": 96,
   "metadata": {},
   "outputs": [
    {
     "data": {
      "text/plain": [
       "'i am learning ml'"
      ]
     },
     "execution_count": 96,
     "metadata": {},
     "output_type": "execute_result"
    }
   ],
   "source": [
    "s1.lower() #changes all to lowercase letters"
   ]
  },
  {
   "cell_type": "code",
   "execution_count": 97,
   "metadata": {},
   "outputs": [
    {
     "data": {
      "text/plain": [
       "'Hey! I am learning ML, using resources From online platform'"
      ]
     },
     "execution_count": 97,
     "metadata": {},
     "output_type": "execute_result"
    }
   ],
   "source": [
    "'Hey! {s1}, using resources {s2}'.format(s1=s1,s2=s2) #String formatting |"
   ]
  },
  {
   "cell_type": "code",
   "execution_count": 99,
   "metadata": {},
   "outputs": [
    {
     "data": {
      "text/plain": [
       "'I am learning ML'"
      ]
     },
     "execution_count": 99,
     "metadata": {},
     "output_type": "execute_result"
    }
   ],
   "source": [
    "s1= '    I am learning ML    '\n",
    "s2= '   From online platform   '\n",
    "\n",
    "s1.strip() #Strips away all the extra white spaces before & after any string"
   ]
  },
  {
   "cell_type": "code",
   "execution_count": 106,
   "metadata": {},
   "outputs": [
    {
     "data": {
      "text/plain": [
       "False"
      ]
     },
     "execution_count": 106,
     "metadata": {},
     "output_type": "execute_result"
    }
   ],
   "source": [
    "s1= 'i am learning ML'\n",
    "s2= 'from online platform'\n",
    "s1.startswith('am') #returns boolean output for given argument"
   ]
  },
  {
   "cell_type": "code",
   "execution_count": 107,
   "metadata": {},
   "outputs": [
    {
     "data": {
      "text/plain": [
       "True"
      ]
     },
     "execution_count": 107,
     "metadata": {},
     "output_type": "execute_result"
    }
   ],
   "source": [
    "s2.endswith('platform')"
   ]
  },
  {
   "cell_type": "code",
   "execution_count": 108,
   "metadata": {},
   "outputs": [
    {
     "data": {
      "text/plain": [
       "'I am learning ml'"
      ]
     },
     "execution_count": 108,
     "metadata": {},
     "output_type": "execute_result"
    }
   ],
   "source": [
    "s1.capitalize() #reurns first letter with capital & rest lowercase"
   ]
  },
  {
   "cell_type": "code",
   "execution_count": 115,
   "metadata": {},
   "outputs": [
    {
     "data": {
      "text/plain": [
       "'   i am learning ML   '"
      ]
     },
     "execution_count": 115,
     "metadata": {},
     "output_type": "execute_result"
    }
   ],
   "source": [
    "s1.center(22) #returns a centered string of specified size."
   ]
  },
  {
   "cell_type": "code",
   "execution_count": 117,
   "metadata": {},
   "outputs": [
    {
     "data": {
      "text/plain": [
       "False"
      ]
     },
     "execution_count": 117,
     "metadata": {},
     "output_type": "execute_result"
    }
   ],
   "source": [
    "s2.isalnum() #returns boolean output True is all values are made of alpha numeric values."
   ]
  },
  {
   "cell_type": "code",
   "execution_count": 121,
   "metadata": {},
   "outputs": [
    {
     "data": {
      "text/plain": [
       "False"
      ]
     },
     "execution_count": 121,
     "metadata": {},
     "output_type": "execute_result"
    }
   ],
   "source": [
    "s1='I am learning ML'\n",
    "s1.isalpha()"
   ]
  },
  {
   "cell_type": "code",
   "execution_count": 123,
   "metadata": {},
   "outputs": [
    {
     "data": {
      "text/plain": [
       "True"
      ]
     },
     "execution_count": 123,
     "metadata": {},
     "output_type": "execute_result"
    }
   ],
   "source": [
    "s3='023231313' #returns true for all values of string are digits.\n",
    "s3.isdigit()"
   ]
  },
  {
   "cell_type": "code",
   "execution_count": 124,
   "metadata": {},
   "outputs": [
    {
     "data": {
      "text/plain": [
       "['from online platform']"
      ]
     },
     "execution_count": 124,
     "metadata": {},
     "output_type": "execute_result"
    }
   ],
   "source": [
    "s2.splitlines() #returns a list of line in the string"
   ]
  },
  {
   "cell_type": "code",
   "execution_count": 125,
   "metadata": {},
   "outputs": [
    {
     "data": {
      "text/plain": [
       "'i AM LEARNING ml'"
      ]
     },
     "execution_count": 125,
     "metadata": {},
     "output_type": "execute_result"
    }
   ],
   "source": [
    "s1.swapcase() #changes lower to upper & vice versa"
   ]
  },
  {
   "cell_type": "markdown",
   "metadata": {},
   "source": [
    "### Question 3:\n",
    "Write a Python program to check if the given string is a Palindrome or Anagram or None of them.\n",
    "Display the message accordingly to the user."
   ]
  },
  {
   "cell_type": "code",
   "execution_count": 180,
   "metadata": {},
   "outputs": [
    {
     "name": "stdout",
     "output_type": "stream",
     "text": [
      "Please enter your first entry: madam\n",
      "Please enter your second entry: akvjn\n",
      "The string 1 is a palindrome\n",
      "['a', 'a', 'd', 'm', 'm']\n",
      "The string 2 is not a Anagram\n"
     ]
    }
   ],
   "source": [
    "def ispalindrome(str1):\n",
    "    return str1 == str1[::-1]\n",
    "\n",
    "str1 = list(input(\"Please enter your first entry: \"))\n",
    "str2 = list(input(\"Please enter your second entry: \"))\n",
    "\n",
    "output = ispalindrome(str1)\n",
    "\n",
    "if output:\n",
    "    print(\"The string 1 is a palindrome\")\n",
    "else:\n",
    "    print(\"The entered string 1 is not a palindrome\")\n",
    "\n",
    "str1.sort()\n",
    "str2.sort()\n",
    "\n",
    "if str1==str2 :\n",
    "    print(\"The string 2 is a Anagram of string 1\")\n",
    "else:\n",
    "    print(\"The string 2 is not a Anagram\")\n"
   ]
  },
  {
   "cell_type": "markdown",
   "metadata": {},
   "source": [
    "### Question 4:\n",
    "Write a Python's user defined function that removes all the additional characters from the string\n",
    "and converts it finally to lower case using built-in lower(). eg: If the string is \"Dr. Darshan Ingle\n",
    "@AI-ML Trainer\", then the output be \"drdarshaningleaimltrainer\"."
   ]
  },
  {
   "cell_type": "code",
   "execution_count": 144,
   "metadata": {
    "scrolled": true
   },
   "outputs": [
    {
     "name": "stdout",
     "output_type": "stream",
     "text": [
      "Please enter a string containing alphanumeric & special characters: Hey! I am Le@rning about Machine LEARNIGN from LetsUpgrade $#%#^#*\n",
      "\n",
      "The string entered by the user is :  Hey! I am Le@rning about Machine LEARNIGN from LetsUpgrade $#%#^#*\n",
      "\n",
      "All the special character of the given string is removed & converted to lowercase\n",
      "\n",
      "The resulting string is: heyiamlerningaboutmachinelearnignfromletsupgrade\n"
     ]
    }
   ],
   "source": [
    "def remove_char(x):\n",
    "    exclude_char=['!','@','#','$','%','^','&','*','(',')','_','+','-','=',\" \",':',';',',','.','/','?','>','<']\n",
    "    for i in exclude_char:\n",
    "                  x = x.replace(i,'')\n",
    "                  x = x.lower()\n",
    "    print('\\nAll the special character of the given string is removed & converted to lowercase')\n",
    "    print('\\nThe resulting string is:', x)\n",
    "                  \n",
    " \n",
    "\n",
    "\n",
    "user_string = str(input('Please enter a string containing alphanumeric & special characters: '))\n",
    "print(\"\\nThe string entered by the user is : \", user_string)\n",
    "\n",
    "remove_char(user_string)"
   ]
  },
  {
   "cell_type": "code",
   "execution_count": null,
   "metadata": {},
   "outputs": [],
   "source": []
  }
 ],
 "metadata": {
  "kernelspec": {
   "display_name": "Python 3",
   "language": "python",
   "name": "python3"
  },
  "language_info": {
   "codemirror_mode": {
    "name": "ipython",
    "version": 3
   },
   "file_extension": ".py",
   "mimetype": "text/x-python",
   "name": "python",
   "nbconvert_exporter": "python",
   "pygments_lexer": "ipython3",
   "version": "3.6.10"
  }
 },
 "nbformat": 4,
 "nbformat_minor": 4
}
